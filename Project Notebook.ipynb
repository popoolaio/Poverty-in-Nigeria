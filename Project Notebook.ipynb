{
 "cells": [
  {
   "cell_type": "code",
   "execution_count": 69,
   "metadata": {},
   "outputs": [],
   "source": [
    "import numpy as np\n",
    "import pandas as pd \n",
    "import seaborn as sns\n",
    "import matplotlib.pyplot as plt \n",
    "%matplotlib inline "
   ]
  },
  {
   "cell_type": "code",
   "execution_count": 26,
   "metadata": {},
   "outputs": [
    {
     "data": {
      "text/html": [
       "<div>\n",
       "<style scoped>\n",
       "    .dataframe tbody tr th:only-of-type {\n",
       "        vertical-align: middle;\n",
       "    }\n",
       "\n",
       "    .dataframe tbody tr th {\n",
       "        vertical-align: top;\n",
       "    }\n",
       "\n",
       "    .dataframe thead th {\n",
       "        text-align: right;\n",
       "    }\n",
       "</style>\n",
       "<table border=\"1\" class=\"dataframe\">\n",
       "  <thead>\n",
       "    <tr style=\"text-align: right;\">\n",
       "      <th></th>\n",
       "      <th>Timestamp</th>\n",
       "      <th>Are you a Nigerian?</th>\n",
       "      <th>Gender</th>\n",
       "      <th>Age Group</th>\n",
       "      <th>Are you married?</th>\n",
       "      <th>Do you have kids?</th>\n",
       "      <th>Where do you live?</th>\n",
       "      <th>What part of your state do you live in?</th>\n",
       "      <th>Occupation</th>\n",
       "      <th>Are you Happy with your job?</th>\n",
       "      <th>...</th>\n",
       "      <th>Do you think it is enough for you and your family?</th>\n",
       "      <th>What are your other sources of income?</th>\n",
       "      <th>Do you pay your tax?</th>\n",
       "      <th>What is your largest form of expense</th>\n",
       "      <th>If there was one thing you really wanted to own, what would that be?</th>\n",
       "      <th>How much do you think you earn from all other sources of income in a month</th>\n",
       "      <th>On an average, how much do you think you spend in a month?</th>\n",
       "      <th>Do you think Nigeria can get better?</th>\n",
       "      <th>In a short sentence, describe your government</th>\n",
       "      <th>Please fill your email if you want to be notified once this research is completed.</th>\n",
       "    </tr>\n",
       "  </thead>\n",
       "  <tbody>\n",
       "    <tr>\n",
       "      <th>0</th>\n",
       "      <td>10/13/2019 17:45</td>\n",
       "      <td>Not Disclosed</td>\n",
       "      <td>Female</td>\n",
       "      <td>18 – 25</td>\n",
       "      <td>No</td>\n",
       "      <td>No</td>\n",
       "      <td>Lagos</td>\n",
       "      <td>Rural</td>\n",
       "      <td>NaN</td>\n",
       "      <td>No</td>\n",
       "      <td>...</td>\n",
       "      <td>No</td>\n",
       "      <td>NaN</td>\n",
       "      <td>No</td>\n",
       "      <td>Feeding</td>\n",
       "      <td>A Company</td>\n",
       "      <td>NaN</td>\n",
       "      <td>25000</td>\n",
       "      <td>Yes</td>\n",
       "      <td>Frustrating</td>\n",
       "      <td>ikeoluwa933@gmail.com</td>\n",
       "    </tr>\n",
       "    <tr>\n",
       "      <th>1</th>\n",
       "      <td>10/13/2019 18:13</td>\n",
       "      <td>Not Disclosed</td>\n",
       "      <td>Female</td>\n",
       "      <td>18 – 25</td>\n",
       "      <td>No</td>\n",
       "      <td>No</td>\n",
       "      <td>Lagos</td>\n",
       "      <td>Rural</td>\n",
       "      <td>No Job</td>\n",
       "      <td>No</td>\n",
       "      <td>...</td>\n",
       "      <td>No</td>\n",
       "      <td>Free Lancing</td>\n",
       "      <td>No</td>\n",
       "      <td>Transportation</td>\n",
       "      <td>A House</td>\n",
       "      <td>18000.0</td>\n",
       "      <td>20000</td>\n",
       "      <td>Yes</td>\n",
       "      <td>Greedy, self centered and dull</td>\n",
       "      <td>NaN</td>\n",
       "    </tr>\n",
       "    <tr>\n",
       "      <th>2</th>\n",
       "      <td>10/13/2019 20:11</td>\n",
       "      <td>Not Disclosed</td>\n",
       "      <td>Male</td>\n",
       "      <td>36 – 45</td>\n",
       "      <td>Yes</td>\n",
       "      <td>Yes</td>\n",
       "      <td>Lagos</td>\n",
       "      <td>City</td>\n",
       "      <td>Financial Services</td>\n",
       "      <td>Yes</td>\n",
       "      <td>...</td>\n",
       "      <td>No</td>\n",
       "      <td>Free Lancing</td>\n",
       "      <td>Yes</td>\n",
       "      <td>School Fees</td>\n",
       "      <td>A Company</td>\n",
       "      <td>40000.0</td>\n",
       "      <td>140000</td>\n",
       "      <td>Yes</td>\n",
       "      <td>Our government do not care about what the mass...</td>\n",
       "      <td>olanrewaju1temitayo@gmail.com</td>\n",
       "    </tr>\n",
       "    <tr>\n",
       "      <th>3</th>\n",
       "      <td>10/13/2019 20:17</td>\n",
       "      <td>Not Disclosed</td>\n",
       "      <td>Female</td>\n",
       "      <td>26 – 35</td>\n",
       "      <td>No</td>\n",
       "      <td>No</td>\n",
       "      <td>Lagos</td>\n",
       "      <td>City</td>\n",
       "      <td>Business</td>\n",
       "      <td>Yes</td>\n",
       "      <td>...</td>\n",
       "      <td>No</td>\n",
       "      <td>Buying and Selling</td>\n",
       "      <td>Yes</td>\n",
       "      <td>Transportation</td>\n",
       "      <td>Money</td>\n",
       "      <td>500000.0</td>\n",
       "      <td>100000</td>\n",
       "      <td>Yes</td>\n",
       "      <td>There is discrepancy in Nigeria's governance. ...</td>\n",
       "      <td>adewunmi.fatoki@gmail.com</td>\n",
       "    </tr>\n",
       "    <tr>\n",
       "      <th>4</th>\n",
       "      <td>10/14/2019 6:24</td>\n",
       "      <td>Not Disclosed</td>\n",
       "      <td>Male</td>\n",
       "      <td>26 – 35</td>\n",
       "      <td>No</td>\n",
       "      <td>No</td>\n",
       "      <td>Lagos</td>\n",
       "      <td>Rural</td>\n",
       "      <td>Engineering</td>\n",
       "      <td>Yes</td>\n",
       "      <td>...</td>\n",
       "      <td>Yes</td>\n",
       "      <td>Formal Job</td>\n",
       "      <td>Yes</td>\n",
       "      <td>Transportation</td>\n",
       "      <td>A Company</td>\n",
       "      <td>0.0</td>\n",
       "      <td>60000</td>\n",
       "      <td>Yes</td>\n",
       "      <td>It is a corrupt one lead by inconsiderate fell...</td>\n",
       "      <td>Johnnyark9@gmail.com</td>\n",
       "    </tr>\n",
       "  </tbody>\n",
       "</table>\n",
       "<p>5 rows × 22 columns</p>\n",
       "</div>"
      ],
      "text/plain": [
       "          Timestamp Are you a Nigerian?  Gender Age Group Are you married?  \\\n",
       "0  10/13/2019 17:45       Not Disclosed  Female   18 – 25               No   \n",
       "1  10/13/2019 18:13       Not Disclosed  Female   18 – 25               No   \n",
       "2  10/13/2019 20:11       Not Disclosed    Male   36 – 45              Yes   \n",
       "3  10/13/2019 20:17       Not Disclosed  Female   26 – 35               No   \n",
       "4   10/14/2019 6:24       Not Disclosed    Male   26 – 35               No   \n",
       "\n",
       "  Do you have kids? Where do you live?  \\\n",
       "0                No              Lagos   \n",
       "1                No              Lagos   \n",
       "2               Yes              Lagos   \n",
       "3                No              Lagos   \n",
       "4                No              Lagos   \n",
       "\n",
       "  What part of your state do you live in?          Occupation  \\\n",
       "0                                   Rural                 NaN   \n",
       "1                                   Rural              No Job   \n",
       "2                                    City  Financial Services   \n",
       "3                                    City            Business   \n",
       "4                                   Rural         Engineering   \n",
       "\n",
       "  Are you Happy with your job?  ...  \\\n",
       "0                           No  ...   \n",
       "1                           No  ...   \n",
       "2                          Yes  ...   \n",
       "3                          Yes  ...   \n",
       "4                          Yes  ...   \n",
       "\n",
       "  Do you think it is enough for you and your family?  \\\n",
       "0                                                 No   \n",
       "1                                                 No   \n",
       "2                                                 No   \n",
       "3                                                 No   \n",
       "4                                                Yes   \n",
       "\n",
       "  What are your other sources of income?  Do you pay your tax?  \\\n",
       "0                                     NaN                   No   \n",
       "1                            Free Lancing                   No   \n",
       "2                            Free Lancing                  Yes   \n",
       "3                      Buying and Selling                  Yes   \n",
       "4                              Formal Job                  Yes   \n",
       "\n",
       "  What is your largest form of expense  \\\n",
       "0                              Feeding   \n",
       "1                       Transportation   \n",
       "2                          School Fees   \n",
       "3                       Transportation   \n",
       "4                       Transportation   \n",
       "\n",
       "  If there was one thing you really wanted to own, what would that be?  \\\n",
       "0                                          A Company                     \n",
       "1                                            A House                     \n",
       "2                                          A Company                     \n",
       "3                                              Money                     \n",
       "4                                          A Company                     \n",
       "\n",
       "  How much do you think you earn from all other sources of income in a month  \\\n",
       "0                                                NaN                           \n",
       "1                                            18000.0                           \n",
       "2                                            40000.0                           \n",
       "3                                           500000.0                           \n",
       "4                                                0.0                           \n",
       "\n",
       "  On an average, how much do you think you spend in a month?  \\\n",
       "0                                              25000           \n",
       "1                                              20000           \n",
       "2                                             140000           \n",
       "3                                             100000           \n",
       "4                                              60000           \n",
       "\n",
       "   Do you think Nigeria can get better?  \\\n",
       "0                                   Yes   \n",
       "1                                   Yes   \n",
       "2                                   Yes   \n",
       "3                                   Yes   \n",
       "4                                   Yes   \n",
       "\n",
       "       In a short sentence, describe your government  \\\n",
       "0                                        Frustrating   \n",
       "1                     Greedy, self centered and dull   \n",
       "2  Our government do not care about what the mass...   \n",
       "3  There is discrepancy in Nigeria's governance. ...   \n",
       "4  It is a corrupt one lead by inconsiderate fell...   \n",
       "\n",
       "  Please fill your email if you want to be notified once this research is completed.  \n",
       "0                              ikeoluwa933@gmail.com                                  \n",
       "1                                                NaN                                  \n",
       "2                      olanrewaju1temitayo@gmail.com                                  \n",
       "3                          adewunmi.fatoki@gmail.com                                  \n",
       "4                              Johnnyark9@gmail.com                                   \n",
       "\n",
       "[5 rows x 22 columns]"
      ]
     },
     "execution_count": 26,
     "metadata": {},
     "output_type": "execute_result"
    }
   ],
   "source": [
    "data = pd.read_csv('NIGERIA_DEMOGRAPHICS_DATA.csv')\n",
    "data.head()"
   ]
  },
  {
   "cell_type": "code",
   "execution_count": 27,
   "metadata": {},
   "outputs": [
    {
     "data": {
      "text/plain": [
       "Timestamp                                                                              object\n",
       "Are you a Nigerian?                                                                    object\n",
       "Gender                                                                                 object\n",
       "Age Group                                                                              object\n",
       "Are you married?                                                                       object\n",
       "Do you have kids?                                                                      object\n",
       "Where do you live?                                                                     object\n",
       "What part of your state do you live in?                                                object\n",
       "Occupation                                                                             object\n",
       "Are you Happy with your job?                                                           object\n",
       "Is this your primary source of income?                                                 object\n",
       "What is your steady/constant income range in a month?                                  object\n",
       "Do you think it is enough for you and your family?                                     object\n",
       "What are your other sources of income?                                                 object\n",
       "Do you pay your tax?                                                                   object\n",
       "What is your largest form of expense                                                   object\n",
       "If there was one thing you really wanted to own, what would that be?                   object\n",
       "How much do you think you earn from all other sources of income in a month            float64\n",
       "On an average, how much do you think you spend in a month?                              int64\n",
       "Do you think Nigeria can get better?                                                   object\n",
       "In a short sentence, describe your government                                          object\n",
       "Please fill your email if you want to be notified once this research is completed.     object\n",
       "dtype: object"
      ]
     },
     "execution_count": 27,
     "metadata": {},
     "output_type": "execute_result"
    }
   ],
   "source": [
    "data.dtypes"
   ]
  },
  {
   "cell_type": "code",
   "execution_count": null,
   "metadata": {},
   "outputs": [],
   "source": []
  },
  {
   "cell_type": "markdown",
   "metadata": {},
   "source": [
    "# Target Group"
   ]
  },
  {
   "cell_type": "code",
   "execution_count": 28,
   "metadata": {},
   "outputs": [
    {
     "data": {
      "text/plain": [
       "array(['Not Disclosed', 'Yes', 'No'], dtype=object)"
      ]
     },
     "execution_count": 28,
     "metadata": {},
     "output_type": "execute_result"
    }
   ],
   "source": [
    "# Gender Options\n",
    "\n",
    "data['Are you a Nigerian?'].unique()"
   ]
  },
  {
   "cell_type": "code",
   "execution_count": 29,
   "metadata": {},
   "outputs": [
    {
     "data": {
      "text/plain": [
       "Are you a Nigerian?\n",
       "No                 3\n",
       "Not Disclosed     15\n",
       "Yes              285\n",
       "Name: Are you a Nigerian?, dtype: int64"
      ]
     },
     "execution_count": 29,
     "metadata": {},
     "output_type": "execute_result"
    }
   ],
   "source": [
    "# Gender Categories\n",
    "\n",
    "data.groupby('Are you a Nigerian?')['Are you a Nigerian?'].count()"
   ]
  },
  {
   "cell_type": "code",
   "execution_count": 30,
   "metadata": {},
   "outputs": [
    {
     "data": {
      "text/plain": [
       "Yes              94.0\n",
       "Not Disclosed     5.0\n",
       "No                1.0\n",
       "Name: Are you a Nigerian?, dtype: float64"
      ]
     },
     "execution_count": 30,
     "metadata": {},
     "output_type": "execute_result"
    }
   ],
   "source": [
    "# Percentage Calculation\n",
    "\n",
    "(data['Are you a Nigerian?'].value_counts()/data['Are you a Nigerian?'].count()).round(decimals = 2)*100"
   ]
  },
  {
   "cell_type": "code",
   "execution_count": null,
   "metadata": {},
   "outputs": [],
   "source": []
  },
  {
   "cell_type": "markdown",
   "metadata": {},
   "source": [
    "# Gender"
   ]
  },
  {
   "cell_type": "code",
   "execution_count": 35,
   "metadata": {},
   "outputs": [
    {
     "data": {
      "text/plain": [
       "array(['Female', 'Male', 'Prefer not to say'], dtype=object)"
      ]
     },
     "execution_count": 35,
     "metadata": {},
     "output_type": "execute_result"
    }
   ],
   "source": [
    "# Gender Options\n",
    "\n",
    "data['Gender'].unique()"
   ]
  },
  {
   "cell_type": "code",
   "execution_count": 36,
   "metadata": {},
   "outputs": [
    {
     "data": {
      "text/plain": [
       "Gender\n",
       "Female                86\n",
       "Male                 216\n",
       "Prefer not to say      1\n",
       "Name: Gender, dtype: int64"
      ]
     },
     "execution_count": 36,
     "metadata": {},
     "output_type": "execute_result"
    }
   ],
   "source": [
    "# Gender Categories\n",
    "\n",
    "data.groupby('Gender')['Gender'].count()"
   ]
  },
  {
   "cell_type": "code",
   "execution_count": 37,
   "metadata": {},
   "outputs": [
    {
     "data": {
      "text/plain": [
       "Male                 70.0\n",
       "Female               30.0\n",
       "Prefer not to say     0.0\n",
       "Name: Gender, dtype: float64"
      ]
     },
     "execution_count": 37,
     "metadata": {},
     "output_type": "execute_result"
    }
   ],
   "source": [
    "# Percentage Calculation\n",
    "\n",
    "(data['Gender'].value_counts()/data['Gender'].count()).round(decimals = 1)*100"
   ]
  },
  {
   "cell_type": "code",
   "execution_count": 74,
   "metadata": {},
   "outputs": [
    {
     "data": {
      "text/plain": [
       "<matplotlib.axes._subplots.AxesSubplot at 0x1b6cbcc2320>"
      ]
     },
     "execution_count": 74,
     "metadata": {},
     "output_type": "execute_result"
    },
    {
     "data": {
      "image/png": "[encoded data removed]",
      "text/plain": [
       "<Figure size 432x288 with 1 Axes>"
      ]
     },
     "metadata": {
      "needs_background": "light"
     },
     "output_type": "display_data"
    }
   ],
   "source": [
    "sns.countplot(x='Gender', data=data)"
   ]
  },
  {
   "cell_type": "markdown",
   "metadata": {},
   "source": [
    "# Age Group"
   ]
  },
  {
   "cell_type": "code",
   "execution_count": 63,
   "metadata": {},
   "outputs": [
    {
     "data": {
      "text/plain": [
       "array(['18 – 25', '36 – 45', '26 – 35', '56 – 65', '46 – 55'],\n",
       "      dtype=object)"
      ]
     },
     "execution_count": 63,
     "metadata": {},
     "output_type": "execute_result"
    }
   ],
   "source": [
    "# Age Groups\n",
    "\n",
    "data['Age Group'].unique()"
   ]
  },
  {
   "cell_type": "code",
   "execution_count": 64,
   "metadata": {},
   "outputs": [
    {
     "data": {
      "text/plain": [
       "Age Group\n",
       "18 – 25    181\n",
       "26 – 35    104\n",
       "36 – 45     13\n",
       "46 – 55      4\n",
       "56 – 65      1\n",
       "Name: Age Group, dtype: int64"
      ]
     },
     "execution_count": 64,
     "metadata": {},
     "output_type": "execute_result"
    }
   ],
   "source": [
    "# Age Groups in Numbers\n",
    "\n",
    "data.groupby('Age Group')['Age Group'].count()"
   ]
  },
  {
   "cell_type": "code",
   "execution_count": 66,
   "metadata": {},
   "outputs": [
    {
     "data": {
      "text/plain": [
       "18 – 25    60.0\n",
       "26 – 35    34.0\n",
       "36 – 45     4.0\n",
       "46 – 55     1.0\n",
       "56 – 65     0.0\n",
       "Name: Age Group, dtype: float64"
      ]
     },
     "execution_count": 66,
     "metadata": {},
     "output_type": "execute_result"
    }
   ],
   "source": [
    "# Percentage Calculation\n",
    "\n",
    "(data['Age Group'].value_counts()/data['Age Group'].count()).round(decimals = 2)*100"
   ]
  },
  {
   "cell_type": "code",
   "execution_count": 77,
   "metadata": {},
   "outputs": [
    {
     "data": {
      "text/plain": [
       "<matplotlib.axes._subplots.AxesSubplot at 0x1b6cceccf60>"
      ]
     },
     "execution_count": 77,
     "metadata": {},
     "output_type": "execute_result"
    },
    {
     "data": {
      "image/png": "[encoded data removed]",
      "text/plain": [
       "<Figure size 432x288 with 1 Axes>"
      ]
     },
     "metadata": {
      "needs_background": "light"
     },
     "output_type": "display_data"
    }
   ],
   "source": [
    "sns.countplot(x='Age Group', data=data)"
   ]
  },
  {
   "cell_type": "code",
   "execution_count": null,
   "metadata": {},
   "outputs": [],
   "source": []
  },
  {
   "cell_type": "markdown",
   "metadata": {},
   "source": [
    "# Marriage"
   ]
  },
  {
   "cell_type": "code",
   "execution_count": 38,
   "metadata": {},
   "outputs": [
    {
     "data": {
      "text/plain": [
       "array(['No', 'Yes'], dtype=object)"
      ]
     },
     "execution_count": 38,
     "metadata": {},
     "output_type": "execute_result"
    }
   ],
   "source": [
    "# Gender Options\n",
    "\n",
    "data['Are you married?'].unique()"
   ]
  },
  {
   "cell_type": "code",
   "execution_count": 39,
   "metadata": {},
   "outputs": [
    {
     "data": {
      "text/plain": [
       "Are you married?\n",
       "No     269\n",
       "Yes     34\n",
       "Name: Are you married?, dtype: int64"
      ]
     },
     "execution_count": 39,
     "metadata": {},
     "output_type": "execute_result"
    }
   ],
   "source": [
    "# Marriage Options\n",
    "\n",
    "data.groupby('Are you married?')['Are you married?'].count()"
   ]
  },
  {
   "cell_type": "code",
   "execution_count": 40,
   "metadata": {},
   "outputs": [
    {
     "data": {
      "text/plain": [
       "No     90.0\n",
       "Yes    10.0\n",
       "Name: Are you married?, dtype: float64"
      ]
     },
     "execution_count": 40,
     "metadata": {},
     "output_type": "execute_result"
    }
   ],
   "source": [
    "# Percentage Calculation\n",
    "\n",
    "(data['Are you married?'].value_counts()/data['Are you married?'].count()).round(decimals = 1)*100"
   ]
  },
  {
   "cell_type": "code",
   "execution_count": 78,
   "metadata": {},
   "outputs": [
    {
     "data": {
      "text/plain": [
       "<matplotlib.axes._subplots.AxesSubplot at 0x1b6ccf2e0f0>"
      ]
     },
     "execution_count": 78,
     "metadata": {},
     "output_type": "execute_result"
    },
    {
     "data": {
      "image/png": "[encoded data removed]",
      "text/plain": [
       "<Figure size 432x288 with 1 Axes>"
      ]
     },
     "metadata": {
      "needs_background": "light"
     },
     "output_type": "display_data"
    }
   ],
   "source": [
    "sns.countplot(x='Are you married?', data=data)"
   ]
  },
  {
   "cell_type": "code",
   "execution_count": null,
   "metadata": {},
   "outputs": [],
   "source": []
  },
  {
   "cell_type": "markdown",
   "metadata": {},
   "source": [
    "# Number of Kids"
   ]
  },
  {
   "cell_type": "code",
   "execution_count": 41,
   "metadata": {},
   "outputs": [
    {
     "data": {
      "text/plain": [
       "array(['No', 'Yes'], dtype=object)"
      ]
     },
     "execution_count": 41,
     "metadata": {},
     "output_type": "execute_result"
    }
   ],
   "source": [
    "# Having Kids Options\n",
    "\n",
    "data['Do you have kids?'].unique()"
   ]
  },
  {
   "cell_type": "code",
   "execution_count": 42,
   "metadata": {},
   "outputs": [
    {
     "data": {
      "text/plain": [
       "Do you have kids?\n",
       "No     279\n",
       "Yes     24\n",
       "Name: Do you have kids?, dtype: int64"
      ]
     },
     "execution_count": 42,
     "metadata": {},
     "output_type": "execute_result"
    }
   ],
   "source": [
    "# Number of Kids\n",
    "\n",
    "data.groupby('Do you have kids?')['Do you have kids?'].count()"
   ]
  },
  {
   "cell_type": "code",
   "execution_count": 43,
   "metadata": {},
   "outputs": [
    {
     "data": {
      "text/plain": [
       "No     90.0\n",
       "Yes    10.0\n",
       "Name: Do you have kids?, dtype: float64"
      ]
     },
     "execution_count": 43,
     "metadata": {},
     "output_type": "execute_result"
    }
   ],
   "source": [
    "# Percentage Calculation\n",
    "\n",
    "(data['Do you have kids?'].value_counts()/data['Do you have kids?'].count()).round(decimals = 1)*100"
   ]
  },
  {
   "cell_type": "code",
   "execution_count": 79,
   "metadata": {},
   "outputs": [
    {
     "data": {
      "text/plain": [
       "<matplotlib.axes._subplots.AxesSubplot at 0x1b6ccf7deb8>"
      ]
     },
     "execution_count": 79,
     "metadata": {},
     "output_type": "execute_result"
    },
    {
     "data": {
      "image/png": "[encoded data removed]",
      "text/plain": [
       "<Figure size 432x288 with 1 Axes>"
      ]
     },
     "metadata": {
      "needs_background": "light"
     },
     "output_type": "display_data"
    }
   ],
   "source": [
    "sns.countplot(x='Do you have kids?', data=data)"
   ]
  },
  {
   "cell_type": "code",
   "execution_count": 99,
   "metadata": {},
   "outputs": [
    {
     "ename": "SyntaxError",
     "evalue": "invalid syntax (<ipython-input-99-c2c5dc496733>, line 1)",
     "output_type": "error",
     "traceback": [
      "\u001b[1;36m  File \u001b[1;32m\"<ipython-input-99-c2c5dc496733>\"\u001b[1;36m, line \u001b[1;32m1\u001b[0m\n\u001b[1;33m    data.groupby(data.'Do you have kids?').sum().plot(kind='pie')\u001b[0m\n\u001b[1;37m                                        ^\u001b[0m\n\u001b[1;31mSyntaxError\u001b[0m\u001b[1;31m:\u001b[0m invalid syntax\n"
     ]
    }
   ],
   "source": [
    "data.groupby(data.'Do you have kids?').sum().plot(kind='pie')\n",
    "plt.axis('equal')\n",
    "plt.show()"
   ]
  },
  {
   "cell_type": "markdown",
   "metadata": {},
   "source": [
    "# States of Residence"
   ]
  },
  {
   "cell_type": "code",
   "execution_count": 44,
   "metadata": {},
   "outputs": [
    {
     "data": {
      "text/plain": [
       "array(['Lagos', 'Oyo', 'Ogun', 'Abuja (FCT)', 'Anambra', 'Kaduna',\n",
       "       'Cross River', 'Rivers', 'Imo', 'Nasarawa', 'Niger', 'Delta',\n",
       "       'Kwara', 'Benue', 'Edo', 'Osun', 'Akwa Ibom', 'Abia', 'Plateau',\n",
       "       'Ondo'], dtype=object)"
      ]
     },
     "execution_count": 44,
     "metadata": {},
     "output_type": "execute_result"
    }
   ],
   "source": [
    "# States Coverage\n",
    "\n",
    "data['Where do you live?'].unique()"
   ]
  },
  {
   "cell_type": "code",
   "execution_count": 45,
   "metadata": {},
   "outputs": [
    {
     "data": {
      "text/plain": [
       "20"
      ]
     },
     "execution_count": 45,
     "metadata": {},
     "output_type": "execute_result"
    }
   ],
   "source": [
    "# Number of States Where Respondents are Located\n",
    "\n",
    "data['Where do you live?'].nunique()"
   ]
  },
  {
   "cell_type": "code",
   "execution_count": 46,
   "metadata": {},
   "outputs": [
    {
     "data": {
      "text/plain": [
       "Where do you live?\n",
       "Abia             1\n",
       "Abuja (FCT)      9\n",
       "Akwa Ibom        1\n",
       "Anambra          4\n",
       "Benue            1\n",
       "Cross River      2\n",
       "Delta            2\n",
       "Edo              2\n",
       "Imo              3\n",
       "Kaduna           5\n",
       "Kwara            6\n",
       "Lagos          229\n",
       "Nasarawa         1\n",
       "Niger            1\n",
       "Ogun            18\n",
       "Ondo             4\n",
       "Osun             3\n",
       "Oyo              6\n",
       "Plateau          1\n",
       "Rivers           4\n",
       "Name: Where do you live?, dtype: int64"
      ]
     },
     "execution_count": 46,
     "metadata": {},
     "output_type": "execute_result"
    }
   ],
   "source": [
    "# Number of Respondents in each  State\n",
    "\n",
    "data.groupby('Where do you live?')['Where do you live?'].count()"
   ]
  },
  {
   "cell_type": "code",
   "execution_count": 47,
   "metadata": {},
   "outputs": [
    {
     "data": {
      "text/plain": [
       "Lagos          76.0\n",
       "Ogun            6.0\n",
       "Abuja (FCT)     3.0\n",
       "Kwara           2.0\n",
       "Oyo             2.0\n",
       "Kaduna          2.0\n",
       "Rivers          1.0\n",
       "Ondo            1.0\n",
       "Anambra         1.0\n",
       "Osun            1.0\n",
       "Imo             1.0\n",
       "Edo             1.0\n",
       "Delta           1.0\n",
       "Cross River     1.0\n",
       "Plateau         0.0\n",
       "Akwa Ibom       0.0\n",
       "Abia            0.0\n",
       "Niger           0.0\n",
       "Nasarawa        0.0\n",
       "Benue           0.0\n",
       "Name: Where do you live?, dtype: float64"
      ]
     },
     "execution_count": 47,
     "metadata": {},
     "output_type": "execute_result"
    }
   ],
   "source": [
    "# Percentage Calculation\n",
    "\n",
    "(data['Where do you live?'].value_counts()/data['Where do you live?'].count()).round(decimals = 2)*100"
   ]
  },
  {
   "cell_type": "code",
   "execution_count": 81,
   "metadata": {},
   "outputs": [
    {
     "data": {
      "text/plain": [
       "<matplotlib.axes._subplots.AxesSubplot at 0x1b6cd06d320>"
      ]
     },
     "execution_count": 81,
     "metadata": {},
     "output_type": "execute_result"
    },
    {
     "data": {
      "image/png": "[encoded data removed]",
      "text/plain": [
       "<Figure size 432x288 with 1 Axes>"
      ]
     },
     "metadata": {
      "needs_background": "light"
     },
     "output_type": "display_data"
    }
   ],
   "source": [
    "sns.countplot(y='Where do you live?', data=data)"
   ]
  },
  {
   "cell_type": "markdown",
   "metadata": {},
   "source": [
    "# Location Types"
   ]
  },
  {
   "cell_type": "code",
   "execution_count": 48,
   "metadata": {},
   "outputs": [
    {
     "data": {
      "text/plain": [
       "array(['Rural', 'City', 'Urban', 'I don’t know'], dtype=object)"
      ]
     },
     "execution_count": 48,
     "metadata": {},
     "output_type": "execute_result"
    }
   ],
   "source": [
    "# Location Spread\n",
    "\n",
    "data['What part of your state do you live in?'].unique()"
   ]
  },
  {
   "cell_type": "code",
   "execution_count": 49,
   "metadata": {},
   "outputs": [
    {
     "data": {
      "text/plain": [
       "What part of your state do you live in?\n",
       "City             98\n",
       "I don’t know      8\n",
       "Rural            30\n",
       "Urban           167\n",
       "Name: What part of your state do you live in?, dtype: int64"
      ]
     },
     "execution_count": 49,
     "metadata": {},
     "output_type": "execute_result"
    }
   ],
   "source": [
    "# Number of Respondents in each  Location\n",
    "\n",
    "data.groupby('What part of your state do you live in?')['What part of your state do you live in?'].count()"
   ]
  },
  {
   "cell_type": "code",
   "execution_count": 50,
   "metadata": {},
   "outputs": [
    {
     "data": {
      "text/plain": [
       "Urban           55.0\n",
       "City            32.0\n",
       "Rural           10.0\n",
       "I don’t know     3.0\n",
       "Name: What part of your state do you live in?, dtype: float64"
      ]
     },
     "execution_count": 50,
     "metadata": {},
     "output_type": "execute_result"
    }
   ],
   "source": [
    "# Percentage Calculation\n",
    "\n",
    "(data['What part of your state do you live in?'].value_counts()/data['What part of your state do you live in?'].count()).round(decimals = 2)*100"
   ]
  },
  {
   "cell_type": "code",
   "execution_count": null,
   "metadata": {},
   "outputs": [],
   "source": []
  },
  {
   "cell_type": "markdown",
   "metadata": {},
   "source": [
    "# Occupation"
   ]
  },
  {
   "cell_type": "code",
   "execution_count": 51,
   "metadata": {},
   "outputs": [
    {
     "data": {
      "text/plain": [
       "array([nan, 'No Job', 'Financial Services', 'Business', 'Engineering',\n",
       "       'Consultant', 'Software Engineering /Computer Design', 'Student',\n",
       "       'Entrepreneur', 'I don’t know', 'Health', 'Student and Working',\n",
       "       'Farmer', 'Others'], dtype=object)"
      ]
     },
     "execution_count": 51,
     "metadata": {},
     "output_type": "execute_result"
    }
   ],
   "source": [
    "# Occupation Types\n",
    "\n",
    "data['Occupation'].unique()"
   ]
  },
  {
   "cell_type": "code",
   "execution_count": 52,
   "metadata": {},
   "outputs": [
    {
     "data": {
      "text/plain": [
       "Occupation\n",
       "Business                                 16\n",
       "Consultant                               16\n",
       "Engineering                              31\n",
       "Entrepreneur                             28\n",
       "Farmer                                    1\n",
       "Financial Services                       27\n",
       "Health                                   10\n",
       "I don’t know                              9\n",
       "No Job                                   25\n",
       "Others                                   18\n",
       "Software Engineering /Computer Design    50\n",
       "Student                                  48\n",
       "Student and Working                      23\n",
       "Name: Occupation, dtype: int64"
      ]
     },
     "execution_count": 52,
     "metadata": {},
     "output_type": "execute_result"
    }
   ],
   "source": [
    "# Number of Respondents in each occupation\n",
    "\n",
    "data.groupby('Occupation')['Occupation'].count()"
   ]
  },
  {
   "cell_type": "code",
   "execution_count": 53,
   "metadata": {},
   "outputs": [
    {
     "data": {
      "text/plain": [
       "Software Engineering /Computer Design    17.0\n",
       "Student                                  16.0\n",
       "Engineering                              10.0\n",
       "Entrepreneur                              9.0\n",
       "Financial Services                        9.0\n",
       "No Job                                    8.0\n",
       "Student and Working                       8.0\n",
       "Others                                    6.0\n",
       "Consultant                                5.0\n",
       "Business                                  5.0\n",
       "Health                                    3.0\n",
       "I don’t know                              3.0\n",
       "Farmer                                    0.0\n",
       "Name: Occupation, dtype: float64"
      ]
     },
     "execution_count": 53,
     "metadata": {},
     "output_type": "execute_result"
    }
   ],
   "source": [
    "# Percentage Calculation\n",
    "\n",
    "(data['Occupation'].value_counts()/data['Occupation'].count()).round(decimals = 2)*100"
   ]
  },
  {
   "cell_type": "code",
   "execution_count": 88,
   "metadata": {},
   "outputs": [
    {
     "data": {
      "text/plain": [
       "<matplotlib.axes._subplots.AxesSubplot at 0x1b6cd5db630>"
      ]
     },
     "execution_count": 88,
     "metadata": {},
     "output_type": "execute_result"
    },
    {
     "data": {
      "image/png": "[encoded data removed]",
      "text/plain": [
       "<Figure size 432x288 with 1 Axes>"
      ]
     },
     "metadata": {
      "needs_background": "light"
     },
     "output_type": "display_data"
    }
   ],
   "source": [
    "sns.countplot(y='Occupation', data=data, label='Occupation')\n"
   ]
  },
  {
   "cell_type": "code",
   "execution_count": 95,
   "metadata": {},
   "outputs": [
    {
     "data": {
      "image/png": "[encoded data removed]",
      "text/plain": [
       "<Figure size 432x288 with 1 Axes>"
      ]
     },
     "metadata": {},
     "output_type": "display_data"
    }
   ],
   "source": [
    "# Pie chart\n",
    "labels = ['No Job', \n",
    "          'Financial Services', \n",
    "          'Business', \n",
    "          'Engineering', \n",
    "          'Consultant',\n",
    "          'Software Engineering/Computer Design',\n",
    "          'Student',\n",
    "          'Entrepreneur',\n",
    "          \"I don't know\",\n",
    "          'Health',\n",
    "          'Student and Working',\n",
    "          'Farmer',\n",
    "          'Others']\n",
    "\n",
    "\n",
    "\n",
    "sizes = [17, 16, 10, 9, 9, 8, 8, 6, 5, 5, 3, 3, 0]\n",
    "\n",
    "# only \"explode\" the 2nd slice (i.e. 'A Car')\n",
    "explode = (0, 0, 0, 0, 0, 0, 0, 0.5, 0, 0, 0, 0, 0)  \n",
    "fig1, ax1 = plt.subplots()\n",
    "ax1.pie(sizes, explode=explode, labels=labels, autopct='%1.1f%%',\n",
    "        shadow=True, startangle=90)\n",
    "\n",
    "# Equal aspect ratio ensures that pie is drawn as a circle\n",
    "ax1.axis('equal')  \n",
    "plt.tight_layout()\n",
    "plt.show()"
   ]
  },
  {
   "cell_type": "code",
   "execution_count": null,
   "metadata": {},
   "outputs": [],
   "source": []
  },
  {
   "cell_type": "markdown",
   "metadata": {},
   "source": [
    "# Income Satisfaction"
   ]
  },
  {
   "cell_type": "code",
   "execution_count": 54,
   "metadata": {},
   "outputs": [
    {
     "data": {
      "text/plain": [
       "array(['No', 'Yes'], dtype=object)"
      ]
     },
     "execution_count": 54,
     "metadata": {},
     "output_type": "execute_result"
    }
   ],
   "source": [
    "# Income Satisfaction\n",
    "\n",
    "data['Do you think it is enough for you and your family?'].unique()"
   ]
  },
  {
   "cell_type": "code",
   "execution_count": 55,
   "metadata": {},
   "outputs": [
    {
     "data": {
      "text/plain": [
       "Do you think it is enough for you and your family?\n",
       "No     283\n",
       "Yes     20\n",
       "Name: Do you think it is enough for you and your family?, dtype: int64"
      ]
     },
     "execution_count": 55,
     "metadata": {},
     "output_type": "execute_result"
    }
   ],
   "source": [
    "# Income Satisfaction Level\n",
    "\n",
    "data.groupby('Do you think it is enough for you and your family?')['Do you think it is enough for you and your family?'].count()"
   ]
  },
  {
   "cell_type": "code",
   "execution_count": 56,
   "metadata": {},
   "outputs": [
    {
     "data": {
      "text/plain": [
       "No     93.0\n",
       "Yes     7.0\n",
       "Name: Do you think it is enough for you and your family?, dtype: float64"
      ]
     },
     "execution_count": 56,
     "metadata": {},
     "output_type": "execute_result"
    }
   ],
   "source": [
    "# Percentage Calculation\n",
    "\n",
    "(data['Do you think it is enough for you and your family?'].value_counts()/data['Do you think it is enough for you and your family?'].count()).round(decimals = 2)*100"
   ]
  },
  {
   "cell_type": "code",
   "execution_count": null,
   "metadata": {},
   "outputs": [],
   "source": []
  },
  {
   "cell_type": "markdown",
   "metadata": {},
   "source": [
    "# One Thing Desired to Own"
   ]
  },
  {
   "cell_type": "code",
   "execution_count": 57,
   "metadata": {},
   "outputs": [
    {
     "data": {
      "text/plain": [
       "array(['A Company', 'A House', 'Money', 'Others', 'A Car', 'A Boat'],\n",
       "      dtype=object)"
      ]
     },
     "execution_count": 57,
     "metadata": {},
     "output_type": "execute_result"
    }
   ],
   "source": [
    "# Things Desire to Own\n",
    "\n",
    "data['If there was one thing you really wanted to own, what would that be?'].unique()"
   ]
  },
  {
   "cell_type": "code",
   "execution_count": 58,
   "metadata": {},
   "outputs": [
    {
     "data": {
      "text/plain": [
       "If there was one thing you really wanted to own, what would that be?\n",
       "A Boat         1\n",
       "A Car         11\n",
       "A Company    130\n",
       "A House       80\n",
       "Money         55\n",
       "Others        26\n",
       "Name: If there was one thing you really wanted to own, what would that be?, dtype: int64"
      ]
     },
     "execution_count": 58,
     "metadata": {},
     "output_type": "execute_result"
    }
   ],
   "source": [
    "# Things Desire to Own in Numbers\n",
    " \n",
    "data.groupby('If there was one thing you really wanted to own, what would that be?')['If there was one thing you really wanted to own, what would that be?'].count()"
   ]
  },
  {
   "cell_type": "code",
   "execution_count": 59,
   "metadata": {},
   "outputs": [
    {
     "data": {
      "text/plain": [
       "A Company    43.0\n",
       "A House      26.0\n",
       "Money        18.0\n",
       "Others        9.0\n",
       "A Car         4.0\n",
       "A Boat        0.0\n",
       "Name: If there was one thing you really wanted to own, what would that be?, dtype: float64"
      ]
     },
     "execution_count": 59,
     "metadata": {},
     "output_type": "execute_result"
    }
   ],
   "source": [
    "# Percentage Calculation\n",
    "\n",
    "(data['If there was one thing you really wanted to own, what would that be?'].value_counts()/data['If there was one thing you really wanted to own, what would that be?'].count()).round(decimals = 2)*100"
   ]
  },
  {
   "cell_type": "code",
   "execution_count": 93,
   "metadata": {},
   "outputs": [
    {
     "data": {
      "image/png": "[encoded data removed]",
      "text/plain": [
       "<Figure size 432x288 with 1 Axes>"
      ]
     },
     "metadata": {},
     "output_type": "display_data"
    }
   ],
   "source": [
    "# Pie chart\n",
    "labels = ['A Company', 'A House', 'Money', 'Others', 'A Car', 'A Boat']\n",
    "sizes = [43, 26, 18, 9, 4, 0]\n",
    "\n",
    "# only \"explode\" the 2nd slice (i.e. 'A Car')\n",
    "explode = (0, 0, 0, 0, 0.5, 0)  \n",
    "fig1, ax1 = plt.subplots()\n",
    "ax1.pie(sizes, explode=explode, labels=labels, autopct='%1.1f%%',\n",
    "        shadow=True, startangle=90)\n",
    "\n",
    "# Equal aspect ratio ensures that pie is drawn as a circle\n",
    "ax1.axis('equal')  \n",
    "plt.tight_layout()\n",
    "plt.show()"
   ]
  },
  {
   "cell_type": "markdown",
   "metadata": {},
   "source": [
    "# Can Nigeria Get Better"
   ]
  },
  {
   "cell_type": "code",
   "execution_count": 60,
   "metadata": {},
   "outputs": [
    {
     "data": {
      "text/plain": [
       "array(['Yes', 'No'], dtype=object)"
      ]
     },
     "execution_count": 60,
     "metadata": {},
     "output_type": "execute_result"
    }
   ],
   "source": [
    "# Income Satisfaction\n",
    "\n",
    "data['Do you think Nigeria can get better?'].unique()"
   ]
  },
  {
   "cell_type": "code",
   "execution_count": 61,
   "metadata": {},
   "outputs": [
    {
     "data": {
      "text/plain": [
       "Do you think Nigeria can get better?\n",
       "No      79\n",
       "Yes    224\n",
       "Name: Do you think Nigeria can get better?, dtype: int64"
      ]
     },
     "execution_count": 61,
     "metadata": {},
     "output_type": "execute_result"
    }
   ],
   "source": [
    "# Income Satisfaction Level\n",
    " \n",
    "data.groupby('Do you think Nigeria can get better?')['Do you think Nigeria can get better?'].count()"
   ]
  },
  {
   "cell_type": "code",
   "execution_count": 62,
   "metadata": {},
   "outputs": [
    {
     "data": {
      "text/plain": [
       "Yes    74.0\n",
       "No     26.0\n",
       "Name: Do you think Nigeria can get better?, dtype: float64"
      ]
     },
     "execution_count": 62,
     "metadata": {},
     "output_type": "execute_result"
    }
   ],
   "source": [
    "# Percentage Calculation\n",
    "\n",
    "(data['Do you think Nigeria can get better?'].value_counts()/data['Do you think Nigeria can get better?'].count()).round(decimals = 2)*100"
   ]
  },
  {
   "cell_type": "code",
   "execution_count": null,
   "metadata": {},
   "outputs": [],
   "source": []
  }
 ],
 "metadata": {
  "kernelspec": {
   "display_name": "Python 3",
   "language": "python",
   "name": "python3"
  },
  "language_info": {
   "codemirror_mode": {
    "name": "ipython",
    "version": 3
   },
   "file_extension": ".py",
   "mimetype": "text/x-python",
   "name": "python",
   "nbconvert_exporter": "python",
   "pygments_lexer": "ipython3",
   "version": "3.7.3"
  },
  "toc": {
   "base_numbering": 1,
   "nav_menu": {},
   "number_sections": true,
   "sideBar": true,
   "skip_h1_title": false,
   "title_cell": "Table of Contents",
   "title_sidebar": "Contents",
   "toc_cell": false,
   "toc_position": {
    "height": "calc(100% - 180px)",
    "left": "10px",
    "top": "150px",
    "width": "256px"
   },
   "toc_section_display": true,
   "toc_window_display": true
  }
 },
 "nbformat": 4,
 "nbformat_minor": 2
}
