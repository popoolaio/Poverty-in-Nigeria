{
 "cells": [
  {
   "cell_type": "code",
   "execution_count": 1,
   "metadata": {},
   "outputs": [],
   "source": [
    "import numpy as np\n",
    "import pandas as pd \n",
    "import matplotlib.pyplot as plt \n",
    "%matplotlib inline "
   ]
  },
  {
   "cell_type": "code",
   "execution_count": 2,
   "metadata": {},
   "outputs": [
    {
     "data": {
      "text/html": [
       "<div>\n",
       "<style scoped>\n",
       "    .dataframe tbody tr th:only-of-type {\n",
       "        vertical-align: middle;\n",
       "    }\n",
       "\n",
       "    .dataframe tbody tr th {\n",
       "        vertical-align: top;\n",
       "    }\n",
       "\n",
       "    .dataframe thead th {\n",
       "        text-align: right;\n",
       "    }\n",
       "</style>\n",
       "<table border=\"1\" class=\"dataframe\">\n",
       "  <thead>\n",
       "    <tr style=\"text-align: right;\">\n",
       "      <th></th>\n",
       "      <th>Timestamp</th>\n",
       "      <th>Are you a Nigerian?</th>\n",
       "      <th>Gender</th>\n",
       "      <th>Age Group</th>\n",
       "      <th>Are you married?</th>\n",
       "      <th>Do you have kids?</th>\n",
       "      <th>Where do you live?</th>\n",
       "      <th>What part of your state do you live in?</th>\n",
       "      <th>Occupation</th>\n",
       "      <th>Are you Happy with your job?</th>\n",
       "      <th>...</th>\n",
       "      <th>Do you think it is enough for you and your family?</th>\n",
       "      <th>What are your other sources of income?</th>\n",
       "      <th>Do you pay your tax?</th>\n",
       "      <th>What is your largest form of expense</th>\n",
       "      <th>If there was one thing you really wanted to own, what would that be?</th>\n",
       "      <th>How much do you think you earn from all other sources of income in a month</th>\n",
       "      <th>On an average, how much do you think you spend in a month?</th>\n",
       "      <th>Do you think Nigeria can get better?</th>\n",
       "      <th>In a short sentence, describe your government</th>\n",
       "      <th>Please fill your email if you want to be notified once this research is completed.</th>\n",
       "    </tr>\n",
       "  </thead>\n",
       "  <tbody>\n",
       "    <tr>\n",
       "      <th>0</th>\n",
       "      <td>10/13/2019 17:45:01</td>\n",
       "      <td>NaN</td>\n",
       "      <td>Female</td>\n",
       "      <td>18 – 25</td>\n",
       "      <td>No</td>\n",
       "      <td>No</td>\n",
       "      <td>Lagos</td>\n",
       "      <td>Rural</td>\n",
       "      <td>NaN</td>\n",
       "      <td>No</td>\n",
       "      <td>...</td>\n",
       "      <td>No</td>\n",
       "      <td>NaN</td>\n",
       "      <td>No</td>\n",
       "      <td>Feeding</td>\n",
       "      <td>A Company</td>\n",
       "      <td>NaN</td>\n",
       "      <td>25000</td>\n",
       "      <td>Yes</td>\n",
       "      <td>Frustrating</td>\n",
       "      <td>ikeoluwa933@gmail.com</td>\n",
       "    </tr>\n",
       "    <tr>\n",
       "      <th>1</th>\n",
       "      <td>10/13/2019 18:13:59</td>\n",
       "      <td>NaN</td>\n",
       "      <td>Female</td>\n",
       "      <td>18 – 25</td>\n",
       "      <td>No</td>\n",
       "      <td>No</td>\n",
       "      <td>Lagos</td>\n",
       "      <td>Rural</td>\n",
       "      <td>No Job</td>\n",
       "      <td>No</td>\n",
       "      <td>...</td>\n",
       "      <td>No</td>\n",
       "      <td>Free Lancing</td>\n",
       "      <td>No</td>\n",
       "      <td>Transportation</td>\n",
       "      <td>A House</td>\n",
       "      <td>18000.0</td>\n",
       "      <td>20000</td>\n",
       "      <td>Yes</td>\n",
       "      <td>Greedy, self centered and dull</td>\n",
       "      <td>NaN</td>\n",
       "    </tr>\n",
       "    <tr>\n",
       "      <th>2</th>\n",
       "      <td>10/13/2019 20:11:39</td>\n",
       "      <td>NaN</td>\n",
       "      <td>Male</td>\n",
       "      <td>36 – 45</td>\n",
       "      <td>Yes</td>\n",
       "      <td>Yes</td>\n",
       "      <td>Lagos</td>\n",
       "      <td>City</td>\n",
       "      <td>Financial Services</td>\n",
       "      <td>Yes</td>\n",
       "      <td>...</td>\n",
       "      <td>No</td>\n",
       "      <td>Free Lancing</td>\n",
       "      <td>Yes</td>\n",
       "      <td>School Fees</td>\n",
       "      <td>A Company</td>\n",
       "      <td>40000.0</td>\n",
       "      <td>140000</td>\n",
       "      <td>Yes</td>\n",
       "      <td>Our government do not care about what the mass...</td>\n",
       "      <td>olanrewaju1temitayo@gmail.com</td>\n",
       "    </tr>\n",
       "    <tr>\n",
       "      <th>3</th>\n",
       "      <td>10/13/2019 20:17:57</td>\n",
       "      <td>NaN</td>\n",
       "      <td>Female</td>\n",
       "      <td>26 – 35</td>\n",
       "      <td>No</td>\n",
       "      <td>No</td>\n",
       "      <td>Lagos</td>\n",
       "      <td>City</td>\n",
       "      <td>Business</td>\n",
       "      <td>Yes</td>\n",
       "      <td>...</td>\n",
       "      <td>No</td>\n",
       "      <td>Buying and Selling</td>\n",
       "      <td>Yes</td>\n",
       "      <td>Transportation</td>\n",
       "      <td>Money</td>\n",
       "      <td>500000.0</td>\n",
       "      <td>100000</td>\n",
       "      <td>Yes</td>\n",
       "      <td>There is discrepancy in Nigeria's governance. ...</td>\n",
       "      <td>adewunmi.fatoki@gmail.com</td>\n",
       "    </tr>\n",
       "    <tr>\n",
       "      <th>4</th>\n",
       "      <td>10/14/2019 6:24:13</td>\n",
       "      <td>NaN</td>\n",
       "      <td>Male</td>\n",
       "      <td>26 – 35</td>\n",
       "      <td>No</td>\n",
       "      <td>No</td>\n",
       "      <td>Lagos</td>\n",
       "      <td>Rural</td>\n",
       "      <td>Engineering</td>\n",
       "      <td>Yes</td>\n",
       "      <td>...</td>\n",
       "      <td>Yes</td>\n",
       "      <td>Formal Job</td>\n",
       "      <td>Yes</td>\n",
       "      <td>Transportation</td>\n",
       "      <td>A Company</td>\n",
       "      <td>0.0</td>\n",
       "      <td>60000</td>\n",
       "      <td>Yes</td>\n",
       "      <td>It is a corrupt one lead by inconsiderate fell...</td>\n",
       "      <td>Johnnyark9@gmail.com</td>\n",
       "    </tr>\n",
       "  </tbody>\n",
       "</table>\n",
       "<p>5 rows × 22 columns</p>\n",
       "</div>"
      ],
      "text/plain": [
       "             Timestamp Are you a Nigerian?  Gender Age Group Are you married?  \\\n",
       "0  10/13/2019 17:45:01                 NaN  Female   18 – 25               No   \n",
       "1  10/13/2019 18:13:59                 NaN  Female   18 – 25               No   \n",
       "2  10/13/2019 20:11:39                 NaN    Male   36 – 45              Yes   \n",
       "3  10/13/2019 20:17:57                 NaN  Female   26 – 35               No   \n",
       "4   10/14/2019 6:24:13                 NaN    Male   26 – 35               No   \n",
       "\n",
       "  Do you have kids? Where do you live?  \\\n",
       "0                No              Lagos   \n",
       "1                No              Lagos   \n",
       "2               Yes              Lagos   \n",
       "3                No              Lagos   \n",
       "4                No              Lagos   \n",
       "\n",
       "  What part of your state do you live in?          Occupation  \\\n",
       "0                                   Rural                 NaN   \n",
       "1                                   Rural              No Job   \n",
       "2                                    City  Financial Services   \n",
       "3                                    City            Business   \n",
       "4                                   Rural         Engineering   \n",
       "\n",
       "  Are you Happy with your job?  \\\n",
       "0                           No   \n",
       "1                           No   \n",
       "2                          Yes   \n",
       "3                          Yes   \n",
       "4                          Yes   \n",
       "\n",
       "                                         ...                                          \\\n",
       "0                                        ...                                           \n",
       "1                                        ...                                           \n",
       "2                                        ...                                           \n",
       "3                                        ...                                           \n",
       "4                                        ...                                           \n",
       "\n",
       "  Do you think it is enough for you and your family?  \\\n",
       "0                                                 No   \n",
       "1                                                 No   \n",
       "2                                                 No   \n",
       "3                                                 No   \n",
       "4                                                Yes   \n",
       "\n",
       "  What are your other sources of income?  Do you pay your tax?  \\\n",
       "0                                     NaN                   No   \n",
       "1                            Free Lancing                   No   \n",
       "2                            Free Lancing                  Yes   \n",
       "3                      Buying and Selling                  Yes   \n",
       "4                              Formal Job                  Yes   \n",
       "\n",
       "  What is your largest form of expense  \\\n",
       "0                              Feeding   \n",
       "1                       Transportation   \n",
       "2                          School Fees   \n",
       "3                       Transportation   \n",
       "4                       Transportation   \n",
       "\n",
       "  If there was one thing you really wanted to own, what would that be?  \\\n",
       "0                                          A Company                     \n",
       "1                                            A House                     \n",
       "2                                          A Company                     \n",
       "3                                              Money                     \n",
       "4                                          A Company                     \n",
       "\n",
       "  How much do you think you earn from all other sources of income in a month  \\\n",
       "0                                                NaN                           \n",
       "1                                            18000.0                           \n",
       "2                                            40000.0                           \n",
       "3                                           500000.0                           \n",
       "4                                                0.0                           \n",
       "\n",
       "  On an average, how much do you think you spend in a month?  \\\n",
       "0                                              25000           \n",
       "1                                              20000           \n",
       "2                                             140000           \n",
       "3                                             100000           \n",
       "4                                              60000           \n",
       "\n",
       "   Do you think Nigeria can get better?  \\\n",
       "0                                   Yes   \n",
       "1                                   Yes   \n",
       "2                                   Yes   \n",
       "3                                   Yes   \n",
       "4                                   Yes   \n",
       "\n",
       "       In a short sentence, describe your government  \\\n",
       "0                                        Frustrating   \n",
       "1                     Greedy, self centered and dull   \n",
       "2  Our government do not care about what the mass...   \n",
       "3  There is discrepancy in Nigeria's governance. ...   \n",
       "4  It is a corrupt one lead by inconsiderate fell...   \n",
       "\n",
       "  Please fill your email if you want to be notified once this research is completed.  \n",
       "0                              ikeoluwa933@gmail.com                                  \n",
       "1                                                NaN                                  \n",
       "2                      olanrewaju1temitayo@gmail.com                                  \n",
       "3                          adewunmi.fatoki@gmail.com                                  \n",
       "4                              Johnnyark9@gmail.com                                   \n",
       "\n",
       "[5 rows x 22 columns]"
      ]
     },
     "execution_count": 2,
     "metadata": {},
     "output_type": "execute_result"
    }
   ],
   "source": [
    "data = pd.read_csv('NIGERIA_DEMOGRAPHICS_DATA.csv')\n",
    "data.head()"
   ]
  },
  {
   "cell_type": "code",
   "execution_count": 3,
   "metadata": {},
   "outputs": [
    {
     "data": {
      "text/plain": [
       "(303, 22)"
      ]
     },
     "execution_count": 3,
     "metadata": {},
     "output_type": "execute_result"
    }
   ],
   "source": [
    "data.shape"
   ]
  },
  {
   "cell_type": "code",
   "execution_count": null,
   "metadata": {},
   "outputs": [],
   "source": []
  },
  {
   "cell_type": "code",
   "execution_count": 4,
   "metadata": {},
   "outputs": [
    {
     "data": {
      "text/html": [
       "<div>\n",
       "<style scoped>\n",
       "    .dataframe tbody tr th:only-of-type {\n",
       "        vertical-align: middle;\n",
       "    }\n",
       "\n",
       "    .dataframe tbody tr th {\n",
       "        vertical-align: top;\n",
       "    }\n",
       "\n",
       "    .dataframe thead th {\n",
       "        text-align: right;\n",
       "    }\n",
       "</style>\n",
       "<table border=\"1\" class=\"dataframe\">\n",
       "  <thead>\n",
       "    <tr style=\"text-align: right;\">\n",
       "      <th></th>\n",
       "      <th>Are you a Nigerian?</th>\n",
       "      <th>Gender</th>\n",
       "      <th>Age Group</th>\n",
       "      <th>Are you married?</th>\n",
       "      <th>Do you have kids?</th>\n",
       "      <th>Where do you live?</th>\n",
       "      <th>What part of your state do you live in?</th>\n",
       "      <th>Occupation</th>\n",
       "      <th>Are you Happy with your job?</th>\n",
       "      <th>Is this your primary source of income?</th>\n",
       "      <th>...</th>\n",
       "      <th>Do you think it is enough for you and your family?</th>\n",
       "      <th>What are your other sources of income?</th>\n",
       "      <th>Do you pay your tax?</th>\n",
       "      <th>What is your largest form of expense</th>\n",
       "      <th>If there was one thing you really wanted to own, what would that be?</th>\n",
       "      <th>How much do you think you earn from all other sources of income in a month</th>\n",
       "      <th>On an average, how much do you think you spend in a month?</th>\n",
       "      <th>Do you think Nigeria can get better?</th>\n",
       "      <th>In a short sentence, describe your government</th>\n",
       "      <th>Please fill your email if you want to be notified once this research is completed.</th>\n",
       "    </tr>\n",
       "  </thead>\n",
       "  <tbody>\n",
       "    <tr>\n",
       "      <th>0</th>\n",
       "      <td>NaN</td>\n",
       "      <td>Female</td>\n",
       "      <td>18 – 25</td>\n",
       "      <td>No</td>\n",
       "      <td>No</td>\n",
       "      <td>Lagos</td>\n",
       "      <td>Rural</td>\n",
       "      <td>NaN</td>\n",
       "      <td>No</td>\n",
       "      <td>No</td>\n",
       "      <td>...</td>\n",
       "      <td>No</td>\n",
       "      <td>NaN</td>\n",
       "      <td>No</td>\n",
       "      <td>Feeding</td>\n",
       "      <td>A Company</td>\n",
       "      <td>NaN</td>\n",
       "      <td>25000</td>\n",
       "      <td>Yes</td>\n",
       "      <td>Frustrating</td>\n",
       "      <td>ikeoluwa933@gmail.com</td>\n",
       "    </tr>\n",
       "    <tr>\n",
       "      <th>1</th>\n",
       "      <td>NaN</td>\n",
       "      <td>Female</td>\n",
       "      <td>18 – 25</td>\n",
       "      <td>No</td>\n",
       "      <td>No</td>\n",
       "      <td>Lagos</td>\n",
       "      <td>Rural</td>\n",
       "      <td>No Job</td>\n",
       "      <td>No</td>\n",
       "      <td>No</td>\n",
       "      <td>...</td>\n",
       "      <td>No</td>\n",
       "      <td>Free Lancing</td>\n",
       "      <td>No</td>\n",
       "      <td>Transportation</td>\n",
       "      <td>A House</td>\n",
       "      <td>18000.0</td>\n",
       "      <td>20000</td>\n",
       "      <td>Yes</td>\n",
       "      <td>Greedy, self centered and dull</td>\n",
       "      <td>NaN</td>\n",
       "    </tr>\n",
       "    <tr>\n",
       "      <th>2</th>\n",
       "      <td>NaN</td>\n",
       "      <td>Male</td>\n",
       "      <td>36 – 45</td>\n",
       "      <td>Yes</td>\n",
       "      <td>Yes</td>\n",
       "      <td>Lagos</td>\n",
       "      <td>City</td>\n",
       "      <td>Financial Services</td>\n",
       "      <td>Yes</td>\n",
       "      <td>Yes</td>\n",
       "      <td>...</td>\n",
       "      <td>No</td>\n",
       "      <td>Free Lancing</td>\n",
       "      <td>Yes</td>\n",
       "      <td>School Fees</td>\n",
       "      <td>A Company</td>\n",
       "      <td>40000.0</td>\n",
       "      <td>140000</td>\n",
       "      <td>Yes</td>\n",
       "      <td>Our government do not care about what the mass...</td>\n",
       "      <td>olanrewaju1temitayo@gmail.com</td>\n",
       "    </tr>\n",
       "    <tr>\n",
       "      <th>3</th>\n",
       "      <td>NaN</td>\n",
       "      <td>Female</td>\n",
       "      <td>26 – 35</td>\n",
       "      <td>No</td>\n",
       "      <td>No</td>\n",
       "      <td>Lagos</td>\n",
       "      <td>City</td>\n",
       "      <td>Business</td>\n",
       "      <td>Yes</td>\n",
       "      <td>Yes</td>\n",
       "      <td>...</td>\n",
       "      <td>No</td>\n",
       "      <td>Buying and Selling</td>\n",
       "      <td>Yes</td>\n",
       "      <td>Transportation</td>\n",
       "      <td>Money</td>\n",
       "      <td>500000.0</td>\n",
       "      <td>100000</td>\n",
       "      <td>Yes</td>\n",
       "      <td>There is discrepancy in Nigeria's governance. ...</td>\n",
       "      <td>adewunmi.fatoki@gmail.com</td>\n",
       "    </tr>\n",
       "    <tr>\n",
       "      <th>4</th>\n",
       "      <td>NaN</td>\n",
       "      <td>Male</td>\n",
       "      <td>26 – 35</td>\n",
       "      <td>No</td>\n",
       "      <td>No</td>\n",
       "      <td>Lagos</td>\n",
       "      <td>Rural</td>\n",
       "      <td>Engineering</td>\n",
       "      <td>Yes</td>\n",
       "      <td>Yes</td>\n",
       "      <td>...</td>\n",
       "      <td>Yes</td>\n",
       "      <td>Formal Job</td>\n",
       "      <td>Yes</td>\n",
       "      <td>Transportation</td>\n",
       "      <td>A Company</td>\n",
       "      <td>0.0</td>\n",
       "      <td>60000</td>\n",
       "      <td>Yes</td>\n",
       "      <td>It is a corrupt one lead by inconsiderate fell...</td>\n",
       "      <td>Johnnyark9@gmail.com</td>\n",
       "    </tr>\n",
       "  </tbody>\n",
       "</table>\n",
       "<p>5 rows × 21 columns</p>\n",
       "</div>"
      ],
      "text/plain": [
       "  Are you a Nigerian?  Gender Age Group Are you married? Do you have kids?  \\\n",
       "0                 NaN  Female   18 – 25               No                No   \n",
       "1                 NaN  Female   18 – 25               No                No   \n",
       "2                 NaN    Male   36 – 45              Yes               Yes   \n",
       "3                 NaN  Female   26 – 35               No                No   \n",
       "4                 NaN    Male   26 – 35               No                No   \n",
       "\n",
       "  Where do you live? What part of your state do you live in?  \\\n",
       "0              Lagos                                   Rural   \n",
       "1              Lagos                                   Rural   \n",
       "2              Lagos                                    City   \n",
       "3              Lagos                                    City   \n",
       "4              Lagos                                   Rural   \n",
       "\n",
       "           Occupation Are you Happy with your job?  \\\n",
       "0                 NaN                           No   \n",
       "1              No Job                           No   \n",
       "2  Financial Services                          Yes   \n",
       "3            Business                          Yes   \n",
       "4         Engineering                          Yes   \n",
       "\n",
       "  Is this your primary source of income?  \\\n",
       "0                                     No   \n",
       "1                                     No   \n",
       "2                                    Yes   \n",
       "3                                    Yes   \n",
       "4                                    Yes   \n",
       "\n",
       "                                         ...                                          \\\n",
       "0                                        ...                                           \n",
       "1                                        ...                                           \n",
       "2                                        ...                                           \n",
       "3                                        ...                                           \n",
       "4                                        ...                                           \n",
       "\n",
       "  Do you think it is enough for you and your family?  \\\n",
       "0                                                 No   \n",
       "1                                                 No   \n",
       "2                                                 No   \n",
       "3                                                 No   \n",
       "4                                                Yes   \n",
       "\n",
       "  What are your other sources of income?  Do you pay your tax?  \\\n",
       "0                                     NaN                   No   \n",
       "1                            Free Lancing                   No   \n",
       "2                            Free Lancing                  Yes   \n",
       "3                      Buying and Selling                  Yes   \n",
       "4                              Formal Job                  Yes   \n",
       "\n",
       "  What is your largest form of expense  \\\n",
       "0                              Feeding   \n",
       "1                       Transportation   \n",
       "2                          School Fees   \n",
       "3                       Transportation   \n",
       "4                       Transportation   \n",
       "\n",
       "  If there was one thing you really wanted to own, what would that be?  \\\n",
       "0                                          A Company                     \n",
       "1                                            A House                     \n",
       "2                                          A Company                     \n",
       "3                                              Money                     \n",
       "4                                          A Company                     \n",
       "\n",
       "  How much do you think you earn from all other sources of income in a month  \\\n",
       "0                                                NaN                           \n",
       "1                                            18000.0                           \n",
       "2                                            40000.0                           \n",
       "3                                           500000.0                           \n",
       "4                                                0.0                           \n",
       "\n",
       "   On an average, how much do you think you spend in a month?  \\\n",
       "0                                              25000            \n",
       "1                                              20000            \n",
       "2                                             140000            \n",
       "3                                             100000            \n",
       "4                                              60000            \n",
       "\n",
       "   Do you think Nigeria can get better?  \\\n",
       "0                                   Yes   \n",
       "1                                   Yes   \n",
       "2                                   Yes   \n",
       "3                                   Yes   \n",
       "4                                   Yes   \n",
       "\n",
       "       In a short sentence, describe your government  \\\n",
       "0                                        Frustrating   \n",
       "1                     Greedy, self centered and dull   \n",
       "2  Our government do not care about what the mass...   \n",
       "3  There is discrepancy in Nigeria's governance. ...   \n",
       "4  It is a corrupt one lead by inconsiderate fell...   \n",
       "\n",
       "  Please fill your email if you want to be notified once this research is completed.  \n",
       "0                              ikeoluwa933@gmail.com                                  \n",
       "1                                                NaN                                  \n",
       "2                      olanrewaju1temitayo@gmail.com                                  \n",
       "3                          adewunmi.fatoki@gmail.com                                  \n",
       "4                              Johnnyark9@gmail.com                                   \n",
       "\n",
       "[5 rows x 21 columns]"
      ]
     },
     "execution_count": 4,
     "metadata": {},
     "output_type": "execute_result"
    }
   ],
   "source": [
    "data.drop('Timestamp', 1, inplace = True)\n",
    "data.head()"
   ]
  },
  {
   "cell_type": "code",
   "execution_count": 5,
   "metadata": {},
   "outputs": [
    {
     "data": {
      "text/plain": [
       "array([nan, 'Yes', 'No'], dtype=object)"
      ]
     },
     "execution_count": 5,
     "metadata": {},
     "output_type": "execute_result"
    }
   ],
   "source": [
    "data['Are you a Nigerian?'].unique()"
   ]
  },
  {
   "cell_type": "code",
   "execution_count": 6,
   "metadata": {},
   "outputs": [
    {
     "data": {
      "text/html": [
       "<div>\n",
       "<style scoped>\n",
       "    .dataframe tbody tr th:only-of-type {\n",
       "        vertical-align: middle;\n",
       "    }\n",
       "\n",
       "    .dataframe tbody tr th {\n",
       "        vertical-align: top;\n",
       "    }\n",
       "\n",
       "    .dataframe thead th {\n",
       "        text-align: right;\n",
       "    }\n",
       "</style>\n",
       "<table border=\"1\" class=\"dataframe\">\n",
       "  <thead>\n",
       "    <tr style=\"text-align: right;\">\n",
       "      <th></th>\n",
       "      <th>count</th>\n",
       "      <th>unique</th>\n",
       "      <th>top</th>\n",
       "      <th>freq</th>\n",
       "    </tr>\n",
       "    <tr>\n",
       "      <th>Are you a Nigerian?</th>\n",
       "      <th></th>\n",
       "      <th></th>\n",
       "      <th></th>\n",
       "      <th></th>\n",
       "    </tr>\n",
       "  </thead>\n",
       "  <tbody>\n",
       "    <tr>\n",
       "      <th>No</th>\n",
       "      <td>3</td>\n",
       "      <td>2</td>\n",
       "      <td>21,000 – 50,000</td>\n",
       "      <td>2</td>\n",
       "    </tr>\n",
       "    <tr>\n",
       "      <th>Yes</th>\n",
       "      <td>285</td>\n",
       "      <td>10</td>\n",
       "      <td>21,000 – 50,000</td>\n",
       "      <td>78</td>\n",
       "    </tr>\n",
       "  </tbody>\n",
       "</table>\n",
       "</div>"
      ],
      "text/plain": [
       "                    count unique              top freq\n",
       "Are you a Nigerian?                                   \n",
       "No                      3      2  21,000 – 50,000    2\n",
       "Yes                   285     10  21,000 – 50,000   78"
      ]
     },
     "execution_count": 6,
     "metadata": {},
     "output_type": "execute_result"
    }
   ],
   "source": [
    "Nigerians = data.groupby('Are you a Nigerian?')['What is your steady/constant income range in a month?'].describe()\n",
    "Nigerians "
   ]
  },
  {
   "cell_type": "markdown",
   "metadata": {},
   "source": [
    "285 out of the 303 samples are Nigerian, 3 are not Nigerian, 15 are not available "
   ]
  },
  {
   "cell_type": "code",
   "execution_count": 7,
   "metadata": {},
   "outputs": [
    {
     "data": {
      "text/plain": [
       "(3, 21)"
      ]
     },
     "execution_count": 7,
     "metadata": {},
     "output_type": "execute_result"
    }
   ],
   "source": [
    "data[data['Are you a Nigerian?'] == 'No'].shape"
   ]
  },
  {
   "cell_type": "code",
   "execution_count": 8,
   "metadata": {},
   "outputs": [
    {
     "data": {
      "text/plain": [
       "(285, 21)"
      ]
     },
     "execution_count": 8,
     "metadata": {},
     "output_type": "execute_result"
    }
   ],
   "source": [
    "data[data['Are you a Nigerian?'] == 'Yes'].shape"
   ]
  },
  {
   "cell_type": "code",
   "execution_count": null,
   "metadata": {},
   "outputs": [],
   "source": []
  },
  {
   "cell_type": "code",
   "execution_count": 9,
   "metadata": {},
   "outputs": [
    {
     "data": {
      "text/plain": [
       "array(['Below 5000', '11,000 – 20,000', '110,000 – 200,000',\n",
       "       '201,000 – 300,000', '51,000 – 80,000', '21,000 – 50,000',\n",
       "       '81,000 – 100,000', '5000 – 10,000', '500,000 – above',\n",
       "       '301,000 – 500,000'], dtype=object)"
      ]
     },
     "execution_count": 9,
     "metadata": {},
     "output_type": "execute_result"
    }
   ],
   "source": [
    "data['What is your steady/constant income range in a month?'].unique()"
   ]
  },
  {
   "cell_type": "code",
   "execution_count": 10,
   "metadata": {},
   "outputs": [
    {
     "data": {
      "text/plain": [
       "(303,)"
      ]
     },
     "execution_count": 10,
     "metadata": {},
     "output_type": "execute_result"
    }
   ],
   "source": [
    "salaries = data['What is your steady/constant income range in a month?']\n",
    "salaries.shape"
   ]
  },
  {
   "cell_type": "code",
   "execution_count": 11,
   "metadata": {},
   "outputs": [
    {
     "data": {
      "text/plain": [
       "What is your steady/constant income range in a month?\n",
       "11,000 – 20,000      29\n",
       "110,000 – 200,000    37\n",
       "201,000 – 300,000    23\n",
       "21,000 – 50,000      82\n",
       "301,000 – 500,000     9\n",
       "500,000 – above       8\n",
       "5000 – 10,000        18\n",
       "51,000 – 80,000      33\n",
       "81,000 – 100,000     35\n",
       "Below 5000           29\n",
       "Name: What is your steady/constant income range in a month?, dtype: int64"
      ]
     },
     "execution_count": 11,
     "metadata": {},
     "output_type": "execute_result"
    }
   ],
   "source": [
    "salaries = data.groupby('What is your steady/constant income range in a month?')['What is your steady/constant income range in a month?'].count()\n",
    "salaries"
   ]
  },
  {
   "cell_type": "code",
   "execution_count": 12,
   "metadata": {},
   "outputs": [
    {
     "data": {
      "text/plain": [
       "What is your steady/constant income range in a month?\n",
       "Below 5000           29\n",
       "5000 – 10,000        18\n",
       "11,000 – 20,000      29\n",
       "21,000 – 50,000      82\n",
       "51,000 – 80,000      33\n",
       "81,000 – 100,000     35\n",
       "110,000 – 200,000    37\n",
       "201,000 – 300,000    23\n",
       "301,000 – 500,000     9\n",
       "500,000 – above       8\n",
       "Name: What is your steady/constant income range in a month?, dtype: int64"
      ]
     },
     "execution_count": 12,
     "metadata": {},
     "output_type": "execute_result"
    }
   ],
   "source": [
    "salaries = salaries.reindex(['Below 5000', '5000 – 10,000', '11,000 – 20,000', '21,000 – 50,000', '51,000 – 80,000','81,000 – 100,000', \n",
    "                  '110,000 – 200,000','201,000 – 300,000','301,000 – 500,000', '500,000 – above'])\n",
    "salaries"
   ]
  },
  {
   "cell_type": "code",
   "execution_count": 13,
   "metadata": {},
   "outputs": [
    {
     "data": {
      "text/plain": [
       "<BarContainer object of 10 artists>"
      ]
     },
     "execution_count": 13,
     "metadata": {},
     "output_type": "execute_result"
    },
    {
     "data": {
      "image/png": "[encoded data removed]",
      "text/plain": [
       "<Figure size 432x288 with 1 Axes>"
      ]
     },
     "metadata": {
      "needs_background": "light"
     },
     "output_type": "display_data"
    }
   ],
   "source": [
    "plt.barh(salaries.index, salaries)"
   ]
  },
  {
   "cell_type": "code",
   "execution_count": 14,
   "metadata": {},
   "outputs": [
    {
     "data": {
      "text/plain": [
       "What is your steady/constant income range in a month?\n",
       "Below 5000           10.0\n",
       "5000 – 10,000         6.0\n",
       "11,000 – 20,000      10.0\n",
       "21,000 – 50,000      27.0\n",
       "51,000 – 80,000      11.0\n",
       "81,000 – 100,000     12.0\n",
       "110,000 – 200,000    12.0\n",
       "201,000 – 300,000     8.0\n",
       "301,000 – 500,000     3.0\n",
       "500,000 – above       3.0\n",
       "Name: What is your steady/constant income range in a month?, dtype: float64"
      ]
     },
     "execution_count": 14,
     "metadata": {},
     "output_type": "execute_result"
    }
   ],
   "source": [
    "salaries_percent = (salaries/ salaries.sum()).round(decimals = 2) * 100\n",
    "salaries_percent"
   ]
  },
  {
   "cell_type": "code",
   "execution_count": 15,
   "metadata": {},
   "outputs": [
    {
     "data": {
      "text/html": [
       "<div>\n",
       "<style scoped>\n",
       "    .dataframe tbody tr th:only-of-type {\n",
       "        vertical-align: middle;\n",
       "    }\n",
       "\n",
       "    .dataframe tbody tr th {\n",
       "        vertical-align: top;\n",
       "    }\n",
       "\n",
       "    .dataframe thead th {\n",
       "        text-align: right;\n",
       "    }\n",
       "</style>\n",
       "<table border=\"1\" class=\"dataframe\">\n",
       "  <thead>\n",
       "    <tr style=\"text-align: right;\">\n",
       "      <th></th>\n",
       "      <th>Number of People</th>\n",
       "      <th>Percentage of Sample</th>\n",
       "    </tr>\n",
       "    <tr>\n",
       "      <th>What is your steady/constant income range in a month?</th>\n",
       "      <th></th>\n",
       "      <th></th>\n",
       "    </tr>\n",
       "  </thead>\n",
       "  <tbody>\n",
       "    <tr>\n",
       "      <th>Below 5000</th>\n",
       "      <td>29</td>\n",
       "      <td>10.0</td>\n",
       "    </tr>\n",
       "    <tr>\n",
       "      <th>5000 – 10,000</th>\n",
       "      <td>18</td>\n",
       "      <td>6.0</td>\n",
       "    </tr>\n",
       "    <tr>\n",
       "      <th>11,000 – 20,000</th>\n",
       "      <td>29</td>\n",
       "      <td>10.0</td>\n",
       "    </tr>\n",
       "    <tr>\n",
       "      <th>21,000 – 50,000</th>\n",
       "      <td>82</td>\n",
       "      <td>27.0</td>\n",
       "    </tr>\n",
       "    <tr>\n",
       "      <th>51,000 – 80,000</th>\n",
       "      <td>33</td>\n",
       "      <td>11.0</td>\n",
       "    </tr>\n",
       "    <tr>\n",
       "      <th>81,000 – 100,000</th>\n",
       "      <td>35</td>\n",
       "      <td>12.0</td>\n",
       "    </tr>\n",
       "    <tr>\n",
       "      <th>110,000 – 200,000</th>\n",
       "      <td>37</td>\n",
       "      <td>12.0</td>\n",
       "    </tr>\n",
       "    <tr>\n",
       "      <th>201,000 – 300,000</th>\n",
       "      <td>23</td>\n",
       "      <td>8.0</td>\n",
       "    </tr>\n",
       "    <tr>\n",
       "      <th>301,000 – 500,000</th>\n",
       "      <td>9</td>\n",
       "      <td>3.0</td>\n",
       "    </tr>\n",
       "    <tr>\n",
       "      <th>500,000 – above</th>\n",
       "      <td>8</td>\n",
       "      <td>3.0</td>\n",
       "    </tr>\n",
       "  </tbody>\n",
       "</table>\n",
       "</div>"
      ],
      "text/plain": [
       "                                                    Number of People  \\\n",
       "What is your steady/constant income range in a ...                     \n",
       "Below 5000                                                        29   \n",
       "5000 – 10,000                                                     18   \n",
       "11,000 – 20,000                                                   29   \n",
       "21,000 – 50,000                                                   82   \n",
       "51,000 – 80,000                                                   33   \n",
       "81,000 – 100,000                                                  35   \n",
       "110,000 – 200,000                                                 37   \n",
       "201,000 – 300,000                                                 23   \n",
       "301,000 – 500,000                                                  9   \n",
       "500,000 – above                                                    8   \n",
       "\n",
       "                                                    Percentage of Sample  \n",
       "What is your steady/constant income range in a ...                        \n",
       "Below 5000                                                          10.0  \n",
       "5000 – 10,000                                                        6.0  \n",
       "11,000 – 20,000                                                     10.0  \n",
       "21,000 – 50,000                                                     27.0  \n",
       "51,000 – 80,000                                                     11.0  \n",
       "81,000 – 100,000                                                    12.0  \n",
       "110,000 – 200,000                                                   12.0  \n",
       "201,000 – 300,000                                                    8.0  \n",
       "301,000 – 500,000                                                    3.0  \n",
       "500,000 – above                                                      3.0  "
      ]
     },
     "execution_count": 15,
     "metadata": {},
     "output_type": "execute_result"
    }
   ],
   "source": [
    "Salaries = pd.concat([salaries, salaries_percent], axis = 1, names = ['Number of People', 'Percentage of Sample'])\n",
    "Salaries.columns = ['Number of People', 'Percentage of Sample']\n",
    "Salaries"
   ]
  },
  {
   "cell_type": "markdown",
   "metadata": {},
   "source": [
    "## OBSERVATION\n",
    "Only 26% of our sample earn above 100, 000 Naira "
   ]
  },
  {
   "cell_type": "code",
   "execution_count": null,
   "metadata": {},
   "outputs": [],
   "source": []
  },
  {
   "cell_type": "code",
   "execution_count": 16,
   "metadata": {},
   "outputs": [
    {
     "data": {
      "text/html": [
       "<div>\n",
       "<style scoped>\n",
       "    .dataframe tbody tr th:only-of-type {\n",
       "        vertical-align: middle;\n",
       "    }\n",
       "\n",
       "    .dataframe tbody tr th {\n",
       "        vertical-align: top;\n",
       "    }\n",
       "\n",
       "    .dataframe thead th {\n",
       "        text-align: right;\n",
       "    }\n",
       "</style>\n",
       "<table border=\"1\" class=\"dataframe\">\n",
       "  <thead>\n",
       "    <tr style=\"text-align: right;\">\n",
       "      <th></th>\n",
       "      <th>count</th>\n",
       "      <th>unique</th>\n",
       "      <th>top</th>\n",
       "      <th>freq</th>\n",
       "    </tr>\n",
       "    <tr>\n",
       "      <th>What is your steady/constant income range in a month?</th>\n",
       "      <th></th>\n",
       "      <th></th>\n",
       "      <th></th>\n",
       "      <th></th>\n",
       "    </tr>\n",
       "  </thead>\n",
       "  <tbody>\n",
       "    <tr>\n",
       "      <th>11,000 – 20,000</th>\n",
       "      <td>29</td>\n",
       "      <td>2</td>\n",
       "      <td>No</td>\n",
       "      <td>16</td>\n",
       "    </tr>\n",
       "    <tr>\n",
       "      <th>110,000 – 200,000</th>\n",
       "      <td>37</td>\n",
       "      <td>2</td>\n",
       "      <td>Yes</td>\n",
       "      <td>21</td>\n",
       "    </tr>\n",
       "    <tr>\n",
       "      <th>201,000 – 300,000</th>\n",
       "      <td>23</td>\n",
       "      <td>2</td>\n",
       "      <td>Yes</td>\n",
       "      <td>20</td>\n",
       "    </tr>\n",
       "    <tr>\n",
       "      <th>21,000 – 50,000</th>\n",
       "      <td>82</td>\n",
       "      <td>2</td>\n",
       "      <td>Yes</td>\n",
       "      <td>47</td>\n",
       "    </tr>\n",
       "    <tr>\n",
       "      <th>301,000 – 500,000</th>\n",
       "      <td>9</td>\n",
       "      <td>1</td>\n",
       "      <td>Yes</td>\n",
       "      <td>9</td>\n",
       "    </tr>\n",
       "    <tr>\n",
       "      <th>500,000 – above</th>\n",
       "      <td>8</td>\n",
       "      <td>2</td>\n",
       "      <td>Yes</td>\n",
       "      <td>6</td>\n",
       "    </tr>\n",
       "    <tr>\n",
       "      <th>5000 – 10,000</th>\n",
       "      <td>18</td>\n",
       "      <td>2</td>\n",
       "      <td>Yes</td>\n",
       "      <td>10</td>\n",
       "    </tr>\n",
       "    <tr>\n",
       "      <th>51,000 – 80,000</th>\n",
       "      <td>33</td>\n",
       "      <td>2</td>\n",
       "      <td>Yes</td>\n",
       "      <td>21</td>\n",
       "    </tr>\n",
       "    <tr>\n",
       "      <th>81,000 – 100,000</th>\n",
       "      <td>35</td>\n",
       "      <td>2</td>\n",
       "      <td>Yes</td>\n",
       "      <td>22</td>\n",
       "    </tr>\n",
       "    <tr>\n",
       "      <th>Below 5000</th>\n",
       "      <td>29</td>\n",
       "      <td>2</td>\n",
       "      <td>No</td>\n",
       "      <td>22</td>\n",
       "    </tr>\n",
       "  </tbody>\n",
       "</table>\n",
       "</div>"
      ],
      "text/plain": [
       "                                                   count unique  top freq\n",
       "What is your steady/constant income range in a ...                       \n",
       "11,000 – 20,000                                       29      2   No   16\n",
       "110,000 – 200,000                                     37      2  Yes   21\n",
       "201,000 – 300,000                                     23      2  Yes   20\n",
       "21,000 – 50,000                                       82      2  Yes   47\n",
       "301,000 – 500,000                                      9      1  Yes    9\n",
       "500,000 – above                                        8      2  Yes    6\n",
       "5000 – 10,000                                         18      2  Yes   10\n",
       "51,000 – 80,000                                       33      2  Yes   21\n",
       "81,000 – 100,000                                      35      2  Yes   22\n",
       "Below 5000                                            29      2   No   22"
      ]
     },
     "execution_count": 16,
     "metadata": {},
     "output_type": "execute_result"
    }
   ],
   "source": [
    "data.groupby('What is your steady/constant income range in a month?')['Are you Happy with your job?'].describe()"
   ]
  },
  {
   "cell_type": "code",
   "execution_count": 17,
   "metadata": {},
   "outputs": [],
   "source": [
    "happy_withjob = data[['What is your steady/constant income range in a month?','Are you Happy with your job?' ]]\n",
    "happy_employees = happy_withjob[happy_withjob['Are you Happy with your job?'] == 'Yes']\n",
    "unhappy_employees = happy_withjob[happy_withjob['Are you Happy with your job?'] == 'No']"
   ]
  },
  {
   "cell_type": "code",
   "execution_count": 18,
   "metadata": {},
   "outputs": [],
   "source": [
    "happy_grouped = happy_employees.groupby('What is your steady/constant income range in a month?').count()\n",
    "happy_grouped = happy_grouped.reindex(['Below 5000', '5000 – 10,000', '11,000 – 20,000', '21,000 – 50,000', '51,000 – 80,000','81,000 – 100,000', \n",
    "                                       '110,000 – 200,000','201,000 – 300,000','301,000 – 500,000', '500,000 – above'])\n",
    "unhappy_grouped = unhappy_employees.groupby('What is your steady/constant income range in a month?').count()\n",
    "unhappy_grouped = unhappy_grouped.reindex(['Below 5000', '5000 – 10,000', '11,000 – 20,000', '21,000 – 50,000', '51,000 – 80,000','81,000 – 100,000', \n",
    "                                           '110,000 – 200,000','201,000 – 300,000','301,000 – 500,000', '500,000 – above'])"
   ]
  },
  {
   "cell_type": "code",
   "execution_count": 19,
   "metadata": {},
   "outputs": [],
   "source": [
    "happy_array = np.asarray(happy_grouped['Are you Happy with your job?'])\n",
    "unhappy_array = np.asarray(unhappy_grouped['Are you Happy with your job?'])\n"
   ]
  },
  {
   "cell_type": "code",
   "execution_count": 20,
   "metadata": {},
   "outputs": [
    {
     "data": {
      "image/png": "[encoded data removed]",
      "text/plain": [
       "<Figure size 432x288 with 1 Axes>"
      ]
     },
     "metadata": {
      "needs_background": "light"
     },
     "output_type": "display_data"
    }
   ],
   "source": [
    "n_groups = 10 \n",
    "fig, ax = plt.subplots()\n",
    "index = np.arange(n_groups)\n",
    "bar_width = 0.35\n",
    "alpha = 0.8\n",
    "\n",
    "happy_bar = plt.barh(index, happy_array, bar_width, color = 'b', alpha = alpha, label = 'Happy')\n",
    "unhappy_bar = plt.barh(index + bar_width, unhappy_array, bar_width, color = 'g', alpha = alpha, label = 'Unhappy')\n",
    "\n",
    "plt.xlabel('Number of People')\n",
    "plt.ylabel('Salary Range')\n",
    "plt.title('Satisfaction with job across Salary ranges')\n",
    "plt.yticks(index + bar_width, ('Below 5000', '5000 – 10,000', '11,000 – 20,000', '21,000 – 50,000', '51,000 – 80,000','81,000 – 100,000', \n",
    "                               '110,000 – 200,000','201,000 – 300,000','301,000 – 500,000', '500,000 – above'))\n",
    "plt.legend()\n",
    "plt.tight_layout()"
   ]
  },
  {
   "cell_type": "markdown",
   "metadata": {},
   "source": [
    "## OBSERVATION \n",
    "A lot of people in the sample are happy with the jobs, more people are happy with their jobs across all the salary ranges except in the 'Below 5000' and '11,000 - 20,000' range "
   ]
  },
  {
   "cell_type": "code",
   "execution_count": null,
   "metadata": {},
   "outputs": [],
   "source": []
  },
  {
   "cell_type": "code",
   "execution_count": 21,
   "metadata": {},
   "outputs": [
    {
     "data": {
      "text/plain": [
       "array(['No', 'Yes'], dtype=object)"
      ]
     },
     "execution_count": 21,
     "metadata": {},
     "output_type": "execute_result"
    }
   ],
   "source": [
    "data['Is this your primary source of income?'].unique()"
   ]
  },
  {
   "cell_type": "code",
   "execution_count": 22,
   "metadata": {},
   "outputs": [],
   "source": [
    "source_of_income = data[['What is your steady/constant income range in a month?','Is this your primary source of income?']]\n",
    "primary = source_of_income[source_of_income['Is this your primary source of income?'] == 'Yes']\n",
    "not_primary = source_of_income[source_of_income['Is this your primary source of income?'] == 'No']\n"
   ]
  },
  {
   "cell_type": "code",
   "execution_count": 23,
   "metadata": {},
   "outputs": [],
   "source": [
    "primary_grouped = primary.groupby('What is your steady/constant income range in a month?').count()\n",
    "primary_grouped = primary_grouped.reindex(['Below 5000', '5000 – 10,000', '11,000 – 20,000', '21,000 – 50,000', '51,000 – 80,000',\n",
    "                                           '81,000 – 100,000', '110,000 – 200,000','201,000 – 300,000','301,000 – 500,000', '500,000 – above'])\n",
    "not_primary_grouped = not_primary.groupby('What is your steady/constant income range in a month?').count()\n",
    "not_primary_grouped = not_primary_grouped.reindex(['Below 5000', '5000 – 10,000', '11,000 – 20,000', '21,000 – 50,000', '51,000 – 80,000',\n",
    "                                               '81,000 – 100,000', '110,000 – 200,000', '500,000 – above'])"
   ]
  },
  {
   "cell_type": "code",
   "execution_count": 24,
   "metadata": {},
   "outputs": [],
   "source": [
    "primary_array = np.asarray(primary_grouped['Is this your primary source of income?'])\n",
    "not_primary_array = np.array([15, 9, 14, 20, 3, 1, 2, 0, 0, 1])"
   ]
  },
  {
   "cell_type": "code",
   "execution_count": 25,
   "metadata": {},
   "outputs": [
    {
     "data": {
      "text/html": [
       "<div>\n",
       "<style scoped>\n",
       "    .dataframe tbody tr th:only-of-type {\n",
       "        vertical-align: middle;\n",
       "    }\n",
       "\n",
       "    .dataframe tbody tr th {\n",
       "        vertical-align: top;\n",
       "    }\n",
       "\n",
       "    .dataframe thead th {\n",
       "        text-align: right;\n",
       "    }\n",
       "</style>\n",
       "<table border=\"1\" class=\"dataframe\">\n",
       "  <thead>\n",
       "    <tr style=\"text-align: right;\">\n",
       "      <th></th>\n",
       "      <th>Is this your primary source of income?</th>\n",
       "    </tr>\n",
       "    <tr>\n",
       "      <th>What is your steady/constant income range in a month?</th>\n",
       "      <th></th>\n",
       "    </tr>\n",
       "  </thead>\n",
       "  <tbody>\n",
       "    <tr>\n",
       "      <th>Below 5000</th>\n",
       "      <td>15</td>\n",
       "    </tr>\n",
       "    <tr>\n",
       "      <th>5000 – 10,000</th>\n",
       "      <td>9</td>\n",
       "    </tr>\n",
       "    <tr>\n",
       "      <th>11,000 – 20,000</th>\n",
       "      <td>14</td>\n",
       "    </tr>\n",
       "    <tr>\n",
       "      <th>21,000 – 50,000</th>\n",
       "      <td>20</td>\n",
       "    </tr>\n",
       "    <tr>\n",
       "      <th>51,000 – 80,000</th>\n",
       "      <td>3</td>\n",
       "    </tr>\n",
       "    <tr>\n",
       "      <th>81,000 – 100,000</th>\n",
       "      <td>1</td>\n",
       "    </tr>\n",
       "    <tr>\n",
       "      <th>110,000 – 200,000</th>\n",
       "      <td>2</td>\n",
       "    </tr>\n",
       "    <tr>\n",
       "      <th>500,000 – above</th>\n",
       "      <td>1</td>\n",
       "    </tr>\n",
       "  </tbody>\n",
       "</table>\n",
       "</div>"
      ],
      "text/plain": [
       "                                                    Is this your primary source of income?\n",
       "What is your steady/constant income range in a ...                                        \n",
       "Below 5000                                                                              15\n",
       "5000 – 10,000                                                                            9\n",
       "11,000 – 20,000                                                                         14\n",
       "21,000 – 50,000                                                                         20\n",
       "51,000 – 80,000                                                                          3\n",
       "81,000 – 100,000                                                                         1\n",
       "110,000 – 200,000                                                                        2\n",
       "500,000 – above                                                                          1"
      ]
     },
     "execution_count": 25,
     "metadata": {},
     "output_type": "execute_result"
    }
   ],
   "source": [
    "not_primary_grouped"
   ]
  },
  {
   "cell_type": "code",
   "execution_count": 26,
   "metadata": {},
   "outputs": [
    {
     "data": {
      "text/plain": [
       "array([15,  9, 14, 20,  3,  1,  2,  0,  0,  1])"
      ]
     },
     "execution_count": 26,
     "metadata": {},
     "output_type": "execute_result"
    }
   ],
   "source": [
    "not_primary_array"
   ]
  },
  {
   "cell_type": "code",
   "execution_count": 27,
   "metadata": {},
   "outputs": [
    {
     "data": {
      "text/html": [
       "<div>\n",
       "<style scoped>\n",
       "    .dataframe tbody tr th:only-of-type {\n",
       "        vertical-align: middle;\n",
       "    }\n",
       "\n",
       "    .dataframe tbody tr th {\n",
       "        vertical-align: top;\n",
       "    }\n",
       "\n",
       "    .dataframe thead th {\n",
       "        text-align: right;\n",
       "    }\n",
       "</style>\n",
       "<table border=\"1\" class=\"dataframe\">\n",
       "  <thead>\n",
       "    <tr style=\"text-align: right;\">\n",
       "      <th></th>\n",
       "      <th>count</th>\n",
       "      <th>unique</th>\n",
       "      <th>top</th>\n",
       "      <th>freq</th>\n",
       "    </tr>\n",
       "    <tr>\n",
       "      <th>What is your steady/constant income range in a month?</th>\n",
       "      <th></th>\n",
       "      <th></th>\n",
       "      <th></th>\n",
       "      <th></th>\n",
       "    </tr>\n",
       "  </thead>\n",
       "  <tbody>\n",
       "    <tr>\n",
       "      <th>11,000 – 20,000</th>\n",
       "      <td>29</td>\n",
       "      <td>2</td>\n",
       "      <td>Yes</td>\n",
       "      <td>15</td>\n",
       "    </tr>\n",
       "    <tr>\n",
       "      <th>110,000 – 200,000</th>\n",
       "      <td>37</td>\n",
       "      <td>2</td>\n",
       "      <td>Yes</td>\n",
       "      <td>35</td>\n",
       "    </tr>\n",
       "    <tr>\n",
       "      <th>201,000 – 300,000</th>\n",
       "      <td>23</td>\n",
       "      <td>1</td>\n",
       "      <td>Yes</td>\n",
       "      <td>23</td>\n",
       "    </tr>\n",
       "    <tr>\n",
       "      <th>21,000 – 50,000</th>\n",
       "      <td>82</td>\n",
       "      <td>2</td>\n",
       "      <td>Yes</td>\n",
       "      <td>62</td>\n",
       "    </tr>\n",
       "    <tr>\n",
       "      <th>301,000 – 500,000</th>\n",
       "      <td>9</td>\n",
       "      <td>1</td>\n",
       "      <td>Yes</td>\n",
       "      <td>9</td>\n",
       "    </tr>\n",
       "    <tr>\n",
       "      <th>500,000 – above</th>\n",
       "      <td>8</td>\n",
       "      <td>2</td>\n",
       "      <td>Yes</td>\n",
       "      <td>7</td>\n",
       "    </tr>\n",
       "    <tr>\n",
       "      <th>5000 – 10,000</th>\n",
       "      <td>18</td>\n",
       "      <td>2</td>\n",
       "      <td>No</td>\n",
       "      <td>9</td>\n",
       "    </tr>\n",
       "    <tr>\n",
       "      <th>51,000 – 80,000</th>\n",
       "      <td>33</td>\n",
       "      <td>2</td>\n",
       "      <td>Yes</td>\n",
       "      <td>30</td>\n",
       "    </tr>\n",
       "    <tr>\n",
       "      <th>81,000 – 100,000</th>\n",
       "      <td>35</td>\n",
       "      <td>2</td>\n",
       "      <td>Yes</td>\n",
       "      <td>34</td>\n",
       "    </tr>\n",
       "    <tr>\n",
       "      <th>Below 5000</th>\n",
       "      <td>29</td>\n",
       "      <td>2</td>\n",
       "      <td>No</td>\n",
       "      <td>15</td>\n",
       "    </tr>\n",
       "  </tbody>\n",
       "</table>\n",
       "</div>"
      ],
      "text/plain": [
       "                                                   count unique  top freq\n",
       "What is your steady/constant income range in a ...                       \n",
       "11,000 – 20,000                                       29      2  Yes   15\n",
       "110,000 – 200,000                                     37      2  Yes   35\n",
       "201,000 – 300,000                                     23      1  Yes   23\n",
       "21,000 – 50,000                                       82      2  Yes   62\n",
       "301,000 – 500,000                                      9      1  Yes    9\n",
       "500,000 – above                                        8      2  Yes    7\n",
       "5000 – 10,000                                         18      2   No    9\n",
       "51,000 – 80,000                                       33      2  Yes   30\n",
       "81,000 – 100,000                                      35      2  Yes   34\n",
       "Below 5000                                            29      2   No   15"
      ]
     },
     "execution_count": 27,
     "metadata": {},
     "output_type": "execute_result"
    }
   ],
   "source": [
    "data.groupby('What is your steady/constant income range in a month?')['Is this your primary source of income?'].describe()"
   ]
  },
  {
   "cell_type": "code",
   "execution_count": 28,
   "metadata": {},
   "outputs": [
    {
     "data": {
      "image/png": "[encoded data removed]",
      "text/plain": [
       "<Figure size 432x288 with 1 Axes>"
      ]
     },
     "metadata": {
      "needs_background": "light"
     },
     "output_type": "display_data"
    }
   ],
   "source": [
    "n_groups = 10 \n",
    "fig, ax = plt.subplots()\n",
    "index = np.arange(n_groups)\n",
    "bar_width = 0.35\n",
    "alpha = 0.8\n",
    "\n",
    "primary_bar = plt.barh(index, primary_array, bar_width, color = 'b', alpha = alpha, label = 'Primary')\n",
    "not_primary_bar = plt.barh(index + bar_width, not_primary_array, bar_width, color = 'g', alpha = alpha, label = 'Not Primary')\n",
    "\n",
    "plt.xlabel('Number of People')\n",
    "plt.ylabel('Salary Range')\n",
    "plt.title('If jobs are the primary source of income  across Salary ranges')\n",
    "plt.yticks(index + bar_width, ('Below 5000', '5000 – 10,000', '11,000 – 20,000', '21,000 – 50,000', '51,000 – 80,000','81,000 – 100,000', \n",
    "                               '110,000 – 200,000','201,000 – 300,000','301,000 – 500,000', '500,000 – above'))\n",
    "plt.legend()\n",
    "plt.tight_layout()"
   ]
  },
  {
   "cell_type": "markdown",
   "metadata": {},
   "source": [
    "## OBSERVATI0N\n",
    "In all but the \"below 50000\" salary range, their job is their primary source of income "
   ]
  },
  {
   "cell_type": "code",
   "execution_count": 29,
   "metadata": {},
   "outputs": [
    {
     "data": {
      "text/plain": [
       "array(['Feeding', 'Transportation', 'School Fees', 'Rent',\n",
       "       'Clothing and Jewelry', 'Tax', 'Airtime and Data', 'Medical Bills',\n",
       "       'Bribery'], dtype=object)"
      ]
     },
     "execution_count": 29,
     "metadata": {},
     "output_type": "execute_result"
    }
   ],
   "source": [
    "data['What is your largest form of expense'].unique()"
   ]
  },
  {
   "cell_type": "code",
   "execution_count": 32,
   "metadata": {},
   "outputs": [
    {
     "data": {
      "text/plain": [
       "What is your largest form of expense\n",
       "Airtime and Data         20\n",
       "Bribery                   1\n",
       "Clothing and Jewelry      9\n",
       "Feeding                 102\n",
       "Medical Bills             1\n",
       "Rent                     63\n",
       "School Fees              23\n",
       "Tax                       2\n",
       "Transportation           82\n",
       "Name: What is your largest form of expense, dtype: int64"
      ]
     },
     "execution_count": 32,
     "metadata": {},
     "output_type": "execute_result"
    }
   ],
   "source": [
    "expense = data.groupby('What is your largest form of expense')['What is your largest form of expense'].count()\n",
    "expense \n"
   ]
  },
  {
   "cell_type": "code",
   "execution_count": 33,
   "metadata": {},
   "outputs": [
    {
     "data": {
      "text/plain": [
       "Text(0.5, 1.0, 'Major Nigerian Expenses')"
      ]
     },
     "execution_count": 33,
     "metadata": {},
     "output_type": "execute_result"
    },
    {
     "data": {
      "image/png": "[encoded data removed]",
      "text/plain": [
       "<Figure size 432x288 with 1 Axes>"
      ]
     },
     "metadata": {
      "needs_background": "light"
     },
     "output_type": "display_data"
    }
   ],
   "source": [
    "plt.barh(expense.index, expense)\n",
    "plt.title('Major Nigerian Expenses')"
   ]
  },
  {
   "cell_type": "markdown",
   "metadata": {},
   "source": [
    "## OBSERVATION \n",
    "Nigerian's spend most of their money on food, transportation and Housing respectively "
   ]
  },
  {
   "cell_type": "code",
   "execution_count": 34,
   "metadata": {},
   "outputs": [
    {
     "data": {
      "text/plain": [
       "array(['No', 'Yes'], dtype=object)"
      ]
     },
     "execution_count": 34,
     "metadata": {},
     "output_type": "execute_result"
    }
   ],
   "source": [
    "data['Do you pay your tax?'] .unique()"
   ]
  },
  {
   "cell_type": "code",
   "execution_count": 35,
   "metadata": {},
   "outputs": [],
   "source": [
    "taxes = data[['What is your steady/constant income range in a month?' ,'Do you pay your tax?']]\n",
    "pay_taxes = taxes[taxes['Do you pay your tax?'] == 'Yes']\n",
    "not_pay_taxes = taxes[taxes['Do you pay your tax?'] == 'No']\n",
    "\n",
    "paytaxes_grouped = pay_taxes.groupby('What is your steady/constant income range in a month?').count()\n",
    "notpaytaxes_grouped = not_pay_taxes.groupby('What is your steady/constant income range in a month?').count()"
   ]
  },
  {
   "cell_type": "code",
   "execution_count": 36,
   "metadata": {},
   "outputs": [
    {
     "data": {
      "text/html": [
       "<div>\n",
       "<style scoped>\n",
       "    .dataframe tbody tr th:only-of-type {\n",
       "        vertical-align: middle;\n",
       "    }\n",
       "\n",
       "    .dataframe tbody tr th {\n",
       "        vertical-align: top;\n",
       "    }\n",
       "\n",
       "    .dataframe thead th {\n",
       "        text-align: right;\n",
       "    }\n",
       "</style>\n",
       "<table border=\"1\" class=\"dataframe\">\n",
       "  <thead>\n",
       "    <tr style=\"text-align: right;\">\n",
       "      <th></th>\n",
       "      <th>Do you pay your tax?</th>\n",
       "    </tr>\n",
       "    <tr>\n",
       "      <th>What is your steady/constant income range in a month?</th>\n",
       "      <th></th>\n",
       "    </tr>\n",
       "  </thead>\n",
       "  <tbody>\n",
       "    <tr>\n",
       "      <th>11,000 – 20,000</th>\n",
       "      <td>8</td>\n",
       "    </tr>\n",
       "    <tr>\n",
       "      <th>110,000 – 200,000</th>\n",
       "      <td>35</td>\n",
       "    </tr>\n",
       "    <tr>\n",
       "      <th>201,000 – 300,000</th>\n",
       "      <td>20</td>\n",
       "    </tr>\n",
       "    <tr>\n",
       "      <th>21,000 – 50,000</th>\n",
       "      <td>42</td>\n",
       "    </tr>\n",
       "    <tr>\n",
       "      <th>301,000 – 500,000</th>\n",
       "      <td>9</td>\n",
       "    </tr>\n",
       "    <tr>\n",
       "      <th>500,000 – above</th>\n",
       "      <td>4</td>\n",
       "    </tr>\n",
       "    <tr>\n",
       "      <th>5000 – 10,000</th>\n",
       "      <td>3</td>\n",
       "    </tr>\n",
       "    <tr>\n",
       "      <th>51,000 – 80,000</th>\n",
       "      <td>21</td>\n",
       "    </tr>\n",
       "    <tr>\n",
       "      <th>81,000 – 100,000</th>\n",
       "      <td>28</td>\n",
       "    </tr>\n",
       "    <tr>\n",
       "      <th>Below 5000</th>\n",
       "      <td>6</td>\n",
       "    </tr>\n",
       "  </tbody>\n",
       "</table>\n",
       "</div>"
      ],
      "text/plain": [
       "                                                    Do you pay your tax?\n",
       "What is your steady/constant income range in a ...                      \n",
       "11,000 – 20,000                                                        8\n",
       "110,000 – 200,000                                                     35\n",
       "201,000 – 300,000                                                     20\n",
       "21,000 – 50,000                                                       42\n",
       "301,000 – 500,000                                                      9\n",
       "500,000 – above                                                        4\n",
       "5000 – 10,000                                                          3\n",
       "51,000 – 80,000                                                       21\n",
       "81,000 – 100,000                                                      28\n",
       "Below 5000                                                             6"
      ]
     },
     "execution_count": 36,
     "metadata": {},
     "output_type": "execute_result"
    }
   ],
   "source": [
    "\n",
    "paytaxes_grouped"
   ]
  },
  {
   "cell_type": "code",
   "execution_count": 37,
   "metadata": {},
   "outputs": [
    {
     "data": {
      "text/html": [
       "<div>\n",
       "<style scoped>\n",
       "    .dataframe tbody tr th:only-of-type {\n",
       "        vertical-align: middle;\n",
       "    }\n",
       "\n",
       "    .dataframe tbody tr th {\n",
       "        vertical-align: top;\n",
       "    }\n",
       "\n",
       "    .dataframe thead th {\n",
       "        text-align: right;\n",
       "    }\n",
       "</style>\n",
       "<table border=\"1\" class=\"dataframe\">\n",
       "  <thead>\n",
       "    <tr style=\"text-align: right;\">\n",
       "      <th></th>\n",
       "      <th>Do you pay your tax?</th>\n",
       "    </tr>\n",
       "    <tr>\n",
       "      <th>What is your steady/constant income range in a month?</th>\n",
       "      <th></th>\n",
       "    </tr>\n",
       "  </thead>\n",
       "  <tbody>\n",
       "    <tr>\n",
       "      <th>11,000 – 20,000</th>\n",
       "      <td>21</td>\n",
       "    </tr>\n",
       "    <tr>\n",
       "      <th>110,000 – 200,000</th>\n",
       "      <td>2</td>\n",
       "    </tr>\n",
       "    <tr>\n",
       "      <th>201,000 – 300,000</th>\n",
       "      <td>3</td>\n",
       "    </tr>\n",
       "    <tr>\n",
       "      <th>21,000 – 50,000</th>\n",
       "      <td>40</td>\n",
       "    </tr>\n",
       "    <tr>\n",
       "      <th>500,000 – above</th>\n",
       "      <td>4</td>\n",
       "    </tr>\n",
       "    <tr>\n",
       "      <th>5000 – 10,000</th>\n",
       "      <td>15</td>\n",
       "    </tr>\n",
       "    <tr>\n",
       "      <th>51,000 – 80,000</th>\n",
       "      <td>12</td>\n",
       "    </tr>\n",
       "    <tr>\n",
       "      <th>81,000 – 100,000</th>\n",
       "      <td>7</td>\n",
       "    </tr>\n",
       "    <tr>\n",
       "      <th>Below 5000</th>\n",
       "      <td>23</td>\n",
       "    </tr>\n",
       "  </tbody>\n",
       "</table>\n",
       "</div>"
      ],
      "text/plain": [
       "                                                    Do you pay your tax?\n",
       "What is your steady/constant income range in a ...                      \n",
       "11,000 – 20,000                                                       21\n",
       "110,000 – 200,000                                                      2\n",
       "201,000 – 300,000                                                      3\n",
       "21,000 – 50,000                                                       40\n",
       "500,000 – above                                                        4\n",
       "5000 – 10,000                                                         15\n",
       "51,000 – 80,000                                                       12\n",
       "81,000 – 100,000                                                       7\n",
       "Below 5000                                                            23"
      ]
     },
     "execution_count": 37,
     "metadata": {},
     "output_type": "execute_result"
    }
   ],
   "source": [
    "notpaytaxes_grouped"
   ]
  },
  {
   "cell_type": "code",
   "execution_count": 38,
   "metadata": {},
   "outputs": [
    {
     "data": {
      "text/html": [
       "<div>\n",
       "<style scoped>\n",
       "    .dataframe tbody tr th:only-of-type {\n",
       "        vertical-align: middle;\n",
       "    }\n",
       "\n",
       "    .dataframe tbody tr th {\n",
       "        vertical-align: top;\n",
       "    }\n",
       "\n",
       "    .dataframe thead th {\n",
       "        text-align: right;\n",
       "    }\n",
       "</style>\n",
       "<table border=\"1\" class=\"dataframe\">\n",
       "  <thead>\n",
       "    <tr style=\"text-align: right;\">\n",
       "      <th></th>\n",
       "      <th>Do you pay your tax?</th>\n",
       "    </tr>\n",
       "    <tr>\n",
       "      <th>What is your steady/constant income range in a month?</th>\n",
       "      <th></th>\n",
       "    </tr>\n",
       "  </thead>\n",
       "  <tbody>\n",
       "    <tr>\n",
       "      <th>11,000 – 20,000</th>\n",
       "      <td>21</td>\n",
       "    </tr>\n",
       "    <tr>\n",
       "      <th>110,000 – 200,000</th>\n",
       "      <td>2</td>\n",
       "    </tr>\n",
       "    <tr>\n",
       "      <th>201,000 – 300,000</th>\n",
       "      <td>3</td>\n",
       "    </tr>\n",
       "    <tr>\n",
       "      <th>21,000 – 50,000</th>\n",
       "      <td>40</td>\n",
       "    </tr>\n",
       "    <tr>\n",
       "      <th>500,000 – above</th>\n",
       "      <td>4</td>\n",
       "    </tr>\n",
       "    <tr>\n",
       "      <th>5000 – 10,000</th>\n",
       "      <td>15</td>\n",
       "    </tr>\n",
       "    <tr>\n",
       "      <th>51,000 – 80,000</th>\n",
       "      <td>12</td>\n",
       "    </tr>\n",
       "    <tr>\n",
       "      <th>81,000 – 100,000</th>\n",
       "      <td>7</td>\n",
       "    </tr>\n",
       "    <tr>\n",
       "      <th>Below 5000</th>\n",
       "      <td>23</td>\n",
       "    </tr>\n",
       "    <tr>\n",
       "      <th>301,000 - 500,000</th>\n",
       "      <td>0</td>\n",
       "    </tr>\n",
       "  </tbody>\n",
       "</table>\n",
       "</div>"
      ],
      "text/plain": [
       "                                                    Do you pay your tax?\n",
       "What is your steady/constant income range in a ...                      \n",
       "11,000 – 20,000                                                       21\n",
       "110,000 – 200,000                                                      2\n",
       "201,000 – 300,000                                                      3\n",
       "21,000 – 50,000                                                       40\n",
       "500,000 – above                                                        4\n",
       "5000 – 10,000                                                         15\n",
       "51,000 – 80,000                                                       12\n",
       "81,000 – 100,000                                                       7\n",
       "Below 5000                                                            23\n",
       "301,000 - 500,000                                                      0"
      ]
     },
     "execution_count": 38,
     "metadata": {},
     "output_type": "execute_result"
    }
   ],
   "source": [
    "notpaytaxes_grouped.loc['301,000 - 500,000'] = 0\n",
    "notpaytaxes_grouped"
   ]
  },
  {
   "cell_type": "code",
   "execution_count": 39,
   "metadata": {},
   "outputs": [
    {
     "data": {
      "text/plain": [
       "Do you pay your tax?    303\n",
       "dtype: int64"
      ]
     },
     "execution_count": 39,
     "metadata": {},
     "output_type": "execute_result"
    }
   ],
   "source": [
    "notpaytaxes_grouped.sum() + paytaxes_grouped.sum()"
   ]
  },
  {
   "cell_type": "code",
   "execution_count": 40,
   "metadata": {},
   "outputs": [],
   "source": [
    "paytaxes_grouped = paytaxes_grouped.reindex(['Below 5000', '5000 – 10,000', '11,000 – 20,000', '21,000 – 50,000', '51,000 – 80,000',\n",
    "                                           '81,000 – 100,000', '110,000 – 200,000','201,000 – 300,000',\n",
    "                                           '301,000 – 500,000', '500,000 – above'])\n",
    "\n",
    "notpaytaxes_grouped = notpaytaxes_grouped.reindex(['Below 5000', '5000 – 10,000', '11,000 – 20,000', '21,000 – 50,000', '51,000 – 80,000',\n",
    "                                           '81,000 – 100,000', '110,000 – 200,000','201,000 – 300,000',\n",
    "                                           '301,000 – 500,000', '500,000 – above'])"
   ]
  },
  {
   "cell_type": "code",
   "execution_count": 41,
   "metadata": {},
   "outputs": [],
   "source": [
    "paytaxes_array = np.asarray(paytaxes_grouped['Do you pay your tax?'])\n",
    "notpaytaxes_array = np.asarray(notpaytaxes_grouped['Do you pay your tax?'])"
   ]
  },
  {
   "cell_type": "code",
   "execution_count": 42,
   "metadata": {},
   "outputs": [
    {
     "data": {
      "image/png": "[encoded data removed]",
      "text/plain": [
       "<Figure size 432x288 with 1 Axes>"
      ]
     },
     "metadata": {
      "needs_background": "light"
     },
     "output_type": "display_data"
    }
   ],
   "source": [
    "n_groups = 10 \n",
    "fig, ax = plt.subplots()\n",
    "index = np.arange(n_groups)\n",
    "bar_width = 0.35\n",
    "alpha = 0.8\n",
    "\n",
    "pay_bar = plt.barh(index, paytaxes_array, bar_width, color = 'b', alpha = alpha, label = 'Pay Taxes')\n",
    "not_pay = plt.barh(index + bar_width, notpaytaxes_array, bar_width, color = 'g', alpha = alpha, label = 'Do Not Pay Taxes')\n",
    "\n",
    "plt.xlabel('Number of People')\n",
    "plt.ylabel('Salary Range')\n",
    "plt.title('If taxes are paid across salary ranges')\n",
    "plt.yticks(index + bar_width, ('Below 5000', '5000 – 10,000', '11,000 – 20,000', '21,000 – 50,000', '51,000 – 80,000','81,000 – 100,000', \n",
    "                               '110,000 – 200,000','201,000 – 300,000','301,000 – 500,000', '500,000 – above'))\n",
    "plt.legend()\n",
    "plt.tight_layout()"
   ]
  },
  {
   "cell_type": "code",
   "execution_count": 43,
   "metadata": {},
   "outputs": [
    {
     "data": {
      "text/plain": [
       "58.085808580858085"
      ]
     },
     "execution_count": 43,
     "metadata": {},
     "output_type": "execute_result"
    }
   ],
   "source": [
    "tax_payers =100 * paytaxes_array.sum() / 303\n",
    "tax_payers"
   ]
  },
  {
   "cell_type": "markdown",
   "metadata": {},
   "source": [
    "## OBSERVATION \n",
    "58% of the sample size pay tax"
   ]
  },
  {
   "cell_type": "code",
   "execution_count": 44,
   "metadata": {},
   "outputs": [
    {
     "data": {
      "text/plain": [
       "Are you a Nigerian?                                                                    object\n",
       "Gender                                                                                 object\n",
       "Age Group                                                                              object\n",
       "Are you married?                                                                       object\n",
       "Do you have kids?                                                                      object\n",
       "Where do you live?                                                                     object\n",
       "What part of your state do you live in?                                                object\n",
       "Occupation                                                                             object\n",
       "Are you Happy with your job?                                                           object\n",
       "Is this your primary source of income?                                                 object\n",
       "What is your steady/constant income range in a month?                                  object\n",
       "Do you think it is enough for you and your family?                                     object\n",
       "What are your other sources of income?                                                 object\n",
       "Do you pay your tax?                                                                   object\n",
       "What is your largest form of expense                                                   object\n",
       "If there was one thing you really wanted to own, what would that be?                   object\n",
       "How much do you think you earn from all other sources of income in a month            float64\n",
       "On an average, how much do you think you spend in a month?                              int64\n",
       "Do you think Nigeria can get better?                                                   object\n",
       "In a short sentence, describe your government                                          object\n",
       "Please fill your email if you want to be notified once this research is completed.     object\n",
       "dtype: object"
      ]
     },
     "execution_count": 44,
     "metadata": {},
     "output_type": "execute_result"
    }
   ],
   "source": [
    "data.dtypes\n"
   ]
  },
  {
   "cell_type": "code",
   "execution_count": 45,
   "metadata": {},
   "outputs": [
    {
     "data": {
      "text/plain": [
       "array(['Below 5000', '11,000 – 20,000', '110,000 – 200,000',\n",
       "       '201,000 – 300,000', '51,000 – 80,000', '21,000 – 50,000',\n",
       "       '81,000 – 100,000', '5000 – 10,000', '500,000 – above',\n",
       "       '301,000 – 500,000'], dtype=object)"
      ]
     },
     "execution_count": 45,
     "metadata": {},
     "output_type": "execute_result"
    }
   ],
   "source": [
    "data['What is your steady/constant income range in a month?'].unique()"
   ]
  },
  {
   "cell_type": "code",
   "execution_count": 46,
   "metadata": {},
   "outputs": [
    {
     "data": {
      "text/plain": [
       "array(['0 – 5000', '11,000 – 20,000', '110,000 – 200,000',\n",
       "       '201,000 – 300,000', '51,000 – 80,000', '21,000 – 50,000',\n",
       "       '81,000 – 100,000', '5000 – 10,000', '500,000 – 1000000',\n",
       "       '301,000 – 500,000'], dtype=object)"
      ]
     },
     "execution_count": 46,
     "metadata": {},
     "output_type": "execute_result"
    }
   ],
   "source": [
    "data = data.replace({'Below 5000' : '0 – 5000', '500,000 – above' : '500,000 – 1000000' })\n",
    "data['What is your steady/constant income range in a month?'].unique()"
   ]
  },
  {
   "cell_type": "code",
   "execution_count": 47,
   "metadata": {},
   "outputs": [],
   "source": [
    "income = pd.DataFrame(columns = ['lowerlimit', 'upperlimit']) \n",
    "income[['lowerlimit', 'upperlimit']] = data['What is your steady/constant income range in a month?'].str.split(' – ', expand = True)"
   ]
  },
  {
   "cell_type": "code",
   "execution_count": 48,
   "metadata": {},
   "outputs": [
    {
     "data": {
      "text/html": [
       "<div>\n",
       "<style scoped>\n",
       "    .dataframe tbody tr th:only-of-type {\n",
       "        vertical-align: middle;\n",
       "    }\n",
       "\n",
       "    .dataframe tbody tr th {\n",
       "        vertical-align: top;\n",
       "    }\n",
       "\n",
       "    .dataframe thead th {\n",
       "        text-align: right;\n",
       "    }\n",
       "</style>\n",
       "<table border=\"1\" class=\"dataframe\">\n",
       "  <thead>\n",
       "    <tr style=\"text-align: right;\">\n",
       "      <th></th>\n",
       "      <th>lowerlimit</th>\n",
       "      <th>upperlimit</th>\n",
       "    </tr>\n",
       "  </thead>\n",
       "  <tbody>\n",
       "    <tr>\n",
       "      <th>0</th>\n",
       "      <td>0</td>\n",
       "      <td>5000</td>\n",
       "    </tr>\n",
       "    <tr>\n",
       "      <th>1</th>\n",
       "      <td>11,000</td>\n",
       "      <td>20,000</td>\n",
       "    </tr>\n",
       "    <tr>\n",
       "      <th>2</th>\n",
       "      <td>110,000</td>\n",
       "      <td>200,000</td>\n",
       "    </tr>\n",
       "    <tr>\n",
       "      <th>3</th>\n",
       "      <td>201,000</td>\n",
       "      <td>300,000</td>\n",
       "    </tr>\n",
       "    <tr>\n",
       "      <th>4</th>\n",
       "      <td>110,000</td>\n",
       "      <td>200,000</td>\n",
       "    </tr>\n",
       "  </tbody>\n",
       "</table>\n",
       "</div>"
      ],
      "text/plain": [
       "  lowerlimit upperlimit\n",
       "0          0       5000\n",
       "1     11,000     20,000\n",
       "2    110,000    200,000\n",
       "3    201,000    300,000\n",
       "4    110,000    200,000"
      ]
     },
     "execution_count": 48,
     "metadata": {},
     "output_type": "execute_result"
    }
   ],
   "source": [
    "income.head()"
   ]
  },
  {
   "cell_type": "code",
   "execution_count": 49,
   "metadata": {},
   "outputs": [],
   "source": [
    "income['lowerlimit'] = income['lowerlimit'].str.replace(',', '')\n",
    "income['upperlimit'] = income['upperlimit'].str.replace(',', '')"
   ]
  },
  {
   "cell_type": "code",
   "execution_count": 50,
   "metadata": {},
   "outputs": [],
   "source": [
    "income = income.astype(int)"
   ]
  },
  {
   "cell_type": "code",
   "execution_count": 51,
   "metadata": {},
   "outputs": [
    {
     "data": {
      "text/html": [
       "<div>\n",
       "<style scoped>\n",
       "    .dataframe tbody tr th:only-of-type {\n",
       "        vertical-align: middle;\n",
       "    }\n",
       "\n",
       "    .dataframe tbody tr th {\n",
       "        vertical-align: top;\n",
       "    }\n",
       "\n",
       "    .dataframe thead th {\n",
       "        text-align: right;\n",
       "    }\n",
       "</style>\n",
       "<table border=\"1\" class=\"dataframe\">\n",
       "  <thead>\n",
       "    <tr style=\"text-align: right;\">\n",
       "      <th></th>\n",
       "      <th>lowerlimit</th>\n",
       "      <th>upperlimit</th>\n",
       "      <th>average</th>\n",
       "    </tr>\n",
       "  </thead>\n",
       "  <tbody>\n",
       "    <tr>\n",
       "      <th>0</th>\n",
       "      <td>0</td>\n",
       "      <td>5000</td>\n",
       "      <td>2500.0</td>\n",
       "    </tr>\n",
       "    <tr>\n",
       "      <th>1</th>\n",
       "      <td>11000</td>\n",
       "      <td>20000</td>\n",
       "      <td>15500.0</td>\n",
       "    </tr>\n",
       "    <tr>\n",
       "      <th>2</th>\n",
       "      <td>110000</td>\n",
       "      <td>200000</td>\n",
       "      <td>155000.0</td>\n",
       "    </tr>\n",
       "    <tr>\n",
       "      <th>3</th>\n",
       "      <td>201000</td>\n",
       "      <td>300000</td>\n",
       "      <td>250500.0</td>\n",
       "    </tr>\n",
       "    <tr>\n",
       "      <th>4</th>\n",
       "      <td>110000</td>\n",
       "      <td>200000</td>\n",
       "      <td>155000.0</td>\n",
       "    </tr>\n",
       "  </tbody>\n",
       "</table>\n",
       "</div>"
      ],
      "text/plain": [
       "   lowerlimit  upperlimit   average\n",
       "0           0        5000    2500.0\n",
       "1       11000       20000   15500.0\n",
       "2      110000      200000  155000.0\n",
       "3      201000      300000  250500.0\n",
       "4      110000      200000  155000.0"
      ]
     },
     "execution_count": 51,
     "metadata": {},
     "output_type": "execute_result"
    }
   ],
   "source": [
    "income['average'] = (income['lowerlimit'] + income['upperlimit'])/ 2\n",
    "income.head()"
   ]
  },
  {
   "cell_type": "code",
   "execution_count": 61,
   "metadata": {},
   "outputs": [
    {
     "data": {
      "text/plain": [
       "Are you a Nigerian?                                                                    object\n",
       "Gender                                                                                 object\n",
       "Age Group                                                                              object\n",
       "Are you married?                                                                       object\n",
       "Do you have kids?                                                                      object\n",
       "Where do you live?                                                                     object\n",
       "What part of your state do you live in?                                                object\n",
       "Occupation                                                                             object\n",
       "Are you Happy with your job?                                                           object\n",
       "Is this your primary source of income?                                                 object\n",
       "What is your steady/constant income range in a month?                                  object\n",
       "Do you think it is enough for you and your family?                                     object\n",
       "What are your other sources of income?                                                 object\n",
       "Do you pay your tax?                                                                   object\n",
       "What is your largest form of expense                                                   object\n",
       "If there was one thing you really wanted to own, what would that be?                   object\n",
       "How much do you think you earn from all other sources of income in a month            float64\n",
       "On an average, how much do you think you spend in a month?                              int64\n",
       "Do you think Nigeria can get better?                                                   object\n",
       "In a short sentence, describe your government                                          object\n",
       "Please fill your email if you want to be notified once this research is completed.     object\n",
       "Average Income                                                                        float64\n",
       "dtype: object"
      ]
     },
     "execution_count": 61,
     "metadata": {},
     "output_type": "execute_result"
    }
   ],
   "source": [
    "data['Average Income'] = income['average']\n",
    "data.dtypes"
   ]
  },
  {
   "cell_type": "code",
   "execution_count": 62,
   "metadata": {},
   "outputs": [
    {
     "data": {
      "text/plain": [
       "Are you a Nigerian?                                                                    object\n",
       "Gender                                                                                 object\n",
       "Age Group                                                                              object\n",
       "Are you married?                                                                       object\n",
       "Do you have kids?                                                                      object\n",
       "Where do you live?                                                                     object\n",
       "What part of your state do you live in?                                                object\n",
       "Occupation                                                                             object\n",
       "Are you Happy with your job?                                                           object\n",
       "Is this your primary source of income?                                                 object\n",
       "What is your steady/constant income range in a month?                                  object\n",
       "Do you think it is enough for you and your family?                                     object\n",
       "What are your other sources of income?                                                 object\n",
       "Do you pay your tax?                                                                   object\n",
       "What is your largest form of expense                                                   object\n",
       "If there was one thing you really wanted to own, what would that be?                   object\n",
       "How much do you think you earn from all other sources of income in a month            float64\n",
       "On an average, how much do you think you spend in a month?                              int64\n",
       "Do you think Nigeria can get better?                                                   object\n",
       "In a short sentence, describe your government                                          object\n",
       "Please fill your email if you want to be notified once this research is completed.     object\n",
       "Average Income                                                                        float64\n",
       "Total Income                                                                          float64\n",
       "dtype: object"
      ]
     },
     "execution_count": 62,
     "metadata": {},
     "output_type": "execute_result"
    }
   ],
   "source": [
    "data['Total Income'] = data['Average Income'] + data['How much do you think you earn from all other sources of income in a month']\n",
    "data.dtypes"
   ]
  },
  {
   "cell_type": "code",
   "execution_count": 63,
   "metadata": {},
   "outputs": [],
   "source": [
    "data['Money to save'] = data['Total Income'] - data['On an average, how much do you think you spend in a month?']"
   ]
  },
  {
   "cell_type": "code",
   "execution_count": 64,
   "metadata": {},
   "outputs": [
    {
     "data": {
      "text/plain": [
       "Are you a Nigerian?                                                                    object\n",
       "Gender                                                                                 object\n",
       "Age Group                                                                              object\n",
       "Are you married?                                                                       object\n",
       "Do you have kids?                                                                      object\n",
       "Where do you live?                                                                     object\n",
       "What part of your state do you live in?                                                object\n",
       "Occupation                                                                             object\n",
       "Are you Happy with your job?                                                           object\n",
       "Is this your primary source of income?                                                 object\n",
       "What is your steady/constant income range in a month?                                  object\n",
       "Do you think it is enough for you and your family?                                     object\n",
       "What are your other sources of income?                                                 object\n",
       "Do you pay your tax?                                                                   object\n",
       "What is your largest form of expense                                                   object\n",
       "If there was one thing you really wanted to own, what would that be?                   object\n",
       "How much do you think you earn from all other sources of income in a month            float64\n",
       "On an average, how much do you think you spend in a month?                              int64\n",
       "Do you think Nigeria can get better?                                                   object\n",
       "In a short sentence, describe your government                                          object\n",
       "Please fill your email if you want to be notified once this research is completed.     object\n",
       "Average Income                                                                        float64\n",
       "Total Income                                                                          float64\n",
       "Money to save                                                                         float64\n",
       "dtype: object"
      ]
     },
     "execution_count": 64,
     "metadata": {},
     "output_type": "execute_result"
    }
   ],
   "source": [
    "data.dtypes"
   ]
  },
  {
   "cell_type": "code",
   "execution_count": null,
   "metadata": {},
   "outputs": [],
   "source": []
  },
  {
   "cell_type": "code",
   "execution_count": 58,
   "metadata": {},
   "outputs": [
    {
     "ename": "ValueError",
     "evalue": "Invalid format specifier",
     "output_type": "error",
     "traceback": [
      "\u001b[1;31m---------------------------------------------------------------------------\u001b[0m",
      "\u001b[1;31mValueError\u001b[0m                                Traceback (most recent call last)",
      "\u001b[1;32m<ipython-input-58-f626c135bc36>\u001b[0m in \u001b[0;36m<module>\u001b[1;34m\u001b[0m\n\u001b[0;32m      2\u001b[0m \u001b[0mcorr\u001b[0m \u001b[1;33m=\u001b[0m \u001b[0mdata\u001b[0m\u001b[1;33m.\u001b[0m\u001b[0mcorr\u001b[0m\u001b[1;33m(\u001b[0m\u001b[1;33m)\u001b[0m\u001b[1;33m\u001b[0m\u001b[1;33m\u001b[0m\u001b[0m\n\u001b[0;32m      3\u001b[0m \u001b[0mplt\u001b[0m\u001b[1;33m.\u001b[0m\u001b[0mfigure\u001b[0m\u001b[1;33m(\u001b[0m\u001b[0mfigsize\u001b[0m \u001b[1;33m=\u001b[0m\u001b[1;33m(\u001b[0m\u001b[1;36m20\u001b[0m\u001b[1;33m,\u001b[0m \u001b[1;36m20\u001b[0m\u001b[1;33m)\u001b[0m\u001b[1;33m)\u001b[0m\u001b[1;33m\u001b[0m\u001b[1;33m\u001b[0m\u001b[0m\n\u001b[1;32m----> 4\u001b[1;33m \u001b[0msns\u001b[0m\u001b[1;33m.\u001b[0m\u001b[0mheatmap\u001b[0m\u001b[1;33m(\u001b[0m\u001b[0mcorr\u001b[0m\u001b[1;33m,\u001b[0m \u001b[0mcbar\u001b[0m \u001b[1;33m=\u001b[0m \u001b[1;32mTrue\u001b[0m\u001b[1;33m,\u001b[0m \u001b[0msquare\u001b[0m \u001b[1;33m=\u001b[0m \u001b[1;32mTrue\u001b[0m\u001b[1;33m,\u001b[0m \u001b[0mfmt\u001b[0m \u001b[1;33m=\u001b[0m \u001b[1;34m'if'\u001b[0m\u001b[1;33m,\u001b[0m \u001b[0mannot\u001b[0m \u001b[1;33m=\u001b[0m \u001b[1;32mTrue\u001b[0m\u001b[1;33m,\u001b[0m \u001b[0mannot_kws\u001b[0m \u001b[1;33m=\u001b[0m \u001b[1;33m{\u001b[0m\u001b[1;34m'size'\u001b[0m\u001b[1;33m:\u001b[0m \u001b[1;36m15\u001b[0m\u001b[1;33m}\u001b[0m\u001b[1;33m,\u001b[0m \u001b[0mcmap\u001b[0m \u001b[1;33m=\u001b[0m \u001b[1;34m'Greens'\u001b[0m\u001b[1;33m)\u001b[0m\u001b[1;33m\u001b[0m\u001b[1;33m\u001b[0m\u001b[0m\n\u001b[0m",
      "\u001b[1;32m~\\Anaconda3\\lib\\site-packages\\seaborn\\matrix.py\u001b[0m in \u001b[0;36mheatmap\u001b[1;34m(data, vmin, vmax, cmap, center, robust, annot, fmt, annot_kws, linewidths, linecolor, cbar, cbar_kws, cbar_ax, square, xticklabels, yticklabels, mask, ax, **kwargs)\u001b[0m\n\u001b[0;32m    526\u001b[0m     \u001b[1;32mif\u001b[0m \u001b[0msquare\u001b[0m\u001b[1;33m:\u001b[0m\u001b[1;33m\u001b[0m\u001b[1;33m\u001b[0m\u001b[0m\n\u001b[0;32m    527\u001b[0m         \u001b[0max\u001b[0m\u001b[1;33m.\u001b[0m\u001b[0mset_aspect\u001b[0m\u001b[1;33m(\u001b[0m\u001b[1;34m\"equal\"\u001b[0m\u001b[1;33m)\u001b[0m\u001b[1;33m\u001b[0m\u001b[1;33m\u001b[0m\u001b[0m\n\u001b[1;32m--> 528\u001b[1;33m     \u001b[0mplotter\u001b[0m\u001b[1;33m.\u001b[0m\u001b[0mplot\u001b[0m\u001b[1;33m(\u001b[0m\u001b[0max\u001b[0m\u001b[1;33m,\u001b[0m \u001b[0mcbar_ax\u001b[0m\u001b[1;33m,\u001b[0m \u001b[0mkwargs\u001b[0m\u001b[1;33m)\u001b[0m\u001b[1;33m\u001b[0m\u001b[1;33m\u001b[0m\u001b[0m\n\u001b[0m\u001b[0;32m    529\u001b[0m     \u001b[1;32mreturn\u001b[0m \u001b[0max\u001b[0m\u001b[1;33m\u001b[0m\u001b[1;33m\u001b[0m\u001b[0m\n\u001b[0;32m    530\u001b[0m \u001b[1;33m\u001b[0m\u001b[0m\n",
      "\u001b[1;32m~\\Anaconda3\\lib\\site-packages\\seaborn\\matrix.py\u001b[0m in \u001b[0;36mplot\u001b[1;34m(self, ax, cax, kws)\u001b[0m\n\u001b[0;32m    327\u001b[0m         \u001b[1;31m# Annotate the cells with the formatted values\u001b[0m\u001b[1;33m\u001b[0m\u001b[1;33m\u001b[0m\u001b[1;33m\u001b[0m\u001b[0m\n\u001b[0;32m    328\u001b[0m         \u001b[1;32mif\u001b[0m \u001b[0mself\u001b[0m\u001b[1;33m.\u001b[0m\u001b[0mannot\u001b[0m\u001b[1;33m:\u001b[0m\u001b[1;33m\u001b[0m\u001b[1;33m\u001b[0m\u001b[0m\n\u001b[1;32m--> 329\u001b[1;33m             \u001b[0mself\u001b[0m\u001b[1;33m.\u001b[0m\u001b[0m_annotate_heatmap\u001b[0m\u001b[1;33m(\u001b[0m\u001b[0max\u001b[0m\u001b[1;33m,\u001b[0m \u001b[0mmesh\u001b[0m\u001b[1;33m)\u001b[0m\u001b[1;33m\u001b[0m\u001b[1;33m\u001b[0m\u001b[0m\n\u001b[0m\u001b[0;32m    330\u001b[0m \u001b[1;33m\u001b[0m\u001b[0m\n\u001b[0;32m    331\u001b[0m \u001b[1;33m\u001b[0m\u001b[0m\n",
      "\u001b[1;32m~\\Anaconda3\\lib\\site-packages\\seaborn\\matrix.py\u001b[0m in \u001b[0;36m_annotate_heatmap\u001b[1;34m(self, ax, mesh)\u001b[0m\n\u001b[0;32m    241\u001b[0m                 \u001b[0mlum\u001b[0m \u001b[1;33m=\u001b[0m \u001b[0mrelative_luminance\u001b[0m\u001b[1;33m(\u001b[0m\u001b[0mcolor\u001b[0m\u001b[1;33m)\u001b[0m\u001b[1;33m\u001b[0m\u001b[1;33m\u001b[0m\u001b[0m\n\u001b[0;32m    242\u001b[0m                 \u001b[0mtext_color\u001b[0m \u001b[1;33m=\u001b[0m \u001b[1;34m\".15\"\u001b[0m \u001b[1;32mif\u001b[0m \u001b[0mlum\u001b[0m \u001b[1;33m>\u001b[0m \u001b[1;36m.408\u001b[0m \u001b[1;32melse\u001b[0m \u001b[1;34m\"w\"\u001b[0m\u001b[1;33m\u001b[0m\u001b[1;33m\u001b[0m\u001b[0m\n\u001b[1;32m--> 243\u001b[1;33m                 \u001b[0mannotation\u001b[0m \u001b[1;33m=\u001b[0m \u001b[1;33m(\u001b[0m\u001b[1;34m\"{:\"\u001b[0m \u001b[1;33m+\u001b[0m \u001b[0mself\u001b[0m\u001b[1;33m.\u001b[0m\u001b[0mfmt\u001b[0m \u001b[1;33m+\u001b[0m \u001b[1;34m\"}\"\u001b[0m\u001b[1;33m)\u001b[0m\u001b[1;33m.\u001b[0m\u001b[0mformat\u001b[0m\u001b[1;33m(\u001b[0m\u001b[0mval\u001b[0m\u001b[1;33m)\u001b[0m\u001b[1;33m\u001b[0m\u001b[1;33m\u001b[0m\u001b[0m\n\u001b[0m\u001b[0;32m    244\u001b[0m                 \u001b[0mtext_kwargs\u001b[0m \u001b[1;33m=\u001b[0m \u001b[0mdict\u001b[0m\u001b[1;33m(\u001b[0m\u001b[0mcolor\u001b[0m\u001b[1;33m=\u001b[0m\u001b[0mtext_color\u001b[0m\u001b[1;33m,\u001b[0m \u001b[0mha\u001b[0m\u001b[1;33m=\u001b[0m\u001b[1;34m\"center\"\u001b[0m\u001b[1;33m,\u001b[0m \u001b[0mva\u001b[0m\u001b[1;33m=\u001b[0m\u001b[1;34m\"center\"\u001b[0m\u001b[1;33m)\u001b[0m\u001b[1;33m\u001b[0m\u001b[1;33m\u001b[0m\u001b[0m\n\u001b[0;32m    245\u001b[0m                 \u001b[0mtext_kwargs\u001b[0m\u001b[1;33m.\u001b[0m\u001b[0mupdate\u001b[0m\u001b[1;33m(\u001b[0m\u001b[0mself\u001b[0m\u001b[1;33m.\u001b[0m\u001b[0mannot_kws\u001b[0m\u001b[1;33m)\u001b[0m\u001b[1;33m\u001b[0m\u001b[1;33m\u001b[0m\u001b[0m\n",
      "\u001b[1;31mValueError\u001b[0m: Invalid format specifier"
     ]
    },
    {
     "data": {
      "image/png": "[encoded data removed]",
      "text/plain": [
       "<Figure size 1440x1440 with 2 Axes>"
      ]
     },
     "metadata": {
      "needs_background": "light"
     },
     "output_type": "display_data"
    }
   ],
   "source": [
    "import seaborn as sns\n",
    "corr = data.corr()\n",
    "plt.figure(figsize =(20, 20))\n",
    "sns.heatmap(corr, cbar = True, square = True, fmt = 'if', annot = True, annot_kws = {'size': 15}, cmap = 'Greens')"
   ]
  },
  {
   "cell_type": "code",
   "execution_count": 60,
   "metadata": {},
   "outputs": [
    {
     "data": {
      "text/html": [
       "<div>\n",
       "<style scoped>\n",
       "    .dataframe tbody tr th:only-of-type {\n",
       "        vertical-align: middle;\n",
       "    }\n",
       "\n",
       "    .dataframe tbody tr th {\n",
       "        vertical-align: top;\n",
       "    }\n",
       "\n",
       "    .dataframe thead th {\n",
       "        text-align: right;\n",
       "    }\n",
       "</style>\n",
       "<table border=\"1\" class=\"dataframe\">\n",
       "  <thead>\n",
       "    <tr style=\"text-align: right;\">\n",
       "      <th></th>\n",
       "      <th>How much do you think you earn from all other sources of income in a month</th>\n",
       "      <th>On an average, how much do you think you spend in a month?</th>\n",
       "    </tr>\n",
       "  </thead>\n",
       "  <tbody>\n",
       "    <tr>\n",
       "      <th>How much do you think you earn from all other sources of income in a month</th>\n",
       "      <td>1.000000</td>\n",
       "      <td>0.705931</td>\n",
       "    </tr>\n",
       "    <tr>\n",
       "      <th>On an average, how much do you think you spend in a month?</th>\n",
       "      <td>0.705931</td>\n",
       "      <td>1.000000</td>\n",
       "    </tr>\n",
       "  </tbody>\n",
       "</table>\n",
       "</div>"
      ],
      "text/plain": [
       "                                                    How much do you think you earn from all other sources of income in a month  \\\n",
       "How much do you think you earn from all other s...                                           1.000000                            \n",
       "On an average, how much do you think you spend ...                                           0.705931                            \n",
       "\n",
       "                                                    On an average, how much do you think you spend in a month?  \n",
       "How much do you think you earn from all other s...                                           0.705931           \n",
       "On an average, how much do you think you spend ...                                           1.000000           "
      ]
     },
     "execution_count": 60,
     "metadata": {},
     "output_type": "execute_result"
    }
   ],
   "source": [
    "corr = data.corr()\n",
    "corr"
   ]
  },
  {
   "cell_type": "code",
   "execution_count": 59,
   "metadata": {},
   "outputs": [
    {
     "data": {
      "text/plain": [
       "\u001b[1;31mSignature:\u001b[0m \u001b[0mdata\u001b[0m\u001b[1;33m.\u001b[0m\u001b[0mcorr\u001b[0m\u001b[1;33m(\u001b[0m\u001b[0mmethod\u001b[0m\u001b[1;33m=\u001b[0m\u001b[1;34m'pearson'\u001b[0m\u001b[1;33m,\u001b[0m \u001b[0mmin_periods\u001b[0m\u001b[1;33m=\u001b[0m\u001b[1;36m1\u001b[0m\u001b[1;33m)\u001b[0m\u001b[1;33m\u001b[0m\u001b[1;33m\u001b[0m\u001b[0m\n",
       "\u001b[1;31mDocstring:\u001b[0m\n",
       "Compute pairwise correlation of columns, excluding NA/null values\n",
       "\n",
       "Parameters\n",
       "----------\n",
       "method : {'pearson', 'kendall', 'spearman'}\n",
       "    * pearson : standard correlation coefficient\n",
       "    * kendall : Kendall Tau correlation coefficient\n",
       "    * spearman : Spearman rank correlation\n",
       "min_periods : int, optional\n",
       "    Minimum number of observations required per pair of columns\n",
       "    to have a valid result. Currently only available for pearson\n",
       "    and spearman correlation\n",
       "\n",
       "Returns\n",
       "-------\n",
       "y : DataFrame\n",
       "\u001b[1;31mFile:\u001b[0m      c:\\users\\damia\\anaconda3\\lib\\site-packages\\pandas\\core\\frame.py\n",
       "\u001b[1;31mType:\u001b[0m      method\n"
      ]
     },
     "metadata": {},
     "output_type": "display_data"
    }
   ],
   "source": [
    "data.corr?"
   ]
  },
  {
   "cell_type": "code",
   "execution_count": null,
   "metadata": {},
   "outputs": [],
   "source": []
  }
 ],
 "metadata": {
  "kernelspec": {
   "display_name": "Python 3",
   "language": "python",
   "name": "python3"
  },
  "language_info": {
   "codemirror_mode": {
    "name": "ipython",
    "version": 3
   },
   "file_extension": ".py",
   "mimetype": "text/x-python",
   "name": "python",
   "nbconvert_exporter": "python",
   "pygments_lexer": "ipython3",
   "version": "3.7.1"
  }
 },
 "nbformat": 4,
 "nbformat_minor": 2
}
