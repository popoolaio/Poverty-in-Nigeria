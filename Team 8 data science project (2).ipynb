{
 "cells": [
  {
   "cell_type": "code",
   "execution_count": 1,
   "metadata": {},
   "outputs": [],
   "source": [
    "#Import elevant libraries \n",
    "import numpy as np\n",
    "import pandas as pd \n",
    "import matplotlib.pyplot as plt \n",
    "%matplotlib inline \n",
    "import seaborn as sns "
   ]
  },
  {
   "cell_type": "code",
   "execution_count": 2,
   "metadata": {},
   "outputs": [],
   "source": [
    "data = pd.read_csv('NIGERIA_DEMOGRAPHICS_DATA.csv')\n"
   ]
  },
  {
   "cell_type": "code",
   "execution_count": 3,
   "metadata": {},
   "outputs": [
    {
     "data": {
      "text/plain": [
       "(303, 22)"
      ]
     },
     "execution_count": 3,
     "metadata": {},
     "output_type": "execute_result"
    }
   ],
   "source": [
    "data.shape"
   ]
  },
  {
   "cell_type": "code",
   "execution_count": 4,
   "metadata": {},
   "outputs": [
    {
     "data": {
      "text/html": [
       "<div>\n",
       "<style scoped>\n",
       "    .dataframe tbody tr th:only-of-type {\n",
       "        vertical-align: middle;\n",
       "    }\n",
       "\n",
       "    .dataframe tbody tr th {\n",
       "        vertical-align: top;\n",
       "    }\n",
       "\n",
       "    .dataframe thead th {\n",
       "        text-align: right;\n",
       "    }\n",
       "</style>\n",
       "<table border=\"1\" class=\"dataframe\">\n",
       "  <thead>\n",
       "    <tr style=\"text-align: right;\">\n",
       "      <th></th>\n",
       "      <th>Timestamp</th>\n",
       "      <th>Are you a Nigerian?</th>\n",
       "      <th>Gender</th>\n",
       "      <th>Age Group</th>\n",
       "      <th>Are you married?</th>\n",
       "      <th>Do you have kids?</th>\n",
       "      <th>Where do you live?</th>\n",
       "      <th>What part of your state do you live in?</th>\n",
       "      <th>Occupation</th>\n",
       "      <th>Are you Happy with your job?</th>\n",
       "      <th>...</th>\n",
       "      <th>Do you think it is enough for you and your family?</th>\n",
       "      <th>What are your other sources of income?</th>\n",
       "      <th>Do you pay your tax?</th>\n",
       "      <th>What is your largest form of expense</th>\n",
       "      <th>If there was one thing you really wanted to own, what would that be?</th>\n",
       "      <th>How much do you think you earn from all other sources of income in a month</th>\n",
       "      <th>On an average, how much do you think you spend in a month?</th>\n",
       "      <th>Do you think Nigeria can get better?</th>\n",
       "      <th>In a short sentence, describe your government</th>\n",
       "      <th>Please fill your email if you want to be notified once this research is completed.</th>\n",
       "    </tr>\n",
       "  </thead>\n",
       "  <tbody>\n",
       "    <tr>\n",
       "      <th>0</th>\n",
       "      <td>10/13/2019 17:45:01</td>\n",
       "      <td>NaN</td>\n",
       "      <td>Female</td>\n",
       "      <td>18 – 25</td>\n",
       "      <td>No</td>\n",
       "      <td>No</td>\n",
       "      <td>Lagos</td>\n",
       "      <td>Rural</td>\n",
       "      <td>NaN</td>\n",
       "      <td>No</td>\n",
       "      <td>...</td>\n",
       "      <td>No</td>\n",
       "      <td>NaN</td>\n",
       "      <td>No</td>\n",
       "      <td>Feeding</td>\n",
       "      <td>A Company</td>\n",
       "      <td>NaN</td>\n",
       "      <td>25000</td>\n",
       "      <td>Yes</td>\n",
       "      <td>Frustrating</td>\n",
       "      <td>ikeoluwa933@gmail.com</td>\n",
       "    </tr>\n",
       "    <tr>\n",
       "      <th>1</th>\n",
       "      <td>10/13/2019 18:13:59</td>\n",
       "      <td>NaN</td>\n",
       "      <td>Female</td>\n",
       "      <td>18 – 25</td>\n",
       "      <td>No</td>\n",
       "      <td>No</td>\n",
       "      <td>Lagos</td>\n",
       "      <td>Rural</td>\n",
       "      <td>No Job</td>\n",
       "      <td>No</td>\n",
       "      <td>...</td>\n",
       "      <td>No</td>\n",
       "      <td>Free Lancing</td>\n",
       "      <td>No</td>\n",
       "      <td>Transportation</td>\n",
       "      <td>A House</td>\n",
       "      <td>18000.0</td>\n",
       "      <td>20000</td>\n",
       "      <td>Yes</td>\n",
       "      <td>Greedy, self centered and dull</td>\n",
       "      <td>NaN</td>\n",
       "    </tr>\n",
       "    <tr>\n",
       "      <th>2</th>\n",
       "      <td>10/13/2019 20:11:39</td>\n",
       "      <td>NaN</td>\n",
       "      <td>Male</td>\n",
       "      <td>36 – 45</td>\n",
       "      <td>Yes</td>\n",
       "      <td>Yes</td>\n",
       "      <td>Lagos</td>\n",
       "      <td>City</td>\n",
       "      <td>Financial Services</td>\n",
       "      <td>Yes</td>\n",
       "      <td>...</td>\n",
       "      <td>No</td>\n",
       "      <td>Free Lancing</td>\n",
       "      <td>Yes</td>\n",
       "      <td>School Fees</td>\n",
       "      <td>A Company</td>\n",
       "      <td>40000.0</td>\n",
       "      <td>140000</td>\n",
       "      <td>Yes</td>\n",
       "      <td>Our government do not care about what the mass...</td>\n",
       "      <td>olanrewaju1temitayo@gmail.com</td>\n",
       "    </tr>\n",
       "    <tr>\n",
       "      <th>3</th>\n",
       "      <td>10/13/2019 20:17:57</td>\n",
       "      <td>NaN</td>\n",
       "      <td>Female</td>\n",
       "      <td>26 – 35</td>\n",
       "      <td>No</td>\n",
       "      <td>No</td>\n",
       "      <td>Lagos</td>\n",
       "      <td>City</td>\n",
       "      <td>Business</td>\n",
       "      <td>Yes</td>\n",
       "      <td>...</td>\n",
       "      <td>No</td>\n",
       "      <td>Buying and Selling</td>\n",
       "      <td>Yes</td>\n",
       "      <td>Transportation</td>\n",
       "      <td>Money</td>\n",
       "      <td>500000.0</td>\n",
       "      <td>100000</td>\n",
       "      <td>Yes</td>\n",
       "      <td>There is discrepancy in Nigeria's governance. ...</td>\n",
       "      <td>adewunmi.fatoki@gmail.com</td>\n",
       "    </tr>\n",
       "    <tr>\n",
       "      <th>4</th>\n",
       "      <td>10/14/2019 6:24:13</td>\n",
       "      <td>NaN</td>\n",
       "      <td>Male</td>\n",
       "      <td>26 – 35</td>\n",
       "      <td>No</td>\n",
       "      <td>No</td>\n",
       "      <td>Lagos</td>\n",
       "      <td>Rural</td>\n",
       "      <td>Engineering</td>\n",
       "      <td>Yes</td>\n",
       "      <td>...</td>\n",
       "      <td>Yes</td>\n",
       "      <td>Formal Job</td>\n",
       "      <td>Yes</td>\n",
       "      <td>Transportation</td>\n",
       "      <td>A Company</td>\n",
       "      <td>0.0</td>\n",
       "      <td>60000</td>\n",
       "      <td>Yes</td>\n",
       "      <td>It is a corrupt one lead by inconsiderate fell...</td>\n",
       "      <td>Johnnyark9@gmail.com</td>\n",
       "    </tr>\n",
       "  </tbody>\n",
       "</table>\n",
       "<p>5 rows × 22 columns</p>\n",
       "</div>"
      ],
      "text/plain": [
       "             Timestamp Are you a Nigerian?  Gender Age Group Are you married?  \\\n",
       "0  10/13/2019 17:45:01                 NaN  Female   18 – 25               No   \n",
       "1  10/13/2019 18:13:59                 NaN  Female   18 – 25               No   \n",
       "2  10/13/2019 20:11:39                 NaN    Male   36 – 45              Yes   \n",
       "3  10/13/2019 20:17:57                 NaN  Female   26 – 35               No   \n",
       "4   10/14/2019 6:24:13                 NaN    Male   26 – 35               No   \n",
       "\n",
       "  Do you have kids? Where do you live?  \\\n",
       "0                No              Lagos   \n",
       "1                No              Lagos   \n",
       "2               Yes              Lagos   \n",
       "3                No              Lagos   \n",
       "4                No              Lagos   \n",
       "\n",
       "  What part of your state do you live in?          Occupation  \\\n",
       "0                                   Rural                 NaN   \n",
       "1                                   Rural              No Job   \n",
       "2                                    City  Financial Services   \n",
       "3                                    City            Business   \n",
       "4                                   Rural         Engineering   \n",
       "\n",
       "  Are you Happy with your job?  \\\n",
       "0                           No   \n",
       "1                           No   \n",
       "2                          Yes   \n",
       "3                          Yes   \n",
       "4                          Yes   \n",
       "\n",
       "                                         ...                                          \\\n",
       "0                                        ...                                           \n",
       "1                                        ...                                           \n",
       "2                                        ...                                           \n",
       "3                                        ...                                           \n",
       "4                                        ...                                           \n",
       "\n",
       "  Do you think it is enough for you and your family?  \\\n",
       "0                                                 No   \n",
       "1                                                 No   \n",
       "2                                                 No   \n",
       "3                                                 No   \n",
       "4                                                Yes   \n",
       "\n",
       "  What are your other sources of income?  Do you pay your tax?  \\\n",
       "0                                     NaN                   No   \n",
       "1                            Free Lancing                   No   \n",
       "2                            Free Lancing                  Yes   \n",
       "3                      Buying and Selling                  Yes   \n",
       "4                              Formal Job                  Yes   \n",
       "\n",
       "  What is your largest form of expense  \\\n",
       "0                              Feeding   \n",
       "1                       Transportation   \n",
       "2                          School Fees   \n",
       "3                       Transportation   \n",
       "4                       Transportation   \n",
       "\n",
       "  If there was one thing you really wanted to own, what would that be?  \\\n",
       "0                                          A Company                     \n",
       "1                                            A House                     \n",
       "2                                          A Company                     \n",
       "3                                              Money                     \n",
       "4                                          A Company                     \n",
       "\n",
       "  How much do you think you earn from all other sources of income in a month  \\\n",
       "0                                                NaN                           \n",
       "1                                            18000.0                           \n",
       "2                                            40000.0                           \n",
       "3                                           500000.0                           \n",
       "4                                                0.0                           \n",
       "\n",
       "  On an average, how much do you think you spend in a month?  \\\n",
       "0                                              25000           \n",
       "1                                              20000           \n",
       "2                                             140000           \n",
       "3                                             100000           \n",
       "4                                              60000           \n",
       "\n",
       "   Do you think Nigeria can get better?  \\\n",
       "0                                   Yes   \n",
       "1                                   Yes   \n",
       "2                                   Yes   \n",
       "3                                   Yes   \n",
       "4                                   Yes   \n",
       "\n",
       "       In a short sentence, describe your government  \\\n",
       "0                                        Frustrating   \n",
       "1                     Greedy, self centered and dull   \n",
       "2  Our government do not care about what the mass...   \n",
       "3  There is discrepancy in Nigeria's governance. ...   \n",
       "4  It is a corrupt one lead by inconsiderate fell...   \n",
       "\n",
       "  Please fill your email if you want to be notified once this research is completed.  \n",
       "0                              ikeoluwa933@gmail.com                                  \n",
       "1                                                NaN                                  \n",
       "2                      olanrewaju1temitayo@gmail.com                                  \n",
       "3                          adewunmi.fatoki@gmail.com                                  \n",
       "4                              Johnnyark9@gmail.com                                   \n",
       "\n",
       "[5 rows x 22 columns]"
      ]
     },
     "execution_count": 4,
     "metadata": {},
     "output_type": "execute_result"
    }
   ],
   "source": [
    "data.head()"
   ]
  },
  {
   "cell_type": "code",
   "execution_count": 5,
   "metadata": {},
   "outputs": [],
   "source": [
    "#Timestamp seems irrelevant to the whole data so we delete \n",
    "data.drop('Timestamp', 1, inplace = True)\n"
   ]
  },
  {
   "cell_type": "code",
   "execution_count": 6,
   "metadata": {},
   "outputs": [
    {
     "data": {
      "text/plain": [
       "array([nan, 'Yes', 'No'], dtype=object)"
      ]
     },
     "execution_count": 6,
     "metadata": {},
     "output_type": "execute_result"
    }
   ],
   "source": [
    "data['Are you a Nigerian?'].unique() #How many of the 303 samples are Nigerian?"
   ]
  },
  {
   "cell_type": "markdown",
   "metadata": {},
   "source": [
    "# TARGET GROUP"
   ]
  },
  {
   "cell_type": "code",
   "execution_count": 89,
   "metadata": {},
   "outputs": [
    {
     "data": {
      "text/plain": [
       "Are you a Nigerian?\n",
       "No       3\n",
       "Yes    285\n",
       "Name: Are you a Nigerian?, dtype: int64"
      ]
     },
     "execution_count": 89,
     "metadata": {},
     "output_type": "execute_result"
    }
   ],
   "source": [
    "# Gender Categories\n",
    "\n",
    "data.groupby('Are you a Nigerian?')['Are you a Nigerian?'].count()"
   ]
  },
  {
   "cell_type": "code",
   "execution_count": 90,
   "metadata": {},
   "outputs": [
    {
     "data": {
      "text/plain": [
       "Yes    99.0\n",
       "No      1.0\n",
       "Name: Are you a Nigerian?, dtype: float64"
      ]
     },
     "execution_count": 90,
     "metadata": {},
     "output_type": "execute_result"
    }
   ],
   "source": [
    "# Percentage Calculation\n",
    "\n",
    "(data['Are you a Nigerian?'].value_counts()/data['Are you a Nigerian?'].count()).round(decimals = 2)*100"
   ]
  },
  {
   "cell_type": "markdown",
   "metadata": {},
   "source": [
    "# GENDER"
   ]
  },
  {
   "cell_type": "code",
   "execution_count": 91,
   "metadata": {},
   "outputs": [
    {
     "data": {
      "text/plain": [
       "array(['Female', 'Male', 'Prefer not to say'], dtype=object)"
      ]
     },
     "execution_count": 91,
     "metadata": {},
     "output_type": "execute_result"
    }
   ],
   "source": [
    "# Gender Options\n",
    "\n",
    "data['Gender'].unique()"
   ]
  },
  {
   "cell_type": "code",
   "execution_count": 92,
   "metadata": {},
   "outputs": [
    {
     "data": {
      "text/plain": [
       "Gender\n",
       "Female                86\n",
       "Male                 216\n",
       "Prefer not to say      1\n",
       "Name: Gender, dtype: int64"
      ]
     },
     "execution_count": 92,
     "metadata": {},
     "output_type": "execute_result"
    }
   ],
   "source": [
    "# Gender Categories\n",
    "\n",
    "data.groupby('Gender')['Gender'].count()"
   ]
  },
  {
   "cell_type": "code",
   "execution_count": 93,
   "metadata": {},
   "outputs": [
    {
     "data": {
      "text/plain": [
       "Male                 70.0\n",
       "Female               30.0\n",
       "Prefer not to say     0.0\n",
       "Name: Gender, dtype: float64"
      ]
     },
     "execution_count": 93,
     "metadata": {},
     "output_type": "execute_result"
    }
   ],
   "source": [
    "# Percentage Calculation\n",
    "\n",
    "(data['Gender'].value_counts()/data['Gender'].count()).round(decimals = 1)*100"
   ]
  },
  {
   "cell_type": "code",
   "execution_count": 95,
   "metadata": {},
   "outputs": [
    {
     "data": {
      "text/plain": [
       "<matplotlib.axes._subplots.AxesSubplot at 0x16dfa0afa90>"
      ]
     },
     "execution_count": 95,
     "metadata": {},
     "output_type": "execute_result"
    },
    {
     "data": {
      "image/png": "[encoded data removed]",
      "text/plain": [
       "<Figure size 432x288 with 1 Axes>"
      ]
     },
     "metadata": {
      "needs_background": "light"
     },
     "output_type": "display_data"
    }
   ],
   "source": [
    "sns.countplot('Gender', data =data)"
   ]
  },
  {
   "cell_type": "markdown",
   "metadata": {},
   "source": [
    "# AGE GROUP"
   ]
  },
  {
   "cell_type": "code",
   "execution_count": 97,
   "metadata": {},
   "outputs": [
    {
     "data": {
      "text/plain": [
       "array(['18 – 25', '36 – 45', '26 – 35', '56 – 65', '46 – 55'],\n",
       "      dtype=object)"
      ]
     },
     "execution_count": 97,
     "metadata": {},
     "output_type": "execute_result"
    }
   ],
   "source": [
    "# Age Groups\n",
    "\n",
    "data['Age Group'].unique()"
   ]
  },
  {
   "cell_type": "code",
   "execution_count": 98,
   "metadata": {},
   "outputs": [
    {
     "data": {
      "text/plain": [
       "Age Group\n",
       "18 – 25    181\n",
       "26 – 35    104\n",
       "36 – 45     13\n",
       "46 – 55      4\n",
       "56 – 65      1\n",
       "Name: Age Group, dtype: int64"
      ]
     },
     "execution_count": 98,
     "metadata": {},
     "output_type": "execute_result"
    }
   ],
   "source": [
    "# Age Groups in Numbers\n",
    "\n",
    "data.groupby('Age Group')['Age Group'].count()"
   ]
  },
  {
   "cell_type": "code",
   "execution_count": 99,
   "metadata": {},
   "outputs": [
    {
     "data": {
      "text/plain": [
       "18 – 25    60.0\n",
       "26 – 35    34.0\n",
       "36 – 45     4.0\n",
       "46 – 55     1.0\n",
       "56 – 65     0.0\n",
       "Name: Age Group, dtype: float64"
      ]
     },
     "execution_count": 99,
     "metadata": {},
     "output_type": "execute_result"
    }
   ],
   "source": [
    "# Percentage Calculation\n",
    "\n",
    "(data['Age Group'].value_counts()/data['Age Group'].count()).round(decimals = 2)*100"
   ]
  },
  {
   "cell_type": "code",
   "execution_count": 100,
   "metadata": {},
   "outputs": [
    {
     "data": {
      "text/plain": [
       "<matplotlib.axes._subplots.AxesSubplot at 0x16dfa184b00>"
      ]
     },
     "execution_count": 100,
     "metadata": {},
     "output_type": "execute_result"
    },
    {
     "data": {
      "image/png": "[encoded data removed]",
      "text/plain": [
       "<Figure size 432x288 with 1 Axes>"
      ]
     },
     "metadata": {
      "needs_background": "light"
     },
     "output_type": "display_data"
    }
   ],
   "source": [
    "sns.countplot('Age Group', data = data)"
   ]
  },
  {
   "cell_type": "markdown",
   "metadata": {},
   "source": [
    "# Marriage"
   ]
  },
  {
   "cell_type": "code",
   "execution_count": 101,
   "metadata": {},
   "outputs": [
    {
     "data": {
      "text/plain": [
       "array(['No', 'Yes'], dtype=object)"
      ]
     },
     "execution_count": 101,
     "metadata": {},
     "output_type": "execute_result"
    }
   ],
   "source": [
    "# Gender Options\n",
    "\n",
    "data['Are you married?'].unique()"
   ]
  },
  {
   "cell_type": "code",
   "execution_count": 102,
   "metadata": {},
   "outputs": [
    {
     "data": {
      "text/plain": [
       "Are you married?\n",
       "No     269\n",
       "Yes     34\n",
       "Name: Are you married?, dtype: int64"
      ]
     },
     "execution_count": 102,
     "metadata": {},
     "output_type": "execute_result"
    }
   ],
   "source": [
    "# Marriage Options\n",
    "\n",
    "data.groupby('Are you married?')['Are you married?'].count()"
   ]
  },
  {
   "cell_type": "code",
   "execution_count": 103,
   "metadata": {},
   "outputs": [
    {
     "data": {
      "text/plain": [
       "No     90.0\n",
       "Yes    10.0\n",
       "Name: Are you married?, dtype: float64"
      ]
     },
     "execution_count": 103,
     "metadata": {},
     "output_type": "execute_result"
    }
   ],
   "source": [
    "# Percentage Calculation\n",
    "\n",
    "(data['Are you married?'].value_counts()/data['Are you married?'].count()).round(decimals = 1)*100"
   ]
  },
  {
   "cell_type": "code",
   "execution_count": 104,
   "metadata": {},
   "outputs": [
    {
     "data": {
      "text/plain": [
       "<matplotlib.axes._subplots.AxesSubplot at 0x16dfb1a8710>"
      ]
     },
     "execution_count": 104,
     "metadata": {},
     "output_type": "execute_result"
    },
    {
     "data": {
      "image/png": "[encoded data removed]",
      "text/plain": [
       "<Figure size 432x288 with 1 Axes>"
      ]
     },
     "metadata": {
      "needs_background": "light"
     },
     "output_type": "display_data"
    }
   ],
   "source": [
    "sns.countplot(x='Are you married?', data=data)"
   ]
  },
  {
   "cell_type": "markdown",
   "metadata": {},
   "source": [
    "# HAVE CHILDREN?"
   ]
  },
  {
   "cell_type": "code",
   "execution_count": 106,
   "metadata": {},
   "outputs": [
    {
     "data": {
      "text/plain": [
       "array(['No', 'Yes'], dtype=object)"
      ]
     },
     "execution_count": 106,
     "metadata": {},
     "output_type": "execute_result"
    }
   ],
   "source": [
    "# Having Kids Options\n",
    "\n",
    "data['Do you have kids?'].unique()"
   ]
  },
  {
   "cell_type": "code",
   "execution_count": 107,
   "metadata": {},
   "outputs": [
    {
     "data": {
      "text/plain": [
       "Do you have kids?\n",
       "No     279\n",
       "Yes     24\n",
       "Name: Do you have kids?, dtype: int64"
      ]
     },
     "execution_count": 107,
     "metadata": {},
     "output_type": "execute_result"
    }
   ],
   "source": [
    "# Number of Kids\n",
    "\n",
    "data.groupby('Do you have kids?')['Do you have kids?'].count()"
   ]
  },
  {
   "cell_type": "code",
   "execution_count": 108,
   "metadata": {},
   "outputs": [
    {
     "data": {
      "text/plain": [
       "No     90.0\n",
       "Yes    10.0\n",
       "Name: Do you have kids?, dtype: float64"
      ]
     },
     "execution_count": 108,
     "metadata": {},
     "output_type": "execute_result"
    }
   ],
   "source": [
    "# Percentage Calculation\n",
    "\n",
    "(data['Do you have kids?'].value_counts()/data['Do you have kids?'].count()).round(decimals = 1)*100"
   ]
  },
  {
   "cell_type": "code",
   "execution_count": 109,
   "metadata": {},
   "outputs": [
    {
     "data": {
      "text/plain": [
       "<matplotlib.axes._subplots.AxesSubplot at 0x16dfb209080>"
      ]
     },
     "execution_count": 109,
     "metadata": {},
     "output_type": "execute_result"
    },
    {
     "data": {
      "image/png": "[encoded data removed]",
      "text/plain": [
       "<Figure size 432x288 with 1 Axes>"
      ]
     },
     "metadata": {
      "needs_background": "light"
     },
     "output_type": "display_data"
    }
   ],
   "source": [
    "sns.countplot(x='Do you have kids?', data=data)"
   ]
  },
  {
   "cell_type": "markdown",
   "metadata": {},
   "source": [
    "## OBSERVATION \n",
    "\n",
    "The Number of people married is similar to those with kids suggest that most of those married have kids. "
   ]
  },
  {
   "cell_type": "markdown",
   "metadata": {},
   "source": [
    "# STATE OF RESIDENCE \n"
   ]
  },
  {
   "cell_type": "code",
   "execution_count": 110,
   "metadata": {},
   "outputs": [
    {
     "data": {
      "text/plain": [
       "array(['Lagos', 'Oyo', 'Ogun', 'Abuja (FCT)', 'Anambra', 'Kaduna',\n",
       "       'Cross River', 'Rivers', 'Imo', 'Nasarawa', 'Niger', 'Delta',\n",
       "       'Kwara', 'Benue', 'Edo', 'Osun', 'Akwa Ibom', 'Abia', 'Plateau',\n",
       "       'Ondo'], dtype=object)"
      ]
     },
     "execution_count": 110,
     "metadata": {},
     "output_type": "execute_result"
    }
   ],
   "source": [
    "# States Coverage\n",
    "\n",
    "data['Where do you live?'].unique()"
   ]
  },
  {
   "cell_type": "code",
   "execution_count": 112,
   "metadata": {},
   "outputs": [
    {
     "data": {
      "text/plain": [
       "20"
      ]
     },
     "execution_count": 112,
     "metadata": {},
     "output_type": "execute_result"
    }
   ],
   "source": [
    "# Number of States Where Respondents are Located\n",
    "\n",
    "data['Where do you live?'].nunique()"
   ]
  },
  {
   "cell_type": "code",
   "execution_count": 113,
   "metadata": {},
   "outputs": [
    {
     "data": {
      "text/plain": [
       "Lagos          76.0\n",
       "Ogun            6.0\n",
       "Abuja (FCT)     3.0\n",
       "Oyo             2.0\n",
       "Kwara           2.0\n",
       "Kaduna          2.0\n",
       "Rivers          1.0\n",
       "Anambra         1.0\n",
       "Ondo            1.0\n",
       "Osun            1.0\n",
       "Imo             1.0\n",
       "Edo             1.0\n",
       "Delta           1.0\n",
       "Cross River     1.0\n",
       "Abia            0.0\n",
       "Benue           0.0\n",
       "Niger           0.0\n",
       "Nasarawa        0.0\n",
       "Plateau         0.0\n",
       "Akwa Ibom       0.0\n",
       "Name: Where do you live?, dtype: float64"
      ]
     },
     "execution_count": 113,
     "metadata": {},
     "output_type": "execute_result"
    }
   ],
   "source": [
    "# Percentage Calculation\n",
    "\n",
    "(data['Where do you live?'].value_counts()/data['Where do you live?'].count()).round(decimals = 2)*100"
   ]
  },
  {
   "cell_type": "markdown",
   "metadata": {},
   "source": [
    "## OBSERVATION \n",
    "\n",
    "We can assume the data is talking about Lagos cause it consytitutes 76% of our data "
   ]
  },
  {
   "cell_type": "markdown",
   "metadata": {},
   "source": [
    "# OCCUPATION "
   ]
  },
  {
   "cell_type": "code",
   "execution_count": 114,
   "metadata": {},
   "outputs": [
    {
     "data": {
      "text/plain": [
       "array([nan, 'No Job', 'Financial Services', 'Business', 'Engineering',\n",
       "       'Consultant', 'Software Engineering /Computer Design', 'Student',\n",
       "       'Entrepreneur', 'I don’t know', 'Health', 'Student and Working',\n",
       "       'Farmer', 'Others'], dtype=object)"
      ]
     },
     "execution_count": 114,
     "metadata": {},
     "output_type": "execute_result"
    }
   ],
   "source": [
    "# Occupation Types\n",
    "\n",
    "data['Occupation'].unique()\n"
   ]
  },
  {
   "cell_type": "code",
   "execution_count": 115,
   "metadata": {},
   "outputs": [
    {
     "data": {
      "text/plain": [
       "Occupation\n",
       "Business                                 16\n",
       "Consultant                               16\n",
       "Engineering                              31\n",
       "Entrepreneur                             28\n",
       "Farmer                                    1\n",
       "Financial Services                       27\n",
       "Health                                   10\n",
       "I don’t know                              9\n",
       "No Job                                   25\n",
       "Others                                   18\n",
       "Software Engineering /Computer Design    50\n",
       "Student                                  48\n",
       "Student and Working                      23\n",
       "Name: Occupation, dtype: int64"
      ]
     },
     "execution_count": 115,
     "metadata": {},
     "output_type": "execute_result"
    }
   ],
   "source": [
    "# Number of Respondents in each occupation\n",
    "\n",
    "data.groupby('Occupation')['Occupation'].count()"
   ]
  },
  {
   "cell_type": "code",
   "execution_count": 116,
   "metadata": {},
   "outputs": [
    {
     "data": {
      "text/plain": [
       "Software Engineering /Computer Design    17.0\n",
       "Student                                  16.0\n",
       "Engineering                              10.0\n",
       "Entrepreneur                              9.0\n",
       "Financial Services                        9.0\n",
       "No Job                                    8.0\n",
       "Student and Working                       8.0\n",
       "Others                                    6.0\n",
       "Consultant                                5.0\n",
       "Business                                  5.0\n",
       "Health                                    3.0\n",
       "I don’t know                              3.0\n",
       "Farmer                                    0.0\n",
       "Name: Occupation, dtype: float64"
      ]
     },
     "execution_count": 116,
     "metadata": {},
     "output_type": "execute_result"
    }
   ],
   "source": [
    "# Percentage Calculation\n",
    "\n",
    "(data['Occupation'].value_counts()/data['Occupation'].count()).round(decimals = 2)*100"
   ]
  },
  {
   "cell_type": "code",
   "execution_count": 117,
   "metadata": {},
   "outputs": [
    {
     "data": {
      "text/plain": [
       "<matplotlib.axes._subplots.AxesSubplot at 0x16dfb251c88>"
      ]
     },
     "execution_count": 117,
     "metadata": {},
     "output_type": "execute_result"
    },
    {
     "data": {
      "image/png": "[encoded data removed]",
      "text/plain": [
       "<Figure size 432x288 with 1 Axes>"
      ]
     },
     "metadata": {
      "needs_background": "light"
     },
     "output_type": "display_data"
    }
   ],
   "source": [
    "sns.countplot(y='Occupation', data=data, label='Occupation')"
   ]
  },
  {
   "cell_type": "code",
   "execution_count": 119,
   "metadata": {},
   "outputs": [
    {
     "data": {
      "text/plain": [
       "13"
      ]
     },
     "execution_count": 119,
     "metadata": {},
     "output_type": "execute_result"
    }
   ],
   "source": [
    "data['Occupation'].nunique()"
   ]
  },
  {
   "cell_type": "code",
   "execution_count": 121,
   "metadata": {},
   "outputs": [
    {
     "data": {
      "image/png": "[encoded data removed]",
      "text/plain": [
       "<Figure size 720x720 with 1 Axes>"
      ]
     },
     "metadata": {},
     "output_type": "display_data"
    }
   ],
   "source": [
    "# Pie chart\n",
    "labels = ['No Job', \n",
    "          'Financial Services', \n",
    "          'Business', \n",
    "          'Engineering', \n",
    "          'Consultant',\n",
    "          'Software Engineering/Computer Design',\n",
    "          'Student',\n",
    "          'Entrepreneur',\n",
    "          \"I don't know\",\n",
    "          'Health',\n",
    "          'Student and Working',\n",
    "          'Farmer',\n",
    "          'Others']\n",
    "\n",
    "\n",
    "\n",
    "sizes = [17, 16, 10, 9, 9, 8, 8, 6, 5, 5, 3, 3, 0]\n",
    "\n",
    "# only \"explode\" the 8th slice (i.e. 'Entrepreneur')\n",
    "explode = (0, 0, 0, 0, 0, 0, 0, 0.5, 0, 0, 0, 0, 0)  \n",
    "fig1, ax1 = plt.subplots(figsize = (10, 10))\n",
    "ax1.pie(sizes, explode=explode, labels=labels, autopct='%1.1f%%',\n",
    "        shadow=True, startangle=90)\n",
    "\n",
    "# Equal aspect ratio ensures that pie is drawn as a circle\n",
    "ax1.axis('equal')  \n",
    "plt.tight_layout()\n",
    "plt.show()"
   ]
  },
  {
   "cell_type": "code",
   "execution_count": 7,
   "metadata": {},
   "outputs": [
    {
     "data": {
      "text/html": [
       "<div>\n",
       "<style scoped>\n",
       "    .dataframe tbody tr th:only-of-type {\n",
       "        vertical-align: middle;\n",
       "    }\n",
       "\n",
       "    .dataframe tbody tr th {\n",
       "        vertical-align: top;\n",
       "    }\n",
       "\n",
       "    .dataframe thead th {\n",
       "        text-align: right;\n",
       "    }\n",
       "</style>\n",
       "<table border=\"1\" class=\"dataframe\">\n",
       "  <thead>\n",
       "    <tr style=\"text-align: right;\">\n",
       "      <th></th>\n",
       "      <th>count</th>\n",
       "      <th>unique</th>\n",
       "      <th>top</th>\n",
       "      <th>freq</th>\n",
       "    </tr>\n",
       "    <tr>\n",
       "      <th>Are you a Nigerian?</th>\n",
       "      <th></th>\n",
       "      <th></th>\n",
       "      <th></th>\n",
       "      <th></th>\n",
       "    </tr>\n",
       "  </thead>\n",
       "  <tbody>\n",
       "    <tr>\n",
       "      <th>No</th>\n",
       "      <td>3</td>\n",
       "      <td>2</td>\n",
       "      <td>21,000 – 50,000</td>\n",
       "      <td>2</td>\n",
       "    </tr>\n",
       "    <tr>\n",
       "      <th>Yes</th>\n",
       "      <td>285</td>\n",
       "      <td>10</td>\n",
       "      <td>21,000 – 50,000</td>\n",
       "      <td>78</td>\n",
       "    </tr>\n",
       "  </tbody>\n",
       "</table>\n",
       "</div>"
      ],
      "text/plain": [
       "                    count unique              top freq\n",
       "Are you a Nigerian?                                   \n",
       "No                      3      2  21,000 – 50,000    2\n",
       "Yes                   285     10  21,000 – 50,000   78"
      ]
     },
     "execution_count": 7,
     "metadata": {},
     "output_type": "execute_result"
    }
   ],
   "source": [
    "Nigerians = data.groupby('Are you a Nigerian?')['What is your steady/constant income range in a month?'].describe()\n",
    "Nigerians "
   ]
  },
  {
   "cell_type": "markdown",
   "metadata": {},
   "source": [
    "285 out of the 303 samples are Nigerian, 3 are not Nigerian, 15 are not available "
   ]
  },
  {
   "cell_type": "code",
   "execution_count": 8,
   "metadata": {},
   "outputs": [
    {
     "data": {
      "text/plain": [
       "(3, 21)"
      ]
     },
     "execution_count": 8,
     "metadata": {},
     "output_type": "execute_result"
    }
   ],
   "source": [
    "data[data['Are you a Nigerian?'] == 'No'].shape"
   ]
  },
  {
   "cell_type": "code",
   "execution_count": 9,
   "metadata": {},
   "outputs": [
    {
     "data": {
      "text/plain": [
       "(285, 21)"
      ]
     },
     "execution_count": 9,
     "metadata": {},
     "output_type": "execute_result"
    }
   ],
   "source": [
    "data[data['Are you a Nigerian?'] == 'Yes'].shape"
   ]
  },
  {
   "cell_type": "code",
   "execution_count": null,
   "metadata": {},
   "outputs": [],
   "source": []
  },
  {
   "cell_type": "code",
   "execution_count": 10,
   "metadata": {},
   "outputs": [
    {
     "data": {
      "text/plain": [
       "array(['Below 5000', '11,000 – 20,000', '110,000 – 200,000',\n",
       "       '201,000 – 300,000', '51,000 – 80,000', '21,000 – 50,000',\n",
       "       '81,000 – 100,000', '5000 – 10,000', '500,000 – above',\n",
       "       '301,000 – 500,000'], dtype=object)"
      ]
     },
     "execution_count": 10,
     "metadata": {},
     "output_type": "execute_result"
    }
   ],
   "source": [
    "data['What is your steady/constant income range in a month?'].unique()"
   ]
  },
  {
   "cell_type": "code",
   "execution_count": 11,
   "metadata": {},
   "outputs": [],
   "source": [
    "salaries = data['What is your steady/constant income range in a month?']\n"
   ]
  },
  {
   "cell_type": "code",
   "execution_count": 12,
   "metadata": {},
   "outputs": [
    {
     "data": {
      "text/plain": [
       "What is your steady/constant income range in a month?\n",
       "11,000 – 20,000      29\n",
       "110,000 – 200,000    37\n",
       "201,000 – 300,000    23\n",
       "21,000 – 50,000      82\n",
       "301,000 – 500,000     9\n",
       "500,000 – above       8\n",
       "5000 – 10,000        18\n",
       "51,000 – 80,000      33\n",
       "81,000 – 100,000     35\n",
       "Below 5000           29\n",
       "Name: What is your steady/constant income range in a month?, dtype: int64"
      ]
     },
     "execution_count": 12,
     "metadata": {},
     "output_type": "execute_result"
    }
   ],
   "source": [
    "#Grouping the sample according to salary range\n",
    "salaries = data.groupby('What is your steady/constant income range in a month?')['What is your steady/constant income range in a month?'].count()\n",
    "salaries"
   ]
  },
  {
   "cell_type": "code",
   "execution_count": 13,
   "metadata": {},
   "outputs": [
    {
     "data": {
      "text/plain": [
       "What is your steady/constant income range in a month?\n",
       "Below 5000           29\n",
       "5000 – 10,000        18\n",
       "11,000 – 20,000      29\n",
       "21,000 – 50,000      82\n",
       "51,000 – 80,000      33\n",
       "81,000 – 100,000     35\n",
       "110,000 – 200,000    37\n",
       "201,000 – 300,000    23\n",
       "301,000 – 500,000     9\n",
       "500,000 – above       8\n",
       "Name: What is your steady/constant income range in a month?, dtype: int64"
      ]
     },
     "execution_count": 13,
     "metadata": {},
     "output_type": "execute_result"
    }
   ],
   "source": [
    "#Rearranging the salary ranges in ascending order\n",
    "salaries = salaries.reindex(['Below 5000', '5000 – 10,000', '11,000 – 20,000', '21,000 – 50,000', '51,000 – 80,000','81,000 – 100,000', \n",
    "                                       '110,000 – 200,000','201,000 – 300,000','301,000 – 500,000', '500,000 – above'])                \n",
    "salaries"
   ]
  },
  {
   "cell_type": "code",
   "execution_count": 14,
   "metadata": {},
   "outputs": [
    {
     "data": {
      "text/plain": [
       "<BarContainer object of 10 artists>"
      ]
     },
     "execution_count": 14,
     "metadata": {},
     "output_type": "execute_result"
    },
    {
     "data": {
      "image/png": "[encoded data removed]",
      "text/plain": [
       "<Figure size 432x288 with 1 Axes>"
      ]
     },
     "metadata": {
      "needs_background": "light"
     },
     "output_type": "display_data"
    }
   ],
   "source": [
    "plt.barh(salaries.index, salaries)"
   ]
  },
  {
   "cell_type": "code",
   "execution_count": 16,
   "metadata": {},
   "outputs": [
    {
     "data": {
      "text/plain": [
       "What is your steady/constant income range in a month?\n",
       "Below 5000           10.0\n",
       "5000 – 10,000         6.0\n",
       "11,000 – 20,000      10.0\n",
       "21,000 – 50,000      27.0\n",
       "51,000 – 80,000      11.0\n",
       "81,000 – 100,000     12.0\n",
       "110,000 – 200,000    12.0\n",
       "201,000 – 300,000     8.0\n",
       "301,000 – 500,000     3.0\n",
       "500,000 – above       3.0\n",
       "Name: What is your steady/constant income range in a month?, dtype: float64"
      ]
     },
     "execution_count": 16,
     "metadata": {},
     "output_type": "execute_result"
    }
   ],
   "source": [
    "#Trying to find out the distribution of the salary ranges across the sample size  \n",
    "salaries_percent = (salaries/ salaries.sum()).round(decimals = 2) * 100\n",
    "salaries_percent"
   ]
  },
  {
   "cell_type": "code",
   "execution_count": 17,
   "metadata": {},
   "outputs": [
    {
     "data": {
      "text/html": [
       "<div>\n",
       "<style scoped>\n",
       "    .dataframe tbody tr th:only-of-type {\n",
       "        vertical-align: middle;\n",
       "    }\n",
       "\n",
       "    .dataframe tbody tr th {\n",
       "        vertical-align: top;\n",
       "    }\n",
       "\n",
       "    .dataframe thead th {\n",
       "        text-align: right;\n",
       "    }\n",
       "</style>\n",
       "<table border=\"1\" class=\"dataframe\">\n",
       "  <thead>\n",
       "    <tr style=\"text-align: right;\">\n",
       "      <th></th>\n",
       "      <th>Number of People</th>\n",
       "      <th>Percentage of Sample</th>\n",
       "    </tr>\n",
       "    <tr>\n",
       "      <th>What is your steady/constant income range in a month?</th>\n",
       "      <th></th>\n",
       "      <th></th>\n",
       "    </tr>\n",
       "  </thead>\n",
       "  <tbody>\n",
       "    <tr>\n",
       "      <th>Below 5000</th>\n",
       "      <td>29</td>\n",
       "      <td>10.0</td>\n",
       "    </tr>\n",
       "    <tr>\n",
       "      <th>5000 – 10,000</th>\n",
       "      <td>18</td>\n",
       "      <td>6.0</td>\n",
       "    </tr>\n",
       "    <tr>\n",
       "      <th>11,000 – 20,000</th>\n",
       "      <td>29</td>\n",
       "      <td>10.0</td>\n",
       "    </tr>\n",
       "    <tr>\n",
       "      <th>21,000 – 50,000</th>\n",
       "      <td>82</td>\n",
       "      <td>27.0</td>\n",
       "    </tr>\n",
       "    <tr>\n",
       "      <th>51,000 – 80,000</th>\n",
       "      <td>33</td>\n",
       "      <td>11.0</td>\n",
       "    </tr>\n",
       "    <tr>\n",
       "      <th>81,000 – 100,000</th>\n",
       "      <td>35</td>\n",
       "      <td>12.0</td>\n",
       "    </tr>\n",
       "    <tr>\n",
       "      <th>110,000 – 200,000</th>\n",
       "      <td>37</td>\n",
       "      <td>12.0</td>\n",
       "    </tr>\n",
       "    <tr>\n",
       "      <th>201,000 – 300,000</th>\n",
       "      <td>23</td>\n",
       "      <td>8.0</td>\n",
       "    </tr>\n",
       "    <tr>\n",
       "      <th>301,000 – 500,000</th>\n",
       "      <td>9</td>\n",
       "      <td>3.0</td>\n",
       "    </tr>\n",
       "    <tr>\n",
       "      <th>500,000 – above</th>\n",
       "      <td>8</td>\n",
       "      <td>3.0</td>\n",
       "    </tr>\n",
       "  </tbody>\n",
       "</table>\n",
       "</div>"
      ],
      "text/plain": [
       "                                                    Number of People  \\\n",
       "What is your steady/constant income range in a ...                     \n",
       "Below 5000                                                        29   \n",
       "5000 – 10,000                                                     18   \n",
       "11,000 – 20,000                                                   29   \n",
       "21,000 – 50,000                                                   82   \n",
       "51,000 – 80,000                                                   33   \n",
       "81,000 – 100,000                                                  35   \n",
       "110,000 – 200,000                                                 37   \n",
       "201,000 – 300,000                                                 23   \n",
       "301,000 – 500,000                                                  9   \n",
       "500,000 – above                                                    8   \n",
       "\n",
       "                                                    Percentage of Sample  \n",
       "What is your steady/constant income range in a ...                        \n",
       "Below 5000                                                          10.0  \n",
       "5000 – 10,000                                                        6.0  \n",
       "11,000 – 20,000                                                     10.0  \n",
       "21,000 – 50,000                                                     27.0  \n",
       "51,000 – 80,000                                                     11.0  \n",
       "81,000 – 100,000                                                    12.0  \n",
       "110,000 – 200,000                                                   12.0  \n",
       "201,000 – 300,000                                                    8.0  \n",
       "301,000 – 500,000                                                    3.0  \n",
       "500,000 – above                                                      3.0  "
      ]
     },
     "execution_count": 17,
     "metadata": {},
     "output_type": "execute_result"
    }
   ],
   "source": [
    "Salaries = pd.concat([salaries, salaries_percent], axis = 1, names = ['Number of People', 'Percentage of Sample'])\n",
    "Salaries.columns = ['Number of People', 'Percentage of Sample']\n",
    "Salaries"
   ]
  },
  {
   "cell_type": "markdown",
   "metadata": {},
   "source": [
    "## OBSERVATION\n",
    "Only 26% of our sample earn above 100, 000 Naira \n",
    "\n",
    "26% of our sample earn 20, 000 Naira and below\n",
    "\n",
    "53% of our sample earn 50, 000 Naira and below\n",
    "\n",
    "74% of our sample earn 100, 000 Naira and below "
   ]
  },
  {
   "cell_type": "code",
   "execution_count": null,
   "metadata": {},
   "outputs": [],
   "source": []
  },
  {
   "cell_type": "code",
   "execution_count": 18,
   "metadata": {},
   "outputs": [
    {
     "data": {
      "text/html": [
       "<div>\n",
       "<style scoped>\n",
       "    .dataframe tbody tr th:only-of-type {\n",
       "        vertical-align: middle;\n",
       "    }\n",
       "\n",
       "    .dataframe tbody tr th {\n",
       "        vertical-align: top;\n",
       "    }\n",
       "\n",
       "    .dataframe thead th {\n",
       "        text-align: right;\n",
       "    }\n",
       "</style>\n",
       "<table border=\"1\" class=\"dataframe\">\n",
       "  <thead>\n",
       "    <tr style=\"text-align: right;\">\n",
       "      <th></th>\n",
       "      <th>count</th>\n",
       "      <th>unique</th>\n",
       "      <th>top</th>\n",
       "      <th>freq</th>\n",
       "    </tr>\n",
       "    <tr>\n",
       "      <th>What is your steady/constant income range in a month?</th>\n",
       "      <th></th>\n",
       "      <th></th>\n",
       "      <th></th>\n",
       "      <th></th>\n",
       "    </tr>\n",
       "  </thead>\n",
       "  <tbody>\n",
       "    <tr>\n",
       "      <th>11,000 – 20,000</th>\n",
       "      <td>29</td>\n",
       "      <td>2</td>\n",
       "      <td>No</td>\n",
       "      <td>16</td>\n",
       "    </tr>\n",
       "    <tr>\n",
       "      <th>110,000 – 200,000</th>\n",
       "      <td>37</td>\n",
       "      <td>2</td>\n",
       "      <td>Yes</td>\n",
       "      <td>21</td>\n",
       "    </tr>\n",
       "    <tr>\n",
       "      <th>201,000 – 300,000</th>\n",
       "      <td>23</td>\n",
       "      <td>2</td>\n",
       "      <td>Yes</td>\n",
       "      <td>20</td>\n",
       "    </tr>\n",
       "    <tr>\n",
       "      <th>21,000 – 50,000</th>\n",
       "      <td>82</td>\n",
       "      <td>2</td>\n",
       "      <td>Yes</td>\n",
       "      <td>47</td>\n",
       "    </tr>\n",
       "    <tr>\n",
       "      <th>301,000 – 500,000</th>\n",
       "      <td>9</td>\n",
       "      <td>1</td>\n",
       "      <td>Yes</td>\n",
       "      <td>9</td>\n",
       "    </tr>\n",
       "    <tr>\n",
       "      <th>500,000 – above</th>\n",
       "      <td>8</td>\n",
       "      <td>2</td>\n",
       "      <td>Yes</td>\n",
       "      <td>6</td>\n",
       "    </tr>\n",
       "    <tr>\n",
       "      <th>5000 – 10,000</th>\n",
       "      <td>18</td>\n",
       "      <td>2</td>\n",
       "      <td>Yes</td>\n",
       "      <td>10</td>\n",
       "    </tr>\n",
       "    <tr>\n",
       "      <th>51,000 – 80,000</th>\n",
       "      <td>33</td>\n",
       "      <td>2</td>\n",
       "      <td>Yes</td>\n",
       "      <td>21</td>\n",
       "    </tr>\n",
       "    <tr>\n",
       "      <th>81,000 – 100,000</th>\n",
       "      <td>35</td>\n",
       "      <td>2</td>\n",
       "      <td>Yes</td>\n",
       "      <td>22</td>\n",
       "    </tr>\n",
       "    <tr>\n",
       "      <th>Below 5000</th>\n",
       "      <td>29</td>\n",
       "      <td>2</td>\n",
       "      <td>No</td>\n",
       "      <td>22</td>\n",
       "    </tr>\n",
       "  </tbody>\n",
       "</table>\n",
       "</div>"
      ],
      "text/plain": [
       "                                                   count unique  top freq\n",
       "What is your steady/constant income range in a ...                       \n",
       "11,000 – 20,000                                       29      2   No   16\n",
       "110,000 – 200,000                                     37      2  Yes   21\n",
       "201,000 – 300,000                                     23      2  Yes   20\n",
       "21,000 – 50,000                                       82      2  Yes   47\n",
       "301,000 – 500,000                                      9      1  Yes    9\n",
       "500,000 – above                                        8      2  Yes    6\n",
       "5000 – 10,000                                         18      2  Yes   10\n",
       "51,000 – 80,000                                       33      2  Yes   21\n",
       "81,000 – 100,000                                      35      2  Yes   22\n",
       "Below 5000                                            29      2   No   22"
      ]
     },
     "execution_count": 18,
     "metadata": {},
     "output_type": "execute_result"
    }
   ],
   "source": [
    "#We want to find out if the sample size is happy with their job\n",
    "data.groupby('What is your steady/constant income range in a month?')['Are you Happy with your job?'].describe()"
   ]
  },
  {
   "cell_type": "code",
   "execution_count": 19,
   "metadata": {},
   "outputs": [],
   "source": [
    "#We divide the data into those who are happy with thier jobs and those who arent \n",
    "happy_withjob = data[['What is your steady/constant income range in a month?','Are you Happy with your job?' ]]\n",
    "happy_employees = happy_withjob[happy_withjob['Are you Happy with your job?'] == 'Yes']\n",
    "unhappy_employees = happy_withjob[happy_withjob['Are you Happy with your job?'] == 'No']"
   ]
  },
  {
   "cell_type": "code",
   "execution_count": 20,
   "metadata": {},
   "outputs": [],
   "source": [
    "happy_grouped = happy_employees.groupby('What is your steady/constant income range in a month?').count()\n",
    "happy_grouped = happy_grouped.reindex(['Below 5000', '5000 – 10,000', '11,000 – 20,000', '21,000 – 50,000', '51,000 – 80,000','81,000 – 100,000', \n",
    "                                       '110,000 – 200,000','201,000 – 300,000','301,000 – 500,000', '500,000 – above'])\n",
    "unhappy_grouped = unhappy_employees.groupby('What is your steady/constant income range in a month?').count()\n",
    "unhappy_grouped = unhappy_grouped.reindex(['Below 5000', '5000 – 10,000', '11,000 – 20,000', '21,000 – 50,000', '51,000 – 80,000','81,000 – 100,000', \n",
    "                                           '110,000 – 200,000','201,000 – 300,000','301,000 – 500,000', '500,000 – above'])"
   ]
  },
  {
   "cell_type": "code",
   "execution_count": 23,
   "metadata": {},
   "outputs": [
    {
     "name": "stdout",
     "output_type": "stream",
     "text": [
      "                                                    Are you Happy with your job?\n",
      "What is your steady/constant income range in a ...                              \n",
      "Below 5000                                                                     7\n",
      "5000 – 10,000                                                                 10\n",
      "11,000 – 20,000                                                               13\n",
      "21,000 – 50,000                                                               47\n",
      "51,000 – 80,000                                                               21\n",
      "81,000 – 100,000                                                              22\n",
      "110,000 – 200,000                                                             21\n",
      "201,000 – 300,000                                                             20\n",
      "301,000 – 500,000                                                              9\n",
      "500,000 – above                                                                6\n",
      "                                                    Are you Happy with your job?\n",
      "What is your steady/constant income range in a ...                              \n",
      "Below 5000                                                                  22.0\n",
      "5000 – 10,000                                                                8.0\n",
      "11,000 – 20,000                                                             16.0\n",
      "21,000 – 50,000                                                             35.0\n",
      "51,000 – 80,000                                                             12.0\n",
      "81,000 – 100,000                                                            13.0\n",
      "110,000 – 200,000                                                           16.0\n",
      "201,000 – 300,000                                                            3.0\n",
      "301,000 – 500,000                                                            NaN\n",
      "500,000 – above                                                              2.0\n"
     ]
    }
   ],
   "source": [
    "print(happy_grouped)\n",
    "print(unhappy_grouped)"
   ]
  },
  {
   "cell_type": "code",
   "execution_count": 24,
   "metadata": {},
   "outputs": [],
   "source": [
    "happy_array = np.asarray(happy_grouped['Are you Happy with your job?'])\n",
    "unhappy_array = np.asarray(unhappy_grouped['Are you Happy with your job?'])\n"
   ]
  },
  {
   "cell_type": "code",
   "execution_count": 25,
   "metadata": {},
   "outputs": [
    {
     "data": {
      "image/png": "[encoded data removed]",
      "text/plain": [
       "<Figure size 432x288 with 1 Axes>"
      ]
     },
     "metadata": {
      "needs_background": "light"
     },
     "output_type": "display_data"
    }
   ],
   "source": [
    "n_groups = 10 \n",
    "fig, ax = plt.subplots()\n",
    "index = np.arange(n_groups)\n",
    "bar_width = 0.35\n",
    "alpha = 0.8\n",
    "\n",
    "happy_bar = plt.barh(index, happy_array, bar_width, color = 'b', alpha = alpha, label = 'Happy')\n",
    "unhappy_bar = plt.barh(index + bar_width, unhappy_array, bar_width, color = 'g', alpha = alpha, label = 'Unhappy')\n",
    "\n",
    "plt.xlabel('Number of People')\n",
    "plt.ylabel('Salary Range')\n",
    "plt.title('Satisfaction with job across Salary ranges')\n",
    "plt.yticks(index + bar_width, ('Below 5000', '5000 – 10,000', '11,000 – 20,000', '21,000 – 50,000', '51,000 – 80,000','81,000 – 100,000', \n",
    "                               '110,000 – 200,000','201,000 – 300,000','301,000 – 500,000', '500,000 – above'))\n",
    "plt.legend()\n",
    "plt.tight_layout()"
   ]
  },
  {
   "cell_type": "markdown",
   "metadata": {},
   "source": [
    "## OBSERVATION \n",
    "A lot of people in the sample are happy with the jobs, more people are happy with their jobs across all the salary ranges except in the 'Below 5000' and '11,000 - 20,000' range "
   ]
  },
  {
   "cell_type": "code",
   "execution_count": null,
   "metadata": {},
   "outputs": [],
   "source": []
  },
  {
   "cell_type": "code",
   "execution_count": 21,
   "metadata": {},
   "outputs": [
    {
     "data": {
      "text/plain": [
       "array(['No', 'Yes'], dtype=object)"
      ]
     },
     "execution_count": 21,
     "metadata": {},
     "output_type": "execute_result"
    }
   ],
   "source": [
    "data['Is this your primary source of income?'].unique()"
   ]
  },
  {
   "cell_type": "code",
   "execution_count": 26,
   "metadata": {},
   "outputs": [],
   "source": [
    "#We divide the data into those whose salary is there primary source of income and those whose isnt \n",
    "source_of_income = data[['What is your steady/constant income range in a month?','Is this your primary source of income?']]\n",
    "primary = source_of_income[source_of_income['Is this your primary source of income?'] == 'Yes']\n",
    "not_primary = source_of_income[source_of_income['Is this your primary source of income?'] == 'No']\n"
   ]
  },
  {
   "cell_type": "code",
   "execution_count": 27,
   "metadata": {},
   "outputs": [],
   "source": [
    "primary_grouped = primary.groupby('What is your steady/constant income range in a month?').count()\n",
    "primary_grouped = primary_grouped.reindex(['Below 5000', '5000 – 10,000', '11,000 – 20,000', '21,000 – 50,000', '51,000 – 80,000',\n",
    "                                           '81,000 – 100,000', '110,000 – 200,000','201,000 – 300,000','301,000 – 500,000', '500,000 – above'])\n",
    "not_primary_grouped = not_primary.groupby('What is your steady/constant income range in a month?').count()\n",
    "not_primary_grouped = not_primary_grouped.reindex(['Below 5000', '5000 – 10,000', '11,000 – 20,000', '21,000 – 50,000', '51,000 – 80,000',\n",
    "                                               '81,000 – 100,000', '110,000 – 200,000', '500,000 – above'])"
   ]
  },
  {
   "cell_type": "code",
   "execution_count": 28,
   "metadata": {},
   "outputs": [],
   "source": [
    "primary_array = np.asarray(primary_grouped['Is this your primary source of income?'])\n",
    "not_primary_array = np.array([15, 9, 14, 20, 3, 1, 2, 0, 0, 1])"
   ]
  },
  {
   "cell_type": "code",
   "execution_count": 29,
   "metadata": {},
   "outputs": [
    {
     "data": {
      "text/html": [
       "<div>\n",
       "<style scoped>\n",
       "    .dataframe tbody tr th:only-of-type {\n",
       "        vertical-align: middle;\n",
       "    }\n",
       "\n",
       "    .dataframe tbody tr th {\n",
       "        vertical-align: top;\n",
       "    }\n",
       "\n",
       "    .dataframe thead th {\n",
       "        text-align: right;\n",
       "    }\n",
       "</style>\n",
       "<table border=\"1\" class=\"dataframe\">\n",
       "  <thead>\n",
       "    <tr style=\"text-align: right;\">\n",
       "      <th></th>\n",
       "      <th>Is this your primary source of income?</th>\n",
       "    </tr>\n",
       "    <tr>\n",
       "      <th>What is your steady/constant income range in a month?</th>\n",
       "      <th></th>\n",
       "    </tr>\n",
       "  </thead>\n",
       "  <tbody>\n",
       "    <tr>\n",
       "      <th>Below 5000</th>\n",
       "      <td>15</td>\n",
       "    </tr>\n",
       "    <tr>\n",
       "      <th>5000 – 10,000</th>\n",
       "      <td>9</td>\n",
       "    </tr>\n",
       "    <tr>\n",
       "      <th>11,000 – 20,000</th>\n",
       "      <td>14</td>\n",
       "    </tr>\n",
       "    <tr>\n",
       "      <th>21,000 – 50,000</th>\n",
       "      <td>20</td>\n",
       "    </tr>\n",
       "    <tr>\n",
       "      <th>51,000 – 80,000</th>\n",
       "      <td>3</td>\n",
       "    </tr>\n",
       "    <tr>\n",
       "      <th>81,000 – 100,000</th>\n",
       "      <td>1</td>\n",
       "    </tr>\n",
       "    <tr>\n",
       "      <th>110,000 – 200,000</th>\n",
       "      <td>2</td>\n",
       "    </tr>\n",
       "    <tr>\n",
       "      <th>500,000 – above</th>\n",
       "      <td>1</td>\n",
       "    </tr>\n",
       "  </tbody>\n",
       "</table>\n",
       "</div>"
      ],
      "text/plain": [
       "                                                    Is this your primary source of income?\n",
       "What is your steady/constant income range in a ...                                        \n",
       "Below 5000                                                                              15\n",
       "5000 – 10,000                                                                            9\n",
       "11,000 – 20,000                                                                         14\n",
       "21,000 – 50,000                                                                         20\n",
       "51,000 – 80,000                                                                          3\n",
       "81,000 – 100,000                                                                         1\n",
       "110,000 – 200,000                                                                        2\n",
       "500,000 – above                                                                          1"
      ]
     },
     "execution_count": 29,
     "metadata": {},
     "output_type": "execute_result"
    }
   ],
   "source": [
    "not_primary_grouped"
   ]
  },
  {
   "cell_type": "code",
   "execution_count": 30,
   "metadata": {},
   "outputs": [
    {
     "data": {
      "text/plain": [
       "array([15,  9, 14, 20,  3,  1,  2,  0,  0,  1])"
      ]
     },
     "execution_count": 30,
     "metadata": {},
     "output_type": "execute_result"
    }
   ],
   "source": [
    "not_primary_array"
   ]
  },
  {
   "cell_type": "code",
   "execution_count": 31,
   "metadata": {},
   "outputs": [
    {
     "data": {
      "text/html": [
       "<div>\n",
       "<style scoped>\n",
       "    .dataframe tbody tr th:only-of-type {\n",
       "        vertical-align: middle;\n",
       "    }\n",
       "\n",
       "    .dataframe tbody tr th {\n",
       "        vertical-align: top;\n",
       "    }\n",
       "\n",
       "    .dataframe thead th {\n",
       "        text-align: right;\n",
       "    }\n",
       "</style>\n",
       "<table border=\"1\" class=\"dataframe\">\n",
       "  <thead>\n",
       "    <tr style=\"text-align: right;\">\n",
       "      <th></th>\n",
       "      <th>count</th>\n",
       "      <th>unique</th>\n",
       "      <th>top</th>\n",
       "      <th>freq</th>\n",
       "    </tr>\n",
       "    <tr>\n",
       "      <th>What is your steady/constant income range in a month?</th>\n",
       "      <th></th>\n",
       "      <th></th>\n",
       "      <th></th>\n",
       "      <th></th>\n",
       "    </tr>\n",
       "  </thead>\n",
       "  <tbody>\n",
       "    <tr>\n",
       "      <th>11,000 – 20,000</th>\n",
       "      <td>29</td>\n",
       "      <td>2</td>\n",
       "      <td>Yes</td>\n",
       "      <td>15</td>\n",
       "    </tr>\n",
       "    <tr>\n",
       "      <th>110,000 – 200,000</th>\n",
       "      <td>37</td>\n",
       "      <td>2</td>\n",
       "      <td>Yes</td>\n",
       "      <td>35</td>\n",
       "    </tr>\n",
       "    <tr>\n",
       "      <th>201,000 – 300,000</th>\n",
       "      <td>23</td>\n",
       "      <td>1</td>\n",
       "      <td>Yes</td>\n",
       "      <td>23</td>\n",
       "    </tr>\n",
       "    <tr>\n",
       "      <th>21,000 – 50,000</th>\n",
       "      <td>82</td>\n",
       "      <td>2</td>\n",
       "      <td>Yes</td>\n",
       "      <td>62</td>\n",
       "    </tr>\n",
       "    <tr>\n",
       "      <th>301,000 – 500,000</th>\n",
       "      <td>9</td>\n",
       "      <td>1</td>\n",
       "      <td>Yes</td>\n",
       "      <td>9</td>\n",
       "    </tr>\n",
       "    <tr>\n",
       "      <th>500,000 – above</th>\n",
       "      <td>8</td>\n",
       "      <td>2</td>\n",
       "      <td>Yes</td>\n",
       "      <td>7</td>\n",
       "    </tr>\n",
       "    <tr>\n",
       "      <th>5000 – 10,000</th>\n",
       "      <td>18</td>\n",
       "      <td>2</td>\n",
       "      <td>No</td>\n",
       "      <td>9</td>\n",
       "    </tr>\n",
       "    <tr>\n",
       "      <th>51,000 – 80,000</th>\n",
       "      <td>33</td>\n",
       "      <td>2</td>\n",
       "      <td>Yes</td>\n",
       "      <td>30</td>\n",
       "    </tr>\n",
       "    <tr>\n",
       "      <th>81,000 – 100,000</th>\n",
       "      <td>35</td>\n",
       "      <td>2</td>\n",
       "      <td>Yes</td>\n",
       "      <td>34</td>\n",
       "    </tr>\n",
       "    <tr>\n",
       "      <th>Below 5000</th>\n",
       "      <td>29</td>\n",
       "      <td>2</td>\n",
       "      <td>No</td>\n",
       "      <td>15</td>\n",
       "    </tr>\n",
       "  </tbody>\n",
       "</table>\n",
       "</div>"
      ],
      "text/plain": [
       "                                                   count unique  top freq\n",
       "What is your steady/constant income range in a ...                       \n",
       "11,000 – 20,000                                       29      2  Yes   15\n",
       "110,000 – 200,000                                     37      2  Yes   35\n",
       "201,000 – 300,000                                     23      1  Yes   23\n",
       "21,000 – 50,000                                       82      2  Yes   62\n",
       "301,000 – 500,000                                      9      1  Yes    9\n",
       "500,000 – above                                        8      2  Yes    7\n",
       "5000 – 10,000                                         18      2   No    9\n",
       "51,000 – 80,000                                       33      2  Yes   30\n",
       "81,000 – 100,000                                      35      2  Yes   34\n",
       "Below 5000                                            29      2   No   15"
      ]
     },
     "execution_count": 31,
     "metadata": {},
     "output_type": "execute_result"
    }
   ],
   "source": [
    "data.groupby('What is your steady/constant income range in a month?')['Is this your primary source of income?'].describe()"
   ]
  },
  {
   "cell_type": "code",
   "execution_count": 32,
   "metadata": {},
   "outputs": [
    {
     "data": {
      "image/png": "[encoded data removed]",
      "text/plain": [
       "<Figure size 432x288 with 1 Axes>"
      ]
     },
     "metadata": {
      "needs_background": "light"
     },
     "output_type": "display_data"
    }
   ],
   "source": [
    "n_groups = 10 \n",
    "fig, ax = plt.subplots()\n",
    "index = np.arange(n_groups)\n",
    "bar_width = 0.35\n",
    "alpha = 0.8\n",
    "\n",
    "primary_bar = plt.barh(index, primary_array, bar_width, color = 'b', alpha = alpha, label = 'Primary')\n",
    "not_primary_bar = plt.barh(index + bar_width, not_primary_array, bar_width, color = 'g', alpha = alpha, label = 'Not Primary')\n",
    "\n",
    "plt.xlabel('Number of People')\n",
    "plt.ylabel('Salary Range')\n",
    "plt.title('If jobs are the primary source of income  across Salary ranges')\n",
    "plt.yticks(index + bar_width, ('Below 5000', '5000 – 10,000', '11,000 – 20,000', '21,000 – 50,000', '51,000 – 80,000','81,000 – 100,000', \n",
    "                               '110,000 – 200,000','201,000 – 300,000','301,000 – 500,000', '500,000 – above'))\n",
    "plt.legend()\n",
    "plt.tight_layout()"
   ]
  },
  {
   "cell_type": "markdown",
   "metadata": {},
   "source": [
    "## OBSERVATI0N\n",
    "In all but the \"below 50000\" salary range, their job is their primary source of income "
   ]
  },
  {
   "cell_type": "code",
   "execution_count": 33,
   "metadata": {},
   "outputs": [
    {
     "data": {
      "text/plain": [
       "array(['Feeding', 'Transportation', 'School Fees', 'Rent',\n",
       "       'Clothing and Jewelry', 'Tax', 'Airtime and Data', 'Medical Bills',\n",
       "       'Bribery'], dtype=object)"
      ]
     },
     "execution_count": 33,
     "metadata": {},
     "output_type": "execute_result"
    }
   ],
   "source": [
    "data['What is your largest form of expense'].unique()"
   ]
  },
  {
   "cell_type": "code",
   "execution_count": 34,
   "metadata": {},
   "outputs": [
    {
     "data": {
      "text/plain": [
       "What is your largest form of expense\n",
       "Airtime and Data         20\n",
       "Bribery                   1\n",
       "Clothing and Jewelry      9\n",
       "Feeding                 102\n",
       "Medical Bills             1\n",
       "Rent                     63\n",
       "School Fees              23\n",
       "Tax                       2\n",
       "Transportation           82\n",
       "Name: What is your largest form of expense, dtype: int64"
      ]
     },
     "execution_count": 34,
     "metadata": {},
     "output_type": "execute_result"
    }
   ],
   "source": [
    "expense = data.groupby('What is your largest form of expense')['What is your largest form of expense'].count()\n",
    "expense \n"
   ]
  },
  {
   "cell_type": "code",
   "execution_count": 48,
   "metadata": {},
   "outputs": [
    {
     "data": {
      "text/plain": [
       "Text(0.5, 1.0, 'Major Nigerian Expenses')"
      ]
     },
     "execution_count": 48,
     "metadata": {},
     "output_type": "execute_result"
    },
    {
     "data": {
      "image/png": "[encoded data removed]",
      "text/plain": [
       "<Figure size 432x288 with 1 Axes>"
      ]
     },
     "metadata": {
      "needs_background": "light"
     },
     "output_type": "display_data"
    }
   ],
   "source": [
    "plt.barh(expense.index, expense)\n",
    "plt.title('Major Nigerian Expenses')"
   ]
  },
  {
   "cell_type": "markdown",
   "metadata": {},
   "source": [
    "## OBSERVATION \n",
    "Nigerian's spend most of their money on food, transportation and Housing respectively "
   ]
  },
  {
   "cell_type": "code",
   "execution_count": 35,
   "metadata": {},
   "outputs": [
    {
     "data": {
      "text/plain": [
       "array(['No', 'Yes'], dtype=object)"
      ]
     },
     "execution_count": 35,
     "metadata": {},
     "output_type": "execute_result"
    }
   ],
   "source": [
    "data['Do you pay your tax?'] .unique()"
   ]
  },
  {
   "cell_type": "code",
   "execution_count": 36,
   "metadata": {},
   "outputs": [],
   "source": [
    "taxes = data[['What is your steady/constant income range in a month?' ,'Do you pay your tax?']]\n",
    "pay_taxes = taxes[taxes['Do you pay your tax?'] == 'Yes']\n",
    "not_pay_taxes = taxes[taxes['Do you pay your tax?'] == 'No']\n",
    "\n",
    "paytaxes_grouped = pay_taxes.groupby('What is your steady/constant income range in a month?').count()\n",
    "notpaytaxes_grouped = not_pay_taxes.groupby('What is your steady/constant income range in a month?').count()"
   ]
  },
  {
   "cell_type": "code",
   "execution_count": 37,
   "metadata": {},
   "outputs": [
    {
     "data": {
      "text/html": [
       "<div>\n",
       "<style scoped>\n",
       "    .dataframe tbody tr th:only-of-type {\n",
       "        vertical-align: middle;\n",
       "    }\n",
       "\n",
       "    .dataframe tbody tr th {\n",
       "        vertical-align: top;\n",
       "    }\n",
       "\n",
       "    .dataframe thead th {\n",
       "        text-align: right;\n",
       "    }\n",
       "</style>\n",
       "<table border=\"1\" class=\"dataframe\">\n",
       "  <thead>\n",
       "    <tr style=\"text-align: right;\">\n",
       "      <th></th>\n",
       "      <th>Do you pay your tax?</th>\n",
       "    </tr>\n",
       "    <tr>\n",
       "      <th>What is your steady/constant income range in a month?</th>\n",
       "      <th></th>\n",
       "    </tr>\n",
       "  </thead>\n",
       "  <tbody>\n",
       "    <tr>\n",
       "      <th>11,000 – 20,000</th>\n",
       "      <td>8</td>\n",
       "    </tr>\n",
       "    <tr>\n",
       "      <th>110,000 – 200,000</th>\n",
       "      <td>35</td>\n",
       "    </tr>\n",
       "    <tr>\n",
       "      <th>201,000 – 300,000</th>\n",
       "      <td>20</td>\n",
       "    </tr>\n",
       "    <tr>\n",
       "      <th>21,000 – 50,000</th>\n",
       "      <td>42</td>\n",
       "    </tr>\n",
       "    <tr>\n",
       "      <th>301,000 – 500,000</th>\n",
       "      <td>9</td>\n",
       "    </tr>\n",
       "    <tr>\n",
       "      <th>500,000 – above</th>\n",
       "      <td>4</td>\n",
       "    </tr>\n",
       "    <tr>\n",
       "      <th>5000 – 10,000</th>\n",
       "      <td>3</td>\n",
       "    </tr>\n",
       "    <tr>\n",
       "      <th>51,000 – 80,000</th>\n",
       "      <td>21</td>\n",
       "    </tr>\n",
       "    <tr>\n",
       "      <th>81,000 – 100,000</th>\n",
       "      <td>28</td>\n",
       "    </tr>\n",
       "    <tr>\n",
       "      <th>Below 5000</th>\n",
       "      <td>6</td>\n",
       "    </tr>\n",
       "  </tbody>\n",
       "</table>\n",
       "</div>"
      ],
      "text/plain": [
       "                                                    Do you pay your tax?\n",
       "What is your steady/constant income range in a ...                      \n",
       "11,000 – 20,000                                                        8\n",
       "110,000 – 200,000                                                     35\n",
       "201,000 – 300,000                                                     20\n",
       "21,000 – 50,000                                                       42\n",
       "301,000 – 500,000                                                      9\n",
       "500,000 – above                                                        4\n",
       "5000 – 10,000                                                          3\n",
       "51,000 – 80,000                                                       21\n",
       "81,000 – 100,000                                                      28\n",
       "Below 5000                                                             6"
      ]
     },
     "execution_count": 37,
     "metadata": {},
     "output_type": "execute_result"
    }
   ],
   "source": [
    "\n",
    "paytaxes_grouped"
   ]
  },
  {
   "cell_type": "code",
   "execution_count": 38,
   "metadata": {},
   "outputs": [
    {
     "data": {
      "text/html": [
       "<div>\n",
       "<style scoped>\n",
       "    .dataframe tbody tr th:only-of-type {\n",
       "        vertical-align: middle;\n",
       "    }\n",
       "\n",
       "    .dataframe tbody tr th {\n",
       "        vertical-align: top;\n",
       "    }\n",
       "\n",
       "    .dataframe thead th {\n",
       "        text-align: right;\n",
       "    }\n",
       "</style>\n",
       "<table border=\"1\" class=\"dataframe\">\n",
       "  <thead>\n",
       "    <tr style=\"text-align: right;\">\n",
       "      <th></th>\n",
       "      <th>Do you pay your tax?</th>\n",
       "    </tr>\n",
       "    <tr>\n",
       "      <th>What is your steady/constant income range in a month?</th>\n",
       "      <th></th>\n",
       "    </tr>\n",
       "  </thead>\n",
       "  <tbody>\n",
       "    <tr>\n",
       "      <th>11,000 – 20,000</th>\n",
       "      <td>21</td>\n",
       "    </tr>\n",
       "    <tr>\n",
       "      <th>110,000 – 200,000</th>\n",
       "      <td>2</td>\n",
       "    </tr>\n",
       "    <tr>\n",
       "      <th>201,000 – 300,000</th>\n",
       "      <td>3</td>\n",
       "    </tr>\n",
       "    <tr>\n",
       "      <th>21,000 – 50,000</th>\n",
       "      <td>40</td>\n",
       "    </tr>\n",
       "    <tr>\n",
       "      <th>500,000 – above</th>\n",
       "      <td>4</td>\n",
       "    </tr>\n",
       "    <tr>\n",
       "      <th>5000 – 10,000</th>\n",
       "      <td>15</td>\n",
       "    </tr>\n",
       "    <tr>\n",
       "      <th>51,000 – 80,000</th>\n",
       "      <td>12</td>\n",
       "    </tr>\n",
       "    <tr>\n",
       "      <th>81,000 – 100,000</th>\n",
       "      <td>7</td>\n",
       "    </tr>\n",
       "    <tr>\n",
       "      <th>Below 5000</th>\n",
       "      <td>23</td>\n",
       "    </tr>\n",
       "  </tbody>\n",
       "</table>\n",
       "</div>"
      ],
      "text/plain": [
       "                                                    Do you pay your tax?\n",
       "What is your steady/constant income range in a ...                      \n",
       "11,000 – 20,000                                                       21\n",
       "110,000 – 200,000                                                      2\n",
       "201,000 – 300,000                                                      3\n",
       "21,000 – 50,000                                                       40\n",
       "500,000 – above                                                        4\n",
       "5000 – 10,000                                                         15\n",
       "51,000 – 80,000                                                       12\n",
       "81,000 – 100,000                                                       7\n",
       "Below 5000                                                            23"
      ]
     },
     "execution_count": 38,
     "metadata": {},
     "output_type": "execute_result"
    }
   ],
   "source": [
    "notpaytaxes_grouped"
   ]
  },
  {
   "cell_type": "code",
   "execution_count": 39,
   "metadata": {},
   "outputs": [
    {
     "data": {
      "text/html": [
       "<div>\n",
       "<style scoped>\n",
       "    .dataframe tbody tr th:only-of-type {\n",
       "        vertical-align: middle;\n",
       "    }\n",
       "\n",
       "    .dataframe tbody tr th {\n",
       "        vertical-align: top;\n",
       "    }\n",
       "\n",
       "    .dataframe thead th {\n",
       "        text-align: right;\n",
       "    }\n",
       "</style>\n",
       "<table border=\"1\" class=\"dataframe\">\n",
       "  <thead>\n",
       "    <tr style=\"text-align: right;\">\n",
       "      <th></th>\n",
       "      <th>Do you pay your tax?</th>\n",
       "    </tr>\n",
       "    <tr>\n",
       "      <th>What is your steady/constant income range in a month?</th>\n",
       "      <th></th>\n",
       "    </tr>\n",
       "  </thead>\n",
       "  <tbody>\n",
       "    <tr>\n",
       "      <th>11,000 – 20,000</th>\n",
       "      <td>21</td>\n",
       "    </tr>\n",
       "    <tr>\n",
       "      <th>110,000 – 200,000</th>\n",
       "      <td>2</td>\n",
       "    </tr>\n",
       "    <tr>\n",
       "      <th>201,000 – 300,000</th>\n",
       "      <td>3</td>\n",
       "    </tr>\n",
       "    <tr>\n",
       "      <th>21,000 – 50,000</th>\n",
       "      <td>40</td>\n",
       "    </tr>\n",
       "    <tr>\n",
       "      <th>500,000 – above</th>\n",
       "      <td>4</td>\n",
       "    </tr>\n",
       "    <tr>\n",
       "      <th>5000 – 10,000</th>\n",
       "      <td>15</td>\n",
       "    </tr>\n",
       "    <tr>\n",
       "      <th>51,000 – 80,000</th>\n",
       "      <td>12</td>\n",
       "    </tr>\n",
       "    <tr>\n",
       "      <th>81,000 – 100,000</th>\n",
       "      <td>7</td>\n",
       "    </tr>\n",
       "    <tr>\n",
       "      <th>Below 5000</th>\n",
       "      <td>23</td>\n",
       "    </tr>\n",
       "    <tr>\n",
       "      <th>301,000 - 500,000</th>\n",
       "      <td>0</td>\n",
       "    </tr>\n",
       "  </tbody>\n",
       "</table>\n",
       "</div>"
      ],
      "text/plain": [
       "                                                    Do you pay your tax?\n",
       "What is your steady/constant income range in a ...                      \n",
       "11,000 – 20,000                                                       21\n",
       "110,000 – 200,000                                                      2\n",
       "201,000 – 300,000                                                      3\n",
       "21,000 – 50,000                                                       40\n",
       "500,000 – above                                                        4\n",
       "5000 – 10,000                                                         15\n",
       "51,000 – 80,000                                                       12\n",
       "81,000 – 100,000                                                       7\n",
       "Below 5000                                                            23\n",
       "301,000 - 500,000                                                      0"
      ]
     },
     "execution_count": 39,
     "metadata": {},
     "output_type": "execute_result"
    }
   ],
   "source": [
    "notpaytaxes_grouped.loc['301,000 - 500,000'] = 0\n",
    "notpaytaxes_grouped"
   ]
  },
  {
   "cell_type": "code",
   "execution_count": 41,
   "metadata": {},
   "outputs": [
    {
     "data": {
      "text/plain": [
       "Do you pay your tax?    303.0\n",
       "dtype: float64"
      ]
     },
     "execution_count": 41,
     "metadata": {},
     "output_type": "execute_result"
    }
   ],
   "source": [
    "notpaytaxes_grouped.sum() + paytaxes_grouped.sum()"
   ]
  },
  {
   "cell_type": "code",
   "execution_count": 40,
   "metadata": {},
   "outputs": [],
   "source": [
    "paytaxes_grouped = paytaxes_grouped.reindex(['Below 5000', '5000 – 10,000', '11,000 – 20,000', '21,000 – 50,000', '51,000 – 80,000',\n",
    "                                           '81,000 – 100,000', '110,000 – 200,000','201,000 – 300,000',\n",
    "                                           '301,000 – 500,000', '500,000 – above'])\n",
    "\n",
    "notpaytaxes_grouped = notpaytaxes_grouped.reindex(['Below 5000', '5000 – 10,000', '11,000 – 20,000', '21,000 – 50,000', '51,000 – 80,000',\n",
    "                                           '81,000 – 100,000', '110,000 – 200,000','201,000 – 300,000',\n",
    "                                           '301,000 – 500,000', '500,000 – above'])"
   ]
  },
  {
   "cell_type": "code",
   "execution_count": 42,
   "metadata": {},
   "outputs": [],
   "source": [
    "paytaxes_array = np.asarray(paytaxes_grouped['Do you pay your tax?'])\n",
    "notpaytaxes_array = np.asarray(notpaytaxes_grouped['Do you pay your tax?'])"
   ]
  },
  {
   "cell_type": "code",
   "execution_count": 43,
   "metadata": {},
   "outputs": [
    {
     "data": {
      "image/png": "[encoded data removed]",
      "text/plain": [
       "<Figure size 432x288 with 1 Axes>"
      ]
     },
     "metadata": {
      "needs_background": "light"
     },
     "output_type": "display_data"
    }
   ],
   "source": [
    "n_groups = 10 \n",
    "fig, ax = plt.subplots()\n",
    "index = np.arange(n_groups)\n",
    "bar_width = 0.35\n",
    "alpha = 0.8\n",
    "\n",
    "pay_bar = plt.barh(index, paytaxes_array, bar_width, color = 'b', alpha = alpha, label = 'Pay Taxes')\n",
    "not_pay = plt.barh(index + bar_width, notpaytaxes_array, bar_width, color = 'g', alpha = alpha, label = 'Do Not Pay Taxes')\n",
    "\n",
    "plt.xlabel('Number of People')\n",
    "plt.ylabel('Salary Range')\n",
    "plt.title('If taxes are paid across salary ranges')\n",
    "plt.yticks(index + bar_width, ('Below 5000', '5000 – 10,000', '11,000 – 20,000', '21,000 – 50,000', '51,000 – 80,000','81,000 – 100,000', \n",
    "                               '110,000 – 200,000','201,000 – 300,000','301,000 – 500,000', '500,000 – above'))\n",
    "plt.legend()\n",
    "plt.tight_layout()"
   ]
  },
  {
   "cell_type": "code",
   "execution_count": 44,
   "metadata": {},
   "outputs": [
    {
     "data": {
      "text/plain": [
       "58.085808580858085"
      ]
     },
     "execution_count": 44,
     "metadata": {},
     "output_type": "execute_result"
    }
   ],
   "source": [
    "tax_payers =100 * paytaxes_array.sum() / 303\n",
    "tax_payers"
   ]
  },
  {
   "cell_type": "markdown",
   "metadata": {},
   "source": [
    "## OBSERVATION \n",
    "58% of the sample size pay tax"
   ]
  },
  {
   "cell_type": "code",
   "execution_count": 45,
   "metadata": {},
   "outputs": [
    {
     "data": {
      "text/plain": [
       "Are you a Nigerian?                                                                    object\n",
       "Gender                                                                                 object\n",
       "Age Group                                                                              object\n",
       "Are you married?                                                                       object\n",
       "Do you have kids?                                                                      object\n",
       "Where do you live?                                                                     object\n",
       "What part of your state do you live in?                                                object\n",
       "Occupation                                                                             object\n",
       "Are you Happy with your job?                                                           object\n",
       "Is this your primary source of income?                                                 object\n",
       "What is your steady/constant income range in a month?                                  object\n",
       "Do you think it is enough for you and your family?                                     object\n",
       "What are your other sources of income?                                                 object\n",
       "Do you pay your tax?                                                                   object\n",
       "What is your largest form of expense                                                   object\n",
       "If there was one thing you really wanted to own, what would that be?                   object\n",
       "How much do you think you earn from all other sources of income in a month            float64\n",
       "On an average, how much do you think you spend in a month?                              int64\n",
       "Do you think Nigeria can get better?                                                   object\n",
       "In a short sentence, describe your government                                          object\n",
       "Please fill your email if you want to be notified once this research is completed.     object\n",
       "dtype: object"
      ]
     },
     "execution_count": 45,
     "metadata": {},
     "output_type": "execute_result"
    }
   ],
   "source": [
    "data.dtypes\n"
   ]
  },
  {
   "cell_type": "code",
   "execution_count": 46,
   "metadata": {},
   "outputs": [
    {
     "data": {
      "text/plain": [
       "array(['Below 5000', '11,000 – 20,000', '110,000 – 200,000',\n",
       "       '201,000 – 300,000', '51,000 – 80,000', '21,000 – 50,000',\n",
       "       '81,000 – 100,000', '5000 – 10,000', '500,000 – above',\n",
       "       '301,000 – 500,000'], dtype=object)"
      ]
     },
     "execution_count": 46,
     "metadata": {},
     "output_type": "execute_result"
    }
   ],
   "source": [
    "data['What is your steady/constant income range in a month?'].unique()"
   ]
  },
  {
   "cell_type": "code",
   "execution_count": 47,
   "metadata": {},
   "outputs": [
    {
     "data": {
      "text/plain": [
       "array(['0 – 5000', '11,000 – 20,000', '110,000 – 200,000',\n",
       "       '201,000 – 300,000', '51,000 – 80,000', '21,000 – 50,000',\n",
       "       '81,000 – 100,000', '5000 – 10,000', '500,000 – 1000000',\n",
       "       '301,000 – 500,000'], dtype=object)"
      ]
     },
     "execution_count": 47,
     "metadata": {},
     "output_type": "execute_result"
    }
   ],
   "source": [
    "data = data.replace({'Below 5000' : '0 – 5000', '500,000 – above' : '500,000 – 1000000' })\n",
    "data['What is your steady/constant income range in a month?'].unique()"
   ]
  },
  {
   "cell_type": "code",
   "execution_count": 49,
   "metadata": {},
   "outputs": [],
   "source": [
    "#Finding the average \n",
    "income = pd.DataFrame(columns = ['lowerlimit', 'upperlimit']) \n",
    "income[['lowerlimit', 'upperlimit']] = data['What is your steady/constant income range in a month?'].str.split(' – ', expand = True)"
   ]
  },
  {
   "cell_type": "code",
   "execution_count": 50,
   "metadata": {},
   "outputs": [
    {
     "data": {
      "text/html": [
       "<div>\n",
       "<style scoped>\n",
       "    .dataframe tbody tr th:only-of-type {\n",
       "        vertical-align: middle;\n",
       "    }\n",
       "\n",
       "    .dataframe tbody tr th {\n",
       "        vertical-align: top;\n",
       "    }\n",
       "\n",
       "    .dataframe thead th {\n",
       "        text-align: right;\n",
       "    }\n",
       "</style>\n",
       "<table border=\"1\" class=\"dataframe\">\n",
       "  <thead>\n",
       "    <tr style=\"text-align: right;\">\n",
       "      <th></th>\n",
       "      <th>lowerlimit</th>\n",
       "      <th>upperlimit</th>\n",
       "    </tr>\n",
       "  </thead>\n",
       "  <tbody>\n",
       "    <tr>\n",
       "      <th>0</th>\n",
       "      <td>0</td>\n",
       "      <td>5000</td>\n",
       "    </tr>\n",
       "    <tr>\n",
       "      <th>1</th>\n",
       "      <td>11,000</td>\n",
       "      <td>20,000</td>\n",
       "    </tr>\n",
       "    <tr>\n",
       "      <th>2</th>\n",
       "      <td>110,000</td>\n",
       "      <td>200,000</td>\n",
       "    </tr>\n",
       "    <tr>\n",
       "      <th>3</th>\n",
       "      <td>201,000</td>\n",
       "      <td>300,000</td>\n",
       "    </tr>\n",
       "    <tr>\n",
       "      <th>4</th>\n",
       "      <td>110,000</td>\n",
       "      <td>200,000</td>\n",
       "    </tr>\n",
       "  </tbody>\n",
       "</table>\n",
       "</div>"
      ],
      "text/plain": [
       "  lowerlimit upperlimit\n",
       "0          0       5000\n",
       "1     11,000     20,000\n",
       "2    110,000    200,000\n",
       "3    201,000    300,000\n",
       "4    110,000    200,000"
      ]
     },
     "execution_count": 50,
     "metadata": {},
     "output_type": "execute_result"
    }
   ],
   "source": [
    "income.head()"
   ]
  },
  {
   "cell_type": "code",
   "execution_count": 51,
   "metadata": {},
   "outputs": [],
   "source": [
    "#Split the values at '-'\n",
    "income['lowerlimit'] = income['lowerlimit'].str.replace(',', '')\n",
    "income['upperlimit'] = income['upperlimit'].str.replace(',', '')"
   ]
  },
  {
   "cell_type": "code",
   "execution_count": 52,
   "metadata": {},
   "outputs": [],
   "source": [
    "income = income.astype(int)"
   ]
  },
  {
   "cell_type": "code",
   "execution_count": 53,
   "metadata": {},
   "outputs": [
    {
     "data": {
      "text/html": [
       "<div>\n",
       "<style scoped>\n",
       "    .dataframe tbody tr th:only-of-type {\n",
       "        vertical-align: middle;\n",
       "    }\n",
       "\n",
       "    .dataframe tbody tr th {\n",
       "        vertical-align: top;\n",
       "    }\n",
       "\n",
       "    .dataframe thead th {\n",
       "        text-align: right;\n",
       "    }\n",
       "</style>\n",
       "<table border=\"1\" class=\"dataframe\">\n",
       "  <thead>\n",
       "    <tr style=\"text-align: right;\">\n",
       "      <th></th>\n",
       "      <th>lowerlimit</th>\n",
       "      <th>upperlimit</th>\n",
       "      <th>average</th>\n",
       "    </tr>\n",
       "  </thead>\n",
       "  <tbody>\n",
       "    <tr>\n",
       "      <th>0</th>\n",
       "      <td>0</td>\n",
       "      <td>5000</td>\n",
       "      <td>2500.0</td>\n",
       "    </tr>\n",
       "    <tr>\n",
       "      <th>1</th>\n",
       "      <td>11000</td>\n",
       "      <td>20000</td>\n",
       "      <td>15500.0</td>\n",
       "    </tr>\n",
       "    <tr>\n",
       "      <th>2</th>\n",
       "      <td>110000</td>\n",
       "      <td>200000</td>\n",
       "      <td>155000.0</td>\n",
       "    </tr>\n",
       "    <tr>\n",
       "      <th>3</th>\n",
       "      <td>201000</td>\n",
       "      <td>300000</td>\n",
       "      <td>250500.0</td>\n",
       "    </tr>\n",
       "    <tr>\n",
       "      <th>4</th>\n",
       "      <td>110000</td>\n",
       "      <td>200000</td>\n",
       "      <td>155000.0</td>\n",
       "    </tr>\n",
       "  </tbody>\n",
       "</table>\n",
       "</div>"
      ],
      "text/plain": [
       "   lowerlimit  upperlimit   average\n",
       "0           0        5000    2500.0\n",
       "1       11000       20000   15500.0\n",
       "2      110000      200000  155000.0\n",
       "3      201000      300000  250500.0\n",
       "4      110000      200000  155000.0"
      ]
     },
     "execution_count": 53,
     "metadata": {},
     "output_type": "execute_result"
    }
   ],
   "source": [
    "income['average'] = (income['lowerlimit'] + income['upperlimit'])/ 2\n",
    "income.head()"
   ]
  },
  {
   "cell_type": "code",
   "execution_count": 54,
   "metadata": {},
   "outputs": [
    {
     "data": {
      "text/plain": [
       "Are you a Nigerian?                                                                    object\n",
       "Gender                                                                                 object\n",
       "Age Group                                                                              object\n",
       "Are you married?                                                                       object\n",
       "Do you have kids?                                                                      object\n",
       "Where do you live?                                                                     object\n",
       "What part of your state do you live in?                                                object\n",
       "Occupation                                                                             object\n",
       "Are you Happy with your job?                                                           object\n",
       "Is this your primary source of income?                                                 object\n",
       "What is your steady/constant income range in a month?                                  object\n",
       "Do you think it is enough for you and your family?                                     object\n",
       "What are your other sources of income?                                                 object\n",
       "Do you pay your tax?                                                                   object\n",
       "What is your largest form of expense                                                   object\n",
       "If there was one thing you really wanted to own, what would that be?                   object\n",
       "How much do you think you earn from all other sources of income in a month            float64\n",
       "On an average, how much do you think you spend in a month?                              int64\n",
       "Do you think Nigeria can get better?                                                   object\n",
       "In a short sentence, describe your government                                          object\n",
       "Please fill your email if you want to be notified once this research is completed.     object\n",
       "Average Income                                                                        float64\n",
       "dtype: object"
      ]
     },
     "execution_count": 54,
     "metadata": {},
     "output_type": "execute_result"
    }
   ],
   "source": [
    "data['Average Income'] = income['average']\n",
    "data.dtypes"
   ]
  },
  {
   "cell_type": "code",
   "execution_count": 55,
   "metadata": {},
   "outputs": [
    {
     "data": {
      "text/plain": [
       "Are you a Nigerian?                                                                    object\n",
       "Gender                                                                                 object\n",
       "Age Group                                                                              object\n",
       "Are you married?                                                                       object\n",
       "Do you have kids?                                                                      object\n",
       "Where do you live?                                                                     object\n",
       "What part of your state do you live in?                                                object\n",
       "Occupation                                                                             object\n",
       "Are you Happy with your job?                                                           object\n",
       "Is this your primary source of income?                                                 object\n",
       "What is your steady/constant income range in a month?                                  object\n",
       "Do you think it is enough for you and your family?                                     object\n",
       "What are your other sources of income?                                                 object\n",
       "Do you pay your tax?                                                                   object\n",
       "What is your largest form of expense                                                   object\n",
       "If there was one thing you really wanted to own, what would that be?                   object\n",
       "How much do you think you earn from all other sources of income in a month            float64\n",
       "On an average, how much do you think you spend in a month?                              int64\n",
       "Do you think Nigeria can get better?                                                   object\n",
       "In a short sentence, describe your government                                          object\n",
       "Please fill your email if you want to be notified once this research is completed.     object\n",
       "Average Income                                                                        float64\n",
       "Total Income                                                                          float64\n",
       "dtype: object"
      ]
     },
     "execution_count": 55,
     "metadata": {},
     "output_type": "execute_result"
    }
   ],
   "source": [
    "data['Total Income'] = data['Average Income'] + data['How much do you think you earn from all other sources of income in a month']\n",
    "data.dtypes"
   ]
  },
  {
   "cell_type": "code",
   "execution_count": 56,
   "metadata": {},
   "outputs": [],
   "source": [
    "data['Money to save'] = data['Total Income'] - data['On an average, how much do you think you spend in a month?']"
   ]
  },
  {
   "cell_type": "code",
   "execution_count": 57,
   "metadata": {},
   "outputs": [
    {
     "data": {
      "text/plain": [
       "Are you a Nigerian?                                                                    object\n",
       "Gender                                                                                 object\n",
       "Age Group                                                                              object\n",
       "Are you married?                                                                       object\n",
       "Do you have kids?                                                                      object\n",
       "Where do you live?                                                                     object\n",
       "What part of your state do you live in?                                                object\n",
       "Occupation                                                                             object\n",
       "Are you Happy with your job?                                                           object\n",
       "Is this your primary source of income?                                                 object\n",
       "What is your steady/constant income range in a month?                                  object\n",
       "Do you think it is enough for you and your family?                                     object\n",
       "What are your other sources of income?                                                 object\n",
       "Do you pay your tax?                                                                   object\n",
       "What is your largest form of expense                                                   object\n",
       "If there was one thing you really wanted to own, what would that be?                   object\n",
       "How much do you think you earn from all other sources of income in a month            float64\n",
       "On an average, how much do you think you spend in a month?                              int64\n",
       "Do you think Nigeria can get better?                                                   object\n",
       "In a short sentence, describe your government                                          object\n",
       "Please fill your email if you want to be notified once this research is completed.     object\n",
       "Average Income                                                                        float64\n",
       "Total Income                                                                          float64\n",
       "Money to save                                                                         float64\n",
       "dtype: object"
      ]
     },
     "execution_count": 57,
     "metadata": {},
     "output_type": "execute_result"
    }
   ],
   "source": [
    "data.dtypes"
   ]
  },
  {
   "cell_type": "code",
   "execution_count": 58,
   "metadata": {},
   "outputs": [
    {
     "data": {
      "text/html": [
       "<div>\n",
       "<style scoped>\n",
       "    .dataframe tbody tr th:only-of-type {\n",
       "        vertical-align: middle;\n",
       "    }\n",
       "\n",
       "    .dataframe tbody tr th {\n",
       "        vertical-align: top;\n",
       "    }\n",
       "\n",
       "    .dataframe thead th {\n",
       "        text-align: right;\n",
       "    }\n",
       "</style>\n",
       "<table border=\"1\" class=\"dataframe\">\n",
       "  <thead>\n",
       "    <tr style=\"text-align: right;\">\n",
       "      <th></th>\n",
       "      <th>What is your steady/constant income range in a month?</th>\n",
       "      <th>Total Income</th>\n",
       "      <th>Money to save</th>\n",
       "    </tr>\n",
       "  </thead>\n",
       "  <tbody>\n",
       "    <tr>\n",
       "      <th>0</th>\n",
       "      <td>0 – 5000</td>\n",
       "      <td>NaN</td>\n",
       "      <td>NaN</td>\n",
       "    </tr>\n",
       "    <tr>\n",
       "      <th>1</th>\n",
       "      <td>11,000 – 20,000</td>\n",
       "      <td>33500.0</td>\n",
       "      <td>13500.0</td>\n",
       "    </tr>\n",
       "    <tr>\n",
       "      <th>2</th>\n",
       "      <td>110,000 – 200,000</td>\n",
       "      <td>195000.0</td>\n",
       "      <td>55000.0</td>\n",
       "    </tr>\n",
       "    <tr>\n",
       "      <th>3</th>\n",
       "      <td>201,000 – 300,000</td>\n",
       "      <td>750500.0</td>\n",
       "      <td>650500.0</td>\n",
       "    </tr>\n",
       "    <tr>\n",
       "      <th>4</th>\n",
       "      <td>110,000 – 200,000</td>\n",
       "      <td>155000.0</td>\n",
       "      <td>95000.0</td>\n",
       "    </tr>\n",
       "    <tr>\n",
       "      <th>5</th>\n",
       "      <td>51,000 – 80,000</td>\n",
       "      <td>165500.0</td>\n",
       "      <td>115500.0</td>\n",
       "    </tr>\n",
       "    <tr>\n",
       "      <th>6</th>\n",
       "      <td>201,000 – 300,000</td>\n",
       "      <td>252500.0</td>\n",
       "      <td>102500.0</td>\n",
       "    </tr>\n",
       "    <tr>\n",
       "      <th>7</th>\n",
       "      <td>11,000 – 20,000</td>\n",
       "      <td>16500.0</td>\n",
       "      <td>-3500.0</td>\n",
       "    </tr>\n",
       "    <tr>\n",
       "      <th>8</th>\n",
       "      <td>21,000 – 50,000</td>\n",
       "      <td>85500.0</td>\n",
       "      <td>55500.0</td>\n",
       "    </tr>\n",
       "    <tr>\n",
       "      <th>9</th>\n",
       "      <td>81,000 – 100,000</td>\n",
       "      <td>240500.0</td>\n",
       "      <td>200500.0</td>\n",
       "    </tr>\n",
       "  </tbody>\n",
       "</table>\n",
       "</div>"
      ],
      "text/plain": [
       "  What is your steady/constant income range in a month?  Total Income  \\\n",
       "0                                           0 – 5000              NaN   \n",
       "1                                    11,000 – 20,000          33500.0   \n",
       "2                                  110,000 – 200,000         195000.0   \n",
       "3                                  201,000 – 300,000         750500.0   \n",
       "4                                  110,000 – 200,000         155000.0   \n",
       "5                                    51,000 – 80,000         165500.0   \n",
       "6                                  201,000 – 300,000         252500.0   \n",
       "7                                    11,000 – 20,000          16500.0   \n",
       "8                                    21,000 – 50,000          85500.0   \n",
       "9                                   81,000 – 100,000         240500.0   \n",
       "\n",
       "   Money to save  \n",
       "0            NaN  \n",
       "1        13500.0  \n",
       "2        55000.0  \n",
       "3       650500.0  \n",
       "4        95000.0  \n",
       "5       115500.0  \n",
       "6       102500.0  \n",
       "7        -3500.0  \n",
       "8        55500.0  \n",
       "9       200500.0  "
      ]
     },
     "execution_count": 58,
     "metadata": {},
     "output_type": "execute_result"
    }
   ],
   "source": [
    "Money_matter = data[['What is your steady/constant income range in a month?', 'Total Income', 'Money to save']]\n",
    "Money_matter.head(10)"
   ]
  },
  {
   "cell_type": "code",
   "execution_count": 59,
   "metadata": {},
   "outputs": [
    {
     "data": {
      "text/plain": [
       "What is your steady/constant income range in a month?\n",
       "0 – 5000            -7.340250e+03\n",
       "5000 – 10,000        5.804444e+03\n",
       "11,000 – 20,000      1.239638e+04\n",
       "21,000 – 50,000      1.219853e+08\n",
       "51,000 – 80,000      7.342152e+04\n",
       "81,000 – 100,000     5.035571e+04\n",
       "110,000 – 200,000    1.117705e+05\n",
       "201,000 – 300,000    2.437608e+05\n",
       "301,000 – 500,000    3.871500e+05\n",
       "500,000 – 1000000   -4.999198e+09\n",
       "Name: Money to save, dtype: float64"
      ]
     },
     "execution_count": 59,
     "metadata": {},
     "output_type": "execute_result"
    }
   ],
   "source": [
    "Savings_grouped = Money_matter.groupby('What is your steady/constant income range in a month?')['Money to save'].mean()\n",
    "Savings_grouped = Savings_grouped.reindex(['0 – 5000', '5000 – 10,000', '11,000 – 20,000', '21,000 – 50,000', '51,000 – 80,000',\n",
    "                         '81,000 – 100,000','110,000 – 200,000','201,000 – 300,000','301,000 – 500,000', '500,000 – 1000000'])\n",
    "Savings_grouped"
   ]
  },
  {
   "cell_type": "markdown",
   "metadata": {},
   "source": [
    "The 500,000 - 1,000,000 group has irregularities due to its insane high value. So i check all the samples that earn above half a million "
   ]
  },
  {
   "cell_type": "code",
   "execution_count": 60,
   "metadata": {},
   "outputs": [
    {
     "data": {
      "text/html": [
       "<div>\n",
       "<style scoped>\n",
       "    .dataframe tbody tr th:only-of-type {\n",
       "        vertical-align: middle;\n",
       "    }\n",
       "\n",
       "    .dataframe tbody tr th {\n",
       "        vertical-align: top;\n",
       "    }\n",
       "\n",
       "    .dataframe thead th {\n",
       "        text-align: right;\n",
       "    }\n",
       "</style>\n",
       "<table border=\"1\" class=\"dataframe\">\n",
       "  <thead>\n",
       "    <tr style=\"text-align: right;\">\n",
       "      <th></th>\n",
       "      <th>What is your steady/constant income range in a month?</th>\n",
       "      <th>Total Income</th>\n",
       "      <th>Money to save</th>\n",
       "    </tr>\n",
       "  </thead>\n",
       "  <tbody>\n",
       "    <tr>\n",
       "      <th>43</th>\n",
       "      <td>500,000 – 1000000</td>\n",
       "      <td>1.400000e+06</td>\n",
       "      <td>9.500000e+05</td>\n",
       "    </tr>\n",
       "    <tr>\n",
       "      <th>45</th>\n",
       "      <td>500,000 – 1000000</td>\n",
       "      <td>7.500000e+05</td>\n",
       "      <td>4.500000e+05</td>\n",
       "    </tr>\n",
       "    <tr>\n",
       "      <th>61</th>\n",
       "      <td>500,000 – 1000000</td>\n",
       "      <td>7.700000e+05</td>\n",
       "      <td>3.700000e+05</td>\n",
       "    </tr>\n",
       "    <tr>\n",
       "      <th>82</th>\n",
       "      <td>500,000 – 1000000</td>\n",
       "      <td>1.450000e+06</td>\n",
       "      <td>1.250000e+06</td>\n",
       "    </tr>\n",
       "    <tr>\n",
       "      <th>134</th>\n",
       "      <td>500,000 – 1000000</td>\n",
       "      <td>1.300000e+06</td>\n",
       "      <td>1.050000e+06</td>\n",
       "    </tr>\n",
       "    <tr>\n",
       "      <th>179</th>\n",
       "      <td>500,000 – 1000000</td>\n",
       "      <td>1.250000e+06</td>\n",
       "      <td>1.050000e+06</td>\n",
       "    </tr>\n",
       "    <tr>\n",
       "      <th>225</th>\n",
       "      <td>500,000 – 1000000</td>\n",
       "      <td>1.000075e+10</td>\n",
       "      <td>-3.999925e+10</td>\n",
       "    </tr>\n",
       "    <tr>\n",
       "      <th>283</th>\n",
       "      <td>500,000 – 1000000</td>\n",
       "      <td>8.500000e+05</td>\n",
       "      <td>5.500000e+05</td>\n",
       "    </tr>\n",
       "  </tbody>\n",
       "</table>\n",
       "</div>"
      ],
      "text/plain": [
       "    What is your steady/constant income range in a month?  Total Income  \\\n",
       "43                                   500,000 – 1000000     1.400000e+06   \n",
       "45                                   500,000 – 1000000     7.500000e+05   \n",
       "61                                   500,000 – 1000000     7.700000e+05   \n",
       "82                                   500,000 – 1000000     1.450000e+06   \n",
       "134                                  500,000 – 1000000     1.300000e+06   \n",
       "179                                  500,000 – 1000000     1.250000e+06   \n",
       "225                                  500,000 – 1000000     1.000075e+10   \n",
       "283                                  500,000 – 1000000     8.500000e+05   \n",
       "\n",
       "     Money to save  \n",
       "43    9.500000e+05  \n",
       "45    4.500000e+05  \n",
       "61    3.700000e+05  \n",
       "82    1.250000e+06  \n",
       "134   1.050000e+06  \n",
       "179   1.050000e+06  \n",
       "225  -3.999925e+10  \n",
       "283   5.500000e+05  "
      ]
     },
     "execution_count": 60,
     "metadata": {},
     "output_type": "execute_result"
    }
   ],
   "source": [
    "Money_matter[Money_matter['What is your steady/constant income range in a month?'] == '500,000 – 1000000']"
   ]
  },
  {
   "cell_type": "code",
   "execution_count": 61,
   "metadata": {},
   "outputs": [
    {
     "data": {
      "text/html": [
       "<div>\n",
       "<style scoped>\n",
       "    .dataframe tbody tr th:only-of-type {\n",
       "        vertical-align: middle;\n",
       "    }\n",
       "\n",
       "    .dataframe tbody tr th {\n",
       "        vertical-align: top;\n",
       "    }\n",
       "\n",
       "    .dataframe thead th {\n",
       "        text-align: right;\n",
       "    }\n",
       "</style>\n",
       "<table border=\"1\" class=\"dataframe\">\n",
       "  <thead>\n",
       "    <tr style=\"text-align: right;\">\n",
       "      <th></th>\n",
       "      <th>What is your steady/constant income range in a month?</th>\n",
       "      <th>Total Income</th>\n",
       "      <th>On an average, how much do you think you spend in a month?</th>\n",
       "      <th>Money to save</th>\n",
       "    </tr>\n",
       "  </thead>\n",
       "  <tbody>\n",
       "    <tr>\n",
       "      <th>225</th>\n",
       "      <td>500,000 – 1000000</td>\n",
       "      <td>1.000075e+10</td>\n",
       "      <td>50000000000</td>\n",
       "      <td>-3.999925e+10</td>\n",
       "    </tr>\n",
       "  </tbody>\n",
       "</table>\n",
       "</div>"
      ],
      "text/plain": [
       "    What is your steady/constant income range in a month?  Total Income  \\\n",
       "225                                  500,000 – 1000000     1.000075e+10   \n",
       "\n",
       "     On an average, how much do you think you spend in a month?  Money to save  \n",
       "225                                        50000000000           -3.999925e+10  "
      ]
     },
     "execution_count": 61,
     "metadata": {},
     "output_type": "execute_result"
    }
   ],
   "source": [
    "#Index 225 seems illogical\n",
    "z = data[['What is your steady/constant income range in a month?', 'Total Income',\n",
    "      'On an average, how much do you think you spend in a month?','Money to save']]\n",
    "z[225:226]"
   ]
  },
  {
   "cell_type": "code",
   "execution_count": 62,
   "metadata": {},
   "outputs": [
    {
     "name": "stderr",
     "output_type": "stream",
     "text": [
      "C:\\Users\\damia\\Anaconda3\\lib\\site-packages\\pandas\\core\\frame.py:3697: SettingWithCopyWarning: \n",
      "A value is trying to be set on a copy of a slice from a DataFrame\n",
      "\n",
      "See the caveats in the documentation: http://pandas.pydata.org/pandas-docs/stable/indexing.html#indexing-view-versus-copy\n",
      "  errors=errors)\n"
     ]
    }
   ],
   "source": [
    "Money_matter.drop(225, axis = 0, inplace = True)"
   ]
  },
  {
   "cell_type": "code",
   "execution_count": 63,
   "metadata": {},
   "outputs": [
    {
     "data": {
      "text/html": [
       "<div>\n",
       "<style scoped>\n",
       "    .dataframe tbody tr th:only-of-type {\n",
       "        vertical-align: middle;\n",
       "    }\n",
       "\n",
       "    .dataframe tbody tr th {\n",
       "        vertical-align: top;\n",
       "    }\n",
       "\n",
       "    .dataframe thead th {\n",
       "        text-align: right;\n",
       "    }\n",
       "</style>\n",
       "<table border=\"1\" class=\"dataframe\">\n",
       "  <thead>\n",
       "    <tr style=\"text-align: right;\">\n",
       "      <th></th>\n",
       "      <th>What is your steady/constant income range in a month?</th>\n",
       "      <th>Total Income</th>\n",
       "      <th>Money to save</th>\n",
       "    </tr>\n",
       "  </thead>\n",
       "  <tbody>\n",
       "    <tr>\n",
       "      <th>43</th>\n",
       "      <td>500,000 – 1000000</td>\n",
       "      <td>1400000.0</td>\n",
       "      <td>950000.0</td>\n",
       "    </tr>\n",
       "    <tr>\n",
       "      <th>45</th>\n",
       "      <td>500,000 – 1000000</td>\n",
       "      <td>750000.0</td>\n",
       "      <td>450000.0</td>\n",
       "    </tr>\n",
       "    <tr>\n",
       "      <th>61</th>\n",
       "      <td>500,000 – 1000000</td>\n",
       "      <td>770000.0</td>\n",
       "      <td>370000.0</td>\n",
       "    </tr>\n",
       "    <tr>\n",
       "      <th>82</th>\n",
       "      <td>500,000 – 1000000</td>\n",
       "      <td>1450000.0</td>\n",
       "      <td>1250000.0</td>\n",
       "    </tr>\n",
       "    <tr>\n",
       "      <th>134</th>\n",
       "      <td>500,000 – 1000000</td>\n",
       "      <td>1300000.0</td>\n",
       "      <td>1050000.0</td>\n",
       "    </tr>\n",
       "    <tr>\n",
       "      <th>179</th>\n",
       "      <td>500,000 – 1000000</td>\n",
       "      <td>1250000.0</td>\n",
       "      <td>1050000.0</td>\n",
       "    </tr>\n",
       "    <tr>\n",
       "      <th>283</th>\n",
       "      <td>500,000 – 1000000</td>\n",
       "      <td>850000.0</td>\n",
       "      <td>550000.0</td>\n",
       "    </tr>\n",
       "  </tbody>\n",
       "</table>\n",
       "</div>"
      ],
      "text/plain": [
       "    What is your steady/constant income range in a month?  Total Income  \\\n",
       "43                                   500,000 – 1000000        1400000.0   \n",
       "45                                   500,000 – 1000000         750000.0   \n",
       "61                                   500,000 – 1000000         770000.0   \n",
       "82                                   500,000 – 1000000        1450000.0   \n",
       "134                                  500,000 – 1000000        1300000.0   \n",
       "179                                  500,000 – 1000000        1250000.0   \n",
       "283                                  500,000 – 1000000         850000.0   \n",
       "\n",
       "     Money to save  \n",
       "43        950000.0  \n",
       "45        450000.0  \n",
       "61        370000.0  \n",
       "82       1250000.0  \n",
       "134      1050000.0  \n",
       "179      1050000.0  \n",
       "283       550000.0  "
      ]
     },
     "execution_count": 63,
     "metadata": {},
     "output_type": "execute_result"
    }
   ],
   "source": [
    "Money_matter[Money_matter['What is your steady/constant income range in a month?'] == '500,000 – 1000000']"
   ]
  },
  {
   "cell_type": "code",
   "execution_count": 64,
   "metadata": {},
   "outputs": [
    {
     "data": {
      "text/html": [
       "<div>\n",
       "<style scoped>\n",
       "    .dataframe tbody tr th:only-of-type {\n",
       "        vertical-align: middle;\n",
       "    }\n",
       "\n",
       "    .dataframe tbody tr th {\n",
       "        vertical-align: top;\n",
       "    }\n",
       "\n",
       "    .dataframe thead th {\n",
       "        text-align: right;\n",
       "    }\n",
       "</style>\n",
       "<table border=\"1\" class=\"dataframe\">\n",
       "  <thead>\n",
       "    <tr style=\"text-align: right;\">\n",
       "      <th></th>\n",
       "      <th>What is your steady/constant income range in a month?</th>\n",
       "      <th>Total Income</th>\n",
       "      <th>Money to save</th>\n",
       "    </tr>\n",
       "  </thead>\n",
       "  <tbody>\n",
       "    <tr>\n",
       "      <th>0</th>\n",
       "      <td>0 – 5000</td>\n",
       "      <td>NaN</td>\n",
       "      <td>NaN</td>\n",
       "    </tr>\n",
       "    <tr>\n",
       "      <th>28</th>\n",
       "      <td>0 – 5000</td>\n",
       "      <td>5500.0</td>\n",
       "      <td>-14500.0</td>\n",
       "    </tr>\n",
       "    <tr>\n",
       "      <th>37</th>\n",
       "      <td>0 – 5000</td>\n",
       "      <td>12500.0</td>\n",
       "      <td>-17500.0</td>\n",
       "    </tr>\n",
       "    <tr>\n",
       "      <th>44</th>\n",
       "      <td>0 – 5000</td>\n",
       "      <td>7500.0</td>\n",
       "      <td>2500.0</td>\n",
       "    </tr>\n",
       "    <tr>\n",
       "      <th>52</th>\n",
       "      <td>0 – 5000</td>\n",
       "      <td>22500.0</td>\n",
       "      <td>7500.0</td>\n",
       "    </tr>\n",
       "    <tr>\n",
       "      <th>55</th>\n",
       "      <td>0 – 5000</td>\n",
       "      <td>2500.0</td>\n",
       "      <td>2475.0</td>\n",
       "    </tr>\n",
       "    <tr>\n",
       "      <th>69</th>\n",
       "      <td>0 – 5000</td>\n",
       "      <td>2500.0</td>\n",
       "      <td>-17500.0</td>\n",
       "    </tr>\n",
       "    <tr>\n",
       "      <th>73</th>\n",
       "      <td>0 – 5000</td>\n",
       "      <td>2500.0</td>\n",
       "      <td>-97500.0</td>\n",
       "    </tr>\n",
       "    <tr>\n",
       "      <th>91</th>\n",
       "      <td>0 – 5000</td>\n",
       "      <td>22500.0</td>\n",
       "      <td>-27500.0</td>\n",
       "    </tr>\n",
       "    <tr>\n",
       "      <th>109</th>\n",
       "      <td>0 – 5000</td>\n",
       "      <td>4500.0</td>\n",
       "      <td>-500.0</td>\n",
       "    </tr>\n",
       "    <tr>\n",
       "      <th>125</th>\n",
       "      <td>0 – 5000</td>\n",
       "      <td>12500.0</td>\n",
       "      <td>-2500.0</td>\n",
       "    </tr>\n",
       "    <tr>\n",
       "      <th>126</th>\n",
       "      <td>0 – 5000</td>\n",
       "      <td>2500.0</td>\n",
       "      <td>-17500.0</td>\n",
       "    </tr>\n",
       "    <tr>\n",
       "      <th>131</th>\n",
       "      <td>0 – 5000</td>\n",
       "      <td>12500.0</td>\n",
       "      <td>-2500.0</td>\n",
       "    </tr>\n",
       "    <tr>\n",
       "      <th>138</th>\n",
       "      <td>0 – 5000</td>\n",
       "      <td>7500.0</td>\n",
       "      <td>-4500.0</td>\n",
       "    </tr>\n",
       "    <tr>\n",
       "      <th>142</th>\n",
       "      <td>0 – 5000</td>\n",
       "      <td>7500.0</td>\n",
       "      <td>-12500.0</td>\n",
       "    </tr>\n",
       "    <tr>\n",
       "      <th>145</th>\n",
       "      <td>0 – 5000</td>\n",
       "      <td>7500.0</td>\n",
       "      <td>-4500.0</td>\n",
       "    </tr>\n",
       "    <tr>\n",
       "      <th>169</th>\n",
       "      <td>0 – 5000</td>\n",
       "      <td>102500.0</td>\n",
       "      <td>52500.0</td>\n",
       "    </tr>\n",
       "    <tr>\n",
       "      <th>171</th>\n",
       "      <td>0 – 5000</td>\n",
       "      <td>32500.0</td>\n",
       "      <td>-27500.0</td>\n",
       "    </tr>\n",
       "    <tr>\n",
       "      <th>172</th>\n",
       "      <td>0 – 5000</td>\n",
       "      <td>22500.0</td>\n",
       "      <td>7500.0</td>\n",
       "    </tr>\n",
       "    <tr>\n",
       "      <th>189</th>\n",
       "      <td>0 – 5000</td>\n",
       "      <td>22500.0</td>\n",
       "      <td>-7500.0</td>\n",
       "    </tr>\n",
       "    <tr>\n",
       "      <th>194</th>\n",
       "      <td>0 – 5000</td>\n",
       "      <td>2500.0</td>\n",
       "      <td>-7500.0</td>\n",
       "    </tr>\n",
       "    <tr>\n",
       "      <th>204</th>\n",
       "      <td>0 – 5000</td>\n",
       "      <td>2500.0</td>\n",
       "      <td>-27500.0</td>\n",
       "    </tr>\n",
       "    <tr>\n",
       "      <th>228</th>\n",
       "      <td>0 – 5000</td>\n",
       "      <td>3500.0</td>\n",
       "      <td>-16500.0</td>\n",
       "    </tr>\n",
       "    <tr>\n",
       "      <th>230</th>\n",
       "      <td>0 – 5000</td>\n",
       "      <td>4000.0</td>\n",
       "      <td>-1000.0</td>\n",
       "    </tr>\n",
       "    <tr>\n",
       "      <th>272</th>\n",
       "      <td>0 – 5000</td>\n",
       "      <td>3500.0</td>\n",
       "      <td>-21500.0</td>\n",
       "    </tr>\n",
       "    <tr>\n",
       "      <th>278</th>\n",
       "      <td>0 – 5000</td>\n",
       "      <td>12500.0</td>\n",
       "      <td>-17500.0</td>\n",
       "    </tr>\n",
       "    <tr>\n",
       "      <th>287</th>\n",
       "      <td>0 – 5000</td>\n",
       "      <td>22500.0</td>\n",
       "      <td>22498.0</td>\n",
       "    </tr>\n",
       "    <tr>\n",
       "      <th>288</th>\n",
       "      <td>0 – 5000</td>\n",
       "      <td>102500.0</td>\n",
       "      <td>52500.0</td>\n",
       "    </tr>\n",
       "    <tr>\n",
       "      <th>290</th>\n",
       "      <td>0 – 5000</td>\n",
       "      <td>12500.0</td>\n",
       "      <td>-7500.0</td>\n",
       "    </tr>\n",
       "  </tbody>\n",
       "</table>\n",
       "</div>"
      ],
      "text/plain": [
       "    What is your steady/constant income range in a month?  Total Income  \\\n",
       "0                                             0 – 5000              NaN   \n",
       "28                                            0 – 5000           5500.0   \n",
       "37                                            0 – 5000          12500.0   \n",
       "44                                            0 – 5000           7500.0   \n",
       "52                                            0 – 5000          22500.0   \n",
       "55                                            0 – 5000           2500.0   \n",
       "69                                            0 – 5000           2500.0   \n",
       "73                                            0 – 5000           2500.0   \n",
       "91                                            0 – 5000          22500.0   \n",
       "109                                           0 – 5000           4500.0   \n",
       "125                                           0 – 5000          12500.0   \n",
       "126                                           0 – 5000           2500.0   \n",
       "131                                           0 – 5000          12500.0   \n",
       "138                                           0 – 5000           7500.0   \n",
       "142                                           0 – 5000           7500.0   \n",
       "145                                           0 – 5000           7500.0   \n",
       "169                                           0 – 5000         102500.0   \n",
       "171                                           0 – 5000          32500.0   \n",
       "172                                           0 – 5000          22500.0   \n",
       "189                                           0 – 5000          22500.0   \n",
       "194                                           0 – 5000           2500.0   \n",
       "204                                           0 – 5000           2500.0   \n",
       "228                                           0 – 5000           3500.0   \n",
       "230                                           0 – 5000           4000.0   \n",
       "272                                           0 – 5000           3500.0   \n",
       "278                                           0 – 5000          12500.0   \n",
       "287                                           0 – 5000          22500.0   \n",
       "288                                           0 – 5000         102500.0   \n",
       "290                                           0 – 5000          12500.0   \n",
       "\n",
       "     Money to save  \n",
       "0              NaN  \n",
       "28        -14500.0  \n",
       "37        -17500.0  \n",
       "44          2500.0  \n",
       "52          7500.0  \n",
       "55          2475.0  \n",
       "69        -17500.0  \n",
       "73        -97500.0  \n",
       "91        -27500.0  \n",
       "109         -500.0  \n",
       "125        -2500.0  \n",
       "126       -17500.0  \n",
       "131        -2500.0  \n",
       "138        -4500.0  \n",
       "142       -12500.0  \n",
       "145        -4500.0  \n",
       "169        52500.0  \n",
       "171       -27500.0  \n",
       "172         7500.0  \n",
       "189        -7500.0  \n",
       "194        -7500.0  \n",
       "204       -27500.0  \n",
       "228       -16500.0  \n",
       "230        -1000.0  \n",
       "272       -21500.0  \n",
       "278       -17500.0  \n",
       "287        22498.0  \n",
       "288        52500.0  \n",
       "290        -7500.0  "
      ]
     },
     "execution_count": 64,
     "metadata": {},
     "output_type": "execute_result"
    }
   ],
   "source": [
    "Money_matter[Money_matter['What is your steady/constant income range in a month?'] == '0 – 5000']"
   ]
  },
  {
   "cell_type": "code",
   "execution_count": 65,
   "metadata": {},
   "outputs": [
    {
     "data": {
      "text/html": [
       "<div>\n",
       "<style scoped>\n",
       "    .dataframe tbody tr th:only-of-type {\n",
       "        vertical-align: middle;\n",
       "    }\n",
       "\n",
       "    .dataframe tbody tr th {\n",
       "        vertical-align: top;\n",
       "    }\n",
       "\n",
       "    .dataframe thead th {\n",
       "        text-align: right;\n",
       "    }\n",
       "</style>\n",
       "<table border=\"1\" class=\"dataframe\">\n",
       "  <thead>\n",
       "    <tr style=\"text-align: right;\">\n",
       "      <th></th>\n",
       "      <th>What is your steady/constant income range in a month?</th>\n",
       "      <th>Total Income</th>\n",
       "      <th>Money to save</th>\n",
       "    </tr>\n",
       "  </thead>\n",
       "  <tbody>\n",
       "    <tr>\n",
       "      <th>183</th>\n",
       "      <td>21,000 – 50,000</td>\n",
       "      <td>2.855000e+05</td>\n",
       "      <td>2.255000e+05</td>\n",
       "    </tr>\n",
       "    <tr>\n",
       "      <th>191</th>\n",
       "      <td>21,000 – 50,000</td>\n",
       "      <td>1.555000e+05</td>\n",
       "      <td>1.055000e+05</td>\n",
       "    </tr>\n",
       "    <tr>\n",
       "      <th>203</th>\n",
       "      <td>21,000 – 50,000</td>\n",
       "      <td>1.055000e+05</td>\n",
       "      <td>1.054500e+05</td>\n",
       "    </tr>\n",
       "    <tr>\n",
       "      <th>212</th>\n",
       "      <td>21,000 – 50,000</td>\n",
       "      <td>5.355000e+05</td>\n",
       "      <td>3.855000e+05</td>\n",
       "    </tr>\n",
       "    <tr>\n",
       "      <th>256</th>\n",
       "      <td>21,000 – 50,000</td>\n",
       "      <td>1.000004e+10</td>\n",
       "      <td>9.999996e+09</td>\n",
       "    </tr>\n",
       "  </tbody>\n",
       "</table>\n",
       "</div>"
      ],
      "text/plain": [
       "    What is your steady/constant income range in a month?  Total Income  \\\n",
       "183                                    21,000 – 50,000     2.855000e+05   \n",
       "191                                    21,000 – 50,000     1.555000e+05   \n",
       "203                                    21,000 – 50,000     1.055000e+05   \n",
       "212                                    21,000 – 50,000     5.355000e+05   \n",
       "256                                    21,000 – 50,000     1.000004e+10   \n",
       "\n",
       "     Money to save  \n",
       "183   2.255000e+05  \n",
       "191   1.055000e+05  \n",
       "203   1.054500e+05  \n",
       "212   3.855000e+05  \n",
       "256   9.999996e+09  "
      ]
     },
     "execution_count": 65,
     "metadata": {},
     "output_type": "execute_result"
    }
   ],
   "source": [
    "Money_matter[(Money_matter['What is your steady/constant income range in a month?'] == '21,000 – 50,000') & (Money_matter['Money to save'] > 100000)]"
   ]
  },
  {
   "cell_type": "code",
   "execution_count": null,
   "metadata": {},
   "outputs": [],
   "source": []
  },
  {
   "cell_type": "code",
   "execution_count": 66,
   "metadata": {},
   "outputs": [],
   "source": [
    "Money_matter.drop(256, axis = 0, inplace = True)"
   ]
  },
  {
   "cell_type": "code",
   "execution_count": 67,
   "metadata": {},
   "outputs": [
    {
     "data": {
      "text/html": [
       "<div>\n",
       "<style scoped>\n",
       "    .dataframe tbody tr th:only-of-type {\n",
       "        vertical-align: middle;\n",
       "    }\n",
       "\n",
       "    .dataframe tbody tr th {\n",
       "        vertical-align: top;\n",
       "    }\n",
       "\n",
       "    .dataframe thead th {\n",
       "        text-align: right;\n",
       "    }\n",
       "</style>\n",
       "<table border=\"1\" class=\"dataframe\">\n",
       "  <thead>\n",
       "    <tr style=\"text-align: right;\">\n",
       "      <th></th>\n",
       "      <th>What is your steady/constant income range in a month?</th>\n",
       "      <th>Total Income</th>\n",
       "      <th>Money to save</th>\n",
       "    </tr>\n",
       "  </thead>\n",
       "  <tbody>\n",
       "    <tr>\n",
       "      <th>183</th>\n",
       "      <td>21,000 – 50,000</td>\n",
       "      <td>285500.0</td>\n",
       "      <td>225500.0</td>\n",
       "    </tr>\n",
       "    <tr>\n",
       "      <th>191</th>\n",
       "      <td>21,000 – 50,000</td>\n",
       "      <td>155500.0</td>\n",
       "      <td>105500.0</td>\n",
       "    </tr>\n",
       "    <tr>\n",
       "      <th>203</th>\n",
       "      <td>21,000 – 50,000</td>\n",
       "      <td>105500.0</td>\n",
       "      <td>105450.0</td>\n",
       "    </tr>\n",
       "    <tr>\n",
       "      <th>212</th>\n",
       "      <td>21,000 – 50,000</td>\n",
       "      <td>535500.0</td>\n",
       "      <td>385500.0</td>\n",
       "    </tr>\n",
       "  </tbody>\n",
       "</table>\n",
       "</div>"
      ],
      "text/plain": [
       "    What is your steady/constant income range in a month?  Total Income  \\\n",
       "183                                    21,000 – 50,000         285500.0   \n",
       "191                                    21,000 – 50,000         155500.0   \n",
       "203                                    21,000 – 50,000         105500.0   \n",
       "212                                    21,000 – 50,000         535500.0   \n",
       "\n",
       "     Money to save  \n",
       "183       225500.0  \n",
       "191       105500.0  \n",
       "203       105450.0  \n",
       "212       385500.0  "
      ]
     },
     "execution_count": 67,
     "metadata": {},
     "output_type": "execute_result"
    }
   ],
   "source": [
    "Money_matter[(Money_matter['What is your steady/constant income range in a month?'] == '21,000 – 50,000') & (Money_matter['Money to save'] > 100000)]"
   ]
  },
  {
   "cell_type": "code",
   "execution_count": 68,
   "metadata": {},
   "outputs": [
    {
     "data": {
      "text/plain": [
       "What is your steady/constant income range in a month?\n",
       "0 – 5000              -7340.250000\n",
       "5000 – 10,000          5804.444444\n",
       "11,000 – 20,000       12396.379310\n",
       "21,000 – 50,000       34508.641975\n",
       "51,000 – 80,000       73421.515152\n",
       "81,000 – 100,000      50355.714286\n",
       "110,000 – 200,000    111770.540541\n",
       "201,000 – 300,000    243760.826087\n",
       "301,000 – 500,000    387150.000000\n",
       "500,000 – 1000000    810000.000000\n",
       "Name: Money to save, dtype: float64"
      ]
     },
     "execution_count": 68,
     "metadata": {},
     "output_type": "execute_result"
    }
   ],
   "source": [
    "Savings_grouped = Money_matter.groupby('What is your steady/constant income range in a month?')['Money to save'].mean()\n",
    "Savings_grouped = Savings_grouped.reindex(['0 – 5000', '5000 – 10,000', '11,000 – 20,000', '21,000 – 50,000', '51,000 – 80,000',\n",
    "                         '81,000 – 100,000','110,000 – 200,000','201,000 – 300,000','301,000 – 500,000', '500,000 – 1000000'])\n",
    "Savings_grouped"
   ]
  },
  {
   "cell_type": "code",
   "execution_count": 69,
   "metadata": {},
   "outputs": [
    {
     "data": {
      "text/plain": [
       "Index(['0 – 5000', '5000 – 10,000', '11,000 – 20,000', '21,000 – 50,000',\n",
       "       '51,000 – 80,000', '81,000 – 100,000', '110,000 – 200,000',\n",
       "       '201,000 – 300,000', '301,000 – 500,000', '500,000 – 1000000'],\n",
       "      dtype='object', name='What is your steady/constant income range in a month?')"
      ]
     },
     "execution_count": 69,
     "metadata": {},
     "output_type": "execute_result"
    }
   ],
   "source": [
    "Savings_grouped.index"
   ]
  },
  {
   "cell_type": "code",
   "execution_count": 74,
   "metadata": {},
   "outputs": [
    {
     "data": {
      "text/plain": [
       "pandas.core.series.Series"
      ]
     },
     "execution_count": 74,
     "metadata": {},
     "output_type": "execute_result"
    }
   ],
   "source": [
    "type(Savings_grouped)"
   ]
  },
  {
   "cell_type": "code",
   "execution_count": null,
   "metadata": {},
   "outputs": [],
   "source": [
    "pd;"
   ]
  },
  {
   "cell_type": "code",
   "execution_count": 70,
   "metadata": {},
   "outputs": [
    {
     "data": {
      "text/plain": [
       "array([ -7340.,   5804.,  12396.,  34509.,  73422.,  50356., 111771.,\n",
       "       243761., 387150., 810000.])"
      ]
     },
     "execution_count": 70,
     "metadata": {},
     "output_type": "execute_result"
    }
   ],
   "source": [
    "Savings_array = np.asarray(Savings_grouped).round()\n",
    "\n",
    "Savings_array "
   ]
  },
  {
   "cell_type": "code",
   "execution_count": null,
   "metadata": {},
   "outputs": [],
   "source": []
  },
  {
   "cell_type": "code",
   "execution_count": 80,
   "metadata": {},
   "outputs": [
    {
     "data": {
      "text/plain": [
       "What is your steady/constant income range in a month?\n",
       "0 – 5000                                                      -7340.25\n",
       "5000 – 10,000                                                  5804.44\n",
       "11,000 – 20,000                                                12396.4\n",
       "21,000 – 50,000                                                34508.6\n",
       "51,000 – 80,000                                                73421.5\n",
       "81,000 – 100,000                                               50355.7\n",
       "110,000 – 200,000                                               111771\n",
       "201,000 – 300,000                                               243761\n",
       "301,000 – 500,000                                               387150\n",
       "500,000 – 1000000                                               810000\n",
       "colour               [red, green, green, green, green, green, green...\n",
       "Name: Money to save, dtype: object"
      ]
     },
     "execution_count": 80,
     "metadata": {},
     "output_type": "execute_result"
    }
   ],
   "source": [
    "Savings_grouped['colour'] =  ['green' if x > 0 else 'red' for x in Savings_grouped[: -1]]\n",
    "Savings_grouped"
   ]
  },
  {
   "cell_type": "code",
   "execution_count": 81,
   "metadata": {},
   "outputs": [
    {
     "data": {
      "text/plain": [
       "['red',\n",
       " 'green',\n",
       " 'green',\n",
       " 'green',\n",
       " 'green',\n",
       " 'green',\n",
       " 'green',\n",
       " 'green',\n",
       " 'green',\n",
       " 'green']"
      ]
     },
     "execution_count": 81,
     "metadata": {},
     "output_type": "execute_result"
    }
   ],
   "source": [
    "Savings_grouped['colour']"
   ]
  },
  {
   "cell_type": "code",
   "execution_count": 82,
   "metadata": {},
   "outputs": [
    {
     "data": {
      "text/html": [
       "<div>\n",
       "<style scoped>\n",
       "    .dataframe tbody tr th:only-of-type {\n",
       "        vertical-align: middle;\n",
       "    }\n",
       "\n",
       "    .dataframe tbody tr th {\n",
       "        vertical-align: top;\n",
       "    }\n",
       "\n",
       "    .dataframe thead th {\n",
       "        text-align: right;\n",
       "    }\n",
       "</style>\n",
       "<table border=\"1\" class=\"dataframe\">\n",
       "  <thead>\n",
       "    <tr style=\"text-align: right;\">\n",
       "      <th></th>\n",
       "      <th>Savings</th>\n",
       "      <th>colour</th>\n",
       "    </tr>\n",
       "  </thead>\n",
       "  <tbody>\n",
       "    <tr>\n",
       "      <th>0</th>\n",
       "      <td>-7340.0</td>\n",
       "      <td>red</td>\n",
       "    </tr>\n",
       "    <tr>\n",
       "      <th>1</th>\n",
       "      <td>5804.0</td>\n",
       "      <td>green</td>\n",
       "    </tr>\n",
       "    <tr>\n",
       "      <th>2</th>\n",
       "      <td>12396.0</td>\n",
       "      <td>green</td>\n",
       "    </tr>\n",
       "    <tr>\n",
       "      <th>3</th>\n",
       "      <td>34509.0</td>\n",
       "      <td>green</td>\n",
       "    </tr>\n",
       "    <tr>\n",
       "      <th>4</th>\n",
       "      <td>73422.0</td>\n",
       "      <td>green</td>\n",
       "    </tr>\n",
       "    <tr>\n",
       "      <th>5</th>\n",
       "      <td>50356.0</td>\n",
       "      <td>green</td>\n",
       "    </tr>\n",
       "    <tr>\n",
       "      <th>6</th>\n",
       "      <td>111771.0</td>\n",
       "      <td>green</td>\n",
       "    </tr>\n",
       "    <tr>\n",
       "      <th>7</th>\n",
       "      <td>243761.0</td>\n",
       "      <td>green</td>\n",
       "    </tr>\n",
       "    <tr>\n",
       "      <th>8</th>\n",
       "      <td>387150.0</td>\n",
       "      <td>green</td>\n",
       "    </tr>\n",
       "    <tr>\n",
       "      <th>9</th>\n",
       "      <td>810000.0</td>\n",
       "      <td>green</td>\n",
       "    </tr>\n",
       "  </tbody>\n",
       "</table>\n",
       "</div>"
      ],
      "text/plain": [
       "    Savings colour\n",
       "0   -7340.0    red\n",
       "1    5804.0  green\n",
       "2   12396.0  green\n",
       "3   34509.0  green\n",
       "4   73422.0  green\n",
       "5   50356.0  green\n",
       "6  111771.0  green\n",
       "7  243761.0  green\n",
       "8  387150.0  green\n",
       "9  810000.0  green"
      ]
     },
     "execution_count": 82,
     "metadata": {},
     "output_type": "execute_result"
    }
   ],
   "source": [
    "Savings_df = pd.DataFrame({'Savings' : Savings_array, 'colour': Savings_grouped['colour']})\n",
    "Savings_df"
   ]
  },
  {
   "cell_type": "code",
   "execution_count": 83,
   "metadata": {},
   "outputs": [],
   "source": [
    "Savings_df.set_index(Savings_grouped.index[:10], inplace = True)"
   ]
  },
  {
   "cell_type": "code",
   "execution_count": 84,
   "metadata": {},
   "outputs": [
    {
     "data": {
      "text/html": [
       "<div>\n",
       "<style scoped>\n",
       "    .dataframe tbody tr th:only-of-type {\n",
       "        vertical-align: middle;\n",
       "    }\n",
       "\n",
       "    .dataframe tbody tr th {\n",
       "        vertical-align: top;\n",
       "    }\n",
       "\n",
       "    .dataframe thead th {\n",
       "        text-align: right;\n",
       "    }\n",
       "</style>\n",
       "<table border=\"1\" class=\"dataframe\">\n",
       "  <thead>\n",
       "    <tr style=\"text-align: right;\">\n",
       "      <th></th>\n",
       "      <th>Savings</th>\n",
       "      <th>colour</th>\n",
       "    </tr>\n",
       "    <tr>\n",
       "      <th>What is your steady/constant income range in a month?</th>\n",
       "      <th></th>\n",
       "      <th></th>\n",
       "    </tr>\n",
       "  </thead>\n",
       "  <tbody>\n",
       "    <tr>\n",
       "      <th>0 – 5000</th>\n",
       "      <td>-7340.0</td>\n",
       "      <td>red</td>\n",
       "    </tr>\n",
       "    <tr>\n",
       "      <th>5000 – 10,000</th>\n",
       "      <td>5804.0</td>\n",
       "      <td>green</td>\n",
       "    </tr>\n",
       "    <tr>\n",
       "      <th>11,000 – 20,000</th>\n",
       "      <td>12396.0</td>\n",
       "      <td>green</td>\n",
       "    </tr>\n",
       "    <tr>\n",
       "      <th>21,000 – 50,000</th>\n",
       "      <td>34509.0</td>\n",
       "      <td>green</td>\n",
       "    </tr>\n",
       "    <tr>\n",
       "      <th>51,000 – 80,000</th>\n",
       "      <td>73422.0</td>\n",
       "      <td>green</td>\n",
       "    </tr>\n",
       "    <tr>\n",
       "      <th>81,000 – 100,000</th>\n",
       "      <td>50356.0</td>\n",
       "      <td>green</td>\n",
       "    </tr>\n",
       "    <tr>\n",
       "      <th>110,000 – 200,000</th>\n",
       "      <td>111771.0</td>\n",
       "      <td>green</td>\n",
       "    </tr>\n",
       "    <tr>\n",
       "      <th>201,000 – 300,000</th>\n",
       "      <td>243761.0</td>\n",
       "      <td>green</td>\n",
       "    </tr>\n",
       "    <tr>\n",
       "      <th>301,000 – 500,000</th>\n",
       "      <td>387150.0</td>\n",
       "      <td>green</td>\n",
       "    </tr>\n",
       "    <tr>\n",
       "      <th>500,000 – 1000000</th>\n",
       "      <td>810000.0</td>\n",
       "      <td>green</td>\n",
       "    </tr>\n",
       "  </tbody>\n",
       "</table>\n",
       "</div>"
      ],
      "text/plain": [
       "                                                     Savings colour\n",
       "What is your steady/constant income range in a ...                 \n",
       "0 – 5000                                             -7340.0    red\n",
       "5000 – 10,000                                         5804.0  green\n",
       "11,000 – 20,000                                      12396.0  green\n",
       "21,000 – 50,000                                      34509.0  green\n",
       "51,000 – 80,000                                      73422.0  green\n",
       "81,000 – 100,000                                     50356.0  green\n",
       "110,000 – 200,000                                   111771.0  green\n",
       "201,000 – 300,000                                   243761.0  green\n",
       "301,000 – 500,000                                   387150.0  green\n",
       "500,000 – 1000000                                   810000.0  green"
      ]
     },
     "execution_count": 84,
     "metadata": {},
     "output_type": "execute_result"
    }
   ],
   "source": [
    "Savings_df"
   ]
  },
  {
   "cell_type": "code",
   "execution_count": 87,
   "metadata": {},
   "outputs": [
    {
     "data": {
      "image/png": "[encoded data removed]",
      "text/plain": [
       "<Figure size 720x360 with 1 Axes>"
      ]
     },
     "metadata": {
      "needs_background": "light"
     },
     "output_type": "display_data"
    }
   ],
   "source": [
    "plt.figure(figsize = [10, 5])\n",
    "plt.hlines(y = Savings_df.index, xmin = 0, xmax = Savings_df.Savings, color = Savings_df.colour, alpha = 0.8, linewidth = 10)\n",
    "plt.gca().set(ylabel = '$Salary Range$', xlabel = '$Monthly Saving$')\n",
    "plt.title('Money left after monthly expenses')\n",
    "plt.grid(linestyle = '--', alpha = 1)"
   ]
  },
  {
   "cell_type": "markdown",
   "metadata": {},
   "source": [
    "## OBSERVATION \n",
    "\n",
    "74% of our sample size save less than 80, 000 naira monthly.\n"
   ]
  },
  {
   "cell_type": "markdown",
   "metadata": {},
   "source": []
  },
  {
   "cell_type": "code",
   "execution_count": null,
   "metadata": {},
   "outputs": [],
   "source": []
  }
 ],
 "metadata": {
  "kernelspec": {
   "display_name": "Python 3",
   "language": "python",
   "name": "python3"
  },
  "language_info": {
   "codemirror_mode": {
    "name": "ipython",
    "version": 3
   },
   "file_extension": ".py",
   "mimetype": "text/x-python",
   "name": "python",
   "nbconvert_exporter": "python",
   "pygments_lexer": "ipython3",
   "version": "3.7.1"
  }
 },
 "nbformat": 4,
 "nbformat_minor": 2
}
